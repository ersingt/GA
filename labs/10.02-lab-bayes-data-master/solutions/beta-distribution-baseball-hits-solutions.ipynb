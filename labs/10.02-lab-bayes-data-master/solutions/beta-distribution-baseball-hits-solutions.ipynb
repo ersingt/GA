{
 "cells": [
  {
   "cell_type": "markdown",
   "metadata": {},
   "source": [
    "<img src=\"http://imgur.com/1ZcRyrc.png\" style=\"float: left; margin: 20px; height: 55px\">\n",
    "\n",
    "# Bayesian Statistics With Baseball Data: Priors and Posteriors\n",
    "\n",
    "_Authors: Kiefer Katovich (SF), Justin Pounders_\n",
    "\n",
    "---\n",
    "\n",
    "Let’s review the general set up for Bayesian modeling. We have:\n",
    "\n",
    "### $$P\\left(\\text{model}|\\text{data}\\right) = \\frac{P\\left(\\text{data}|\\text{model}\\right)P\\left(\\text{model}\\right)}{P(\\text{data})} $$\n",
    "\n",
    "This is the diachronic interpretation of Bayes' theorem.\n",
    "\n",
    "It can also be written as:\n",
    "\n",
    "### $$\\text{posterior} \\propto \\text{likelihood} \\times \\text{prior}$$\n",
    "\n",
    "Here, the posterior is an update of our prior belief given the data observed."
   ]
  },
  {
   "cell_type": "code",
   "execution_count": 1,
   "metadata": {},
   "outputs": [],
   "source": [
    "import matplotlib.pyplot as plt\n",
    "import numpy as np\n",
    "import pandas as pd\n",
    "import seaborn as sns\n",
    "\n",
    "plt.style.use('fivethirtyeight')\n",
    "\n",
    "%matplotlib inline\n",
    "%config InlineBackend.figure_format = 'retina'\n",
    "\n",
    "from scipy.stats import beta"
   ]
  },
  {
   "cell_type": "markdown",
   "metadata": {},
   "source": [
    "## Bayesian Analysis of Batting Averages\n",
    "\n",
    "---\n",
    "\n",
    "Load in the simple batting average data for players below. There are just four fields in the data set: the player's name, their times at bat, their hits, and their batting average.\n",
    "\n",
    "> *Note: [This section of the lab is a partial replication of this exercise in R, if you're interested](https://www.r-bloggers.com/understanding-empirical-bayes-estimation-using-baseball-statistics/). Here, we took out the empirical Bayes section because it's not technically a correct interpretation of Bayesian statistical analysis.*"
   ]
  },
  {
   "cell_type": "code",
   "execution_count": 2,
   "metadata": {},
   "outputs": [],
   "source": [
    "hits = pd.read_csv('../data/career_hits.csv')"
   ]
  },
  {
   "cell_type": "code",
   "execution_count": 3,
   "metadata": {},
   "outputs": [
    {
     "data": {
      "text/html": [
       "<div>\n",
       "<style scoped>\n",
       "    .dataframe tbody tr th:only-of-type {\n",
       "        vertical-align: middle;\n",
       "    }\n",
       "\n",
       "    .dataframe tbody tr th {\n",
       "        vertical-align: top;\n",
       "    }\n",
       "\n",
       "    .dataframe thead th {\n",
       "        text-align: right;\n",
       "    }\n",
       "</style>\n",
       "<table border=\"1\" class=\"dataframe\">\n",
       "  <thead>\n",
       "    <tr style=\"text-align: right;\">\n",
       "      <th></th>\n",
       "      <th>name</th>\n",
       "      <th>hits</th>\n",
       "      <th>at_bat</th>\n",
       "      <th>average</th>\n",
       "    </tr>\n",
       "  </thead>\n",
       "  <tbody>\n",
       "    <tr>\n",
       "      <th>0</th>\n",
       "      <td>Hank Aaron</td>\n",
       "      <td>3771</td>\n",
       "      <td>12364</td>\n",
       "      <td>0.304998</td>\n",
       "    </tr>\n",
       "    <tr>\n",
       "      <th>1</th>\n",
       "      <td>Tommie Aaron</td>\n",
       "      <td>216</td>\n",
       "      <td>944</td>\n",
       "      <td>0.228814</td>\n",
       "    </tr>\n",
       "    <tr>\n",
       "      <th>2</th>\n",
       "      <td>Andy Abad</td>\n",
       "      <td>2</td>\n",
       "      <td>21</td>\n",
       "      <td>0.095238</td>\n",
       "    </tr>\n",
       "    <tr>\n",
       "      <th>3</th>\n",
       "      <td>John Abadie</td>\n",
       "      <td>11</td>\n",
       "      <td>49</td>\n",
       "      <td>0.224490</td>\n",
       "    </tr>\n",
       "    <tr>\n",
       "      <th>4</th>\n",
       "      <td>Ed Abbaticchio</td>\n",
       "      <td>772</td>\n",
       "      <td>3044</td>\n",
       "      <td>0.253614</td>\n",
       "    </tr>\n",
       "  </tbody>\n",
       "</table>\n",
       "</div>"
      ],
      "text/plain": [
       "             name  hits  at_bat   average\n",
       "0      Hank Aaron  3771   12364  0.304998\n",
       "1    Tommie Aaron   216     944  0.228814\n",
       "2       Andy Abad     2      21  0.095238\n",
       "3     John Abadie    11      49  0.224490\n",
       "4  Ed Abbaticchio   772    3044  0.253614"
      ]
     },
     "execution_count": 3,
     "metadata": {},
     "output_type": "execute_result"
    }
   ],
   "source": [
    "hits.head()"
   ]
  },
  {
   "cell_type": "markdown",
   "metadata": {},
   "source": [
    "### 1) Find the top and bottom three hitters according to their average.\n",
    "\n",
    "What is wrong with using the average to find the three best and worst hitters?"
   ]
  },
  {
   "cell_type": "code",
   "execution_count": 4,
   "metadata": {},
   "outputs": [
    {
     "data": {
      "text/html": [
       "<div>\n",
       "<style scoped>\n",
       "    .dataframe tbody tr th:only-of-type {\n",
       "        vertical-align: middle;\n",
       "    }\n",
       "\n",
       "    .dataframe tbody tr th {\n",
       "        vertical-align: top;\n",
       "    }\n",
       "\n",
       "    .dataframe thead th {\n",
       "        text-align: right;\n",
       "    }\n",
       "</style>\n",
       "<table border=\"1\" class=\"dataframe\">\n",
       "  <thead>\n",
       "    <tr style=\"text-align: right;\">\n",
       "      <th></th>\n",
       "      <th>name</th>\n",
       "      <th>hits</th>\n",
       "      <th>at_bat</th>\n",
       "      <th>average</th>\n",
       "    </tr>\n",
       "  </thead>\n",
       "  <tbody>\n",
       "    <tr>\n",
       "      <th>5853</th>\n",
       "      <td>John Mohardt</td>\n",
       "      <td>1</td>\n",
       "      <td>1</td>\n",
       "      <td>1.0</td>\n",
       "    </tr>\n",
       "    <tr>\n",
       "      <th>9303</th>\n",
       "      <td>Al Wright</td>\n",
       "      <td>1</td>\n",
       "      <td>1</td>\n",
       "      <td>1.0</td>\n",
       "    </tr>\n",
       "    <tr>\n",
       "      <th>359</th>\n",
       "      <td>Jeff Banister</td>\n",
       "      <td>1</td>\n",
       "      <td>1</td>\n",
       "      <td>1.0</td>\n",
       "    </tr>\n",
       "  </tbody>\n",
       "</table>\n",
       "</div>"
      ],
      "text/plain": [
       "               name  hits  at_bat  average\n",
       "5853   John Mohardt     1       1      1.0\n",
       "9303      Al Wright     1       1      1.0\n",
       "359   Jeff Banister     1       1      1.0"
      ]
     },
     "execution_count": 4,
     "metadata": {},
     "output_type": "execute_result"
    }
   ],
   "source": [
    "hits.sort_values('average', ascending=False).head(3)"
   ]
  },
  {
   "cell_type": "code",
   "execution_count": 5,
   "metadata": {},
   "outputs": [
    {
     "data": {
      "text/html": [
       "<div>\n",
       "<style scoped>\n",
       "    .dataframe tbody tr th:only-of-type {\n",
       "        vertical-align: middle;\n",
       "    }\n",
       "\n",
       "    .dataframe tbody tr th {\n",
       "        vertical-align: top;\n",
       "    }\n",
       "\n",
       "    .dataframe thead th {\n",
       "        text-align: right;\n",
       "    }\n",
       "</style>\n",
       "<table border=\"1\" class=\"dataframe\">\n",
       "  <thead>\n",
       "    <tr style=\"text-align: right;\">\n",
       "      <th></th>\n",
       "      <th>name</th>\n",
       "      <th>hits</th>\n",
       "      <th>at_bat</th>\n",
       "      <th>average</th>\n",
       "    </tr>\n",
       "  </thead>\n",
       "  <tbody>\n",
       "    <tr>\n",
       "      <th>1494</th>\n",
       "      <td>Larry Ciaffone</td>\n",
       "      <td>0</td>\n",
       "      <td>5</td>\n",
       "      <td>0.0</td>\n",
       "    </tr>\n",
       "    <tr>\n",
       "      <th>7303</th>\n",
       "      <td>Jay Rogers</td>\n",
       "      <td>0</td>\n",
       "      <td>8</td>\n",
       "      <td>0.0</td>\n",
       "    </tr>\n",
       "    <tr>\n",
       "      <th>2552</th>\n",
       "      <td>Ferd Eunick</td>\n",
       "      <td>0</td>\n",
       "      <td>2</td>\n",
       "      <td>0.0</td>\n",
       "    </tr>\n",
       "  </tbody>\n",
       "</table>\n",
       "</div>"
      ],
      "text/plain": [
       "                name  hits  at_bat  average\n",
       "1494  Larry Ciaffone     0       5      0.0\n",
       "7303      Jay Rogers     0       8      0.0\n",
       "2552     Ferd Eunick     0       2      0.0"
      ]
     },
     "execution_count": 5,
     "metadata": {},
     "output_type": "execute_result"
    }
   ],
   "source": [
    "hits.sort_values('average', ascending=True).head(3)"
   ]
  },
  {
   "cell_type": "markdown",
   "metadata": {},
   "source": [
    "### 2) Set up a prior distribution to represent our belief about batting average.\n",
    "\n",
    "[After doing a quick search online](https://www.google.com/search?q=average+batting+average+for+players+mlb&oq=average+batting+average+for+players+mlb&aqs=chrome..69i57j0.7373j0j4&sourceid=chrome&ie=UTF-8), it looks like the overall batting average for MLB baseball players is around 0.260.\n",
    "\n",
    "Let's make it simple and say that our prior belief is that, out of 100 at-bats, we’ve seen 26 hits. Set up a beta distribution with `alpha=26` and `beta=74`. Plot it with the function from above.\n",
    "\n",
    "**Take a look at the beta distribution's mean and variance to justify to yourself that these hyperparamters make sense!**\n",
    "\n",
    "This is our distribution of beliefs on the batting average (probability of hitting while at bat) for MLB players."
   ]
  },
  {
   "cell_type": "code",
   "execution_count": 6,
   "metadata": {},
   "outputs": [
    {
     "data": {
      "image/png": "[encoded data removed]",
      "text/plain": [
       "<Figure size 288x288 with 1 Axes>"
      ]
     },
     "metadata": {
      "image/png": {
       "height": 285,
       "width": 294
      },
      "needs_background": "light"
     },
     "output_type": "display_data"
    }
   ],
   "source": [
    "alpha_prior = 26\n",
    "beta_prior = 74\n",
    "\n",
    "p = np.linspace(0.01, 0.99, 100)\n",
    "prior = beta(alpha_prior, beta_prior)\n",
    "\n",
    "plt.figure(figsize=(4,4))\n",
    "plt.plot(p, prior.pdf(p), lw=2)\n",
    "plt.title(str(alpha_prior)+' alpha, '+str(beta_prior)+' beta', fontsize=20)\n",
    "plt.xlabel('Batting average', fontsize=16)\n",
    "plt.ylabel('PDF', fontsize=16)\n",
    "plt.show()"
   ]
  },
  {
   "cell_type": "markdown",
   "metadata": {},
   "source": [
    "### 3) Calculate the maximum a posteriori (MAP) estimate of players' batting averages.\n",
    "\n",
    "The maximum a posteriori (MAP) estimate is the mode of a posterior distribution for a statistical parameter.\n",
    "\n",
    "In our case, the MAP estimate for our players' batting averages will be the mode of the posterior beta distribution we get from updating our prior distribution with their at bats and hits.\n",
    "\n",
    "---\n",
    "\n",
    "> *Note: For an additional overview of the math behind updating the beta distribution posterior and conjugate priors, ([check out this website](https://alexanderetz.com/2015/07/25/understanding-bayes-updating-priors-via-the-likelihood/)).*\n",
    "\n",
    "We need to update our beta distribution’s prior belief about batting averages with a player's at-bat and hit information to get a _new_ beta posterior distribution for that player's batting average. \n",
    "\n",
    "Luckily, with the beta distribution, the update is just a matter of adding in our new observations to the alpha and beta parameters, where alpha is the number of hits and beta is the number of misses/strikes:\n",
    "\n",
    "    observed_hits = n_hits\n",
    "    observed_misses = n_misses\n",
    "    beta_prior = Beta(prior_hits+1, prior_misses+1)\n",
    "    beta_posterior = Beta(prior_hits + n_nits + 1, prior_misses + n_misses + 1)\n",
    "    \n",
    "> **Note:** This process will also be useful in the context of A/B testing, which we’ll look at later on.\n",
    "\n",
    "For each player, update the prior to the posterior distribution and calculate the mode of the distribution. The mode of a beta distribution is conveniently defined as:\n",
    "\n",
    "### $$ \\frac{\\alpha - 1}{\\alpha + \\beta -2} $$\n",
    "\n",
    "Which means we don't even need to use SciPy's beta distribution function. Just calculate the new alpha and beta for each player's posterior beta distribution and plug them into the formula above to get the MAP estimate of batting the average."
   ]
  },
  {
   "cell_type": "code",
   "execution_count": 7,
   "metadata": {},
   "outputs": [],
   "source": [
    "def get_map(row):\n",
    "    alpha_posterior = row.hits + alpha_prior\n",
    "    beta_posterior = row.at_bat - row.hits + beta_prior\n",
    "    return (alpha_posterior-1)/(alpha_posterior+beta_posterior-2)\n",
    "\n",
    "hits['MAP'] = hits.apply(get_map, axis=1)"
   ]
  },
  {
   "cell_type": "markdown",
   "metadata": {},
   "source": [
    "### 4) Look up the top and bottom batters according to the MAP estimate."
   ]
  },
  {
   "cell_type": "code",
   "execution_count": 8,
   "metadata": {},
   "outputs": [
    {
     "data": {
      "text/html": [
       "<div>\n",
       "<style scoped>\n",
       "    .dataframe tbody tr th:only-of-type {\n",
       "        vertical-align: middle;\n",
       "    }\n",
       "\n",
       "    .dataframe tbody tr th {\n",
       "        vertical-align: top;\n",
       "    }\n",
       "\n",
       "    .dataframe thead th {\n",
       "        text-align: right;\n",
       "    }\n",
       "</style>\n",
       "<table border=\"1\" class=\"dataframe\">\n",
       "  <thead>\n",
       "    <tr style=\"text-align: right;\">\n",
       "      <th></th>\n",
       "      <th>name</th>\n",
       "      <th>hits</th>\n",
       "      <th>at_bat</th>\n",
       "      <th>average</th>\n",
       "      <th>MAP</th>\n",
       "    </tr>\n",
       "  </thead>\n",
       "  <tbody>\n",
       "    <tr>\n",
       "      <td>0</td>\n",
       "      <td>Hank Aaron</td>\n",
       "      <td>3771</td>\n",
       "      <td>12364</td>\n",
       "      <td>0.304998</td>\n",
       "      <td>0.304606</td>\n",
       "    </tr>\n",
       "    <tr>\n",
       "      <td>1</td>\n",
       "      <td>Tommie Aaron</td>\n",
       "      <td>216</td>\n",
       "      <td>944</td>\n",
       "      <td>0.228814</td>\n",
       "      <td>0.231286</td>\n",
       "    </tr>\n",
       "    <tr>\n",
       "      <td>2</td>\n",
       "      <td>Andy Abad</td>\n",
       "      <td>2</td>\n",
       "      <td>21</td>\n",
       "      <td>0.095238</td>\n",
       "      <td>0.226891</td>\n",
       "    </tr>\n",
       "    <tr>\n",
       "      <td>3</td>\n",
       "      <td>John Abadie</td>\n",
       "      <td>11</td>\n",
       "      <td>49</td>\n",
       "      <td>0.224490</td>\n",
       "      <td>0.244898</td>\n",
       "    </tr>\n",
       "    <tr>\n",
       "      <td>4</td>\n",
       "      <td>Ed Abbaticchio</td>\n",
       "      <td>772</td>\n",
       "      <td>3044</td>\n",
       "      <td>0.253614</td>\n",
       "      <td>0.253660</td>\n",
       "    </tr>\n",
       "  </tbody>\n",
       "</table>\n",
       "</div>"
      ],
      "text/plain": [
       "             name  hits  at_bat   average       MAP\n",
       "0      Hank Aaron  3771   12364  0.304998  0.304606\n",
       "1    Tommie Aaron   216     944  0.228814  0.231286\n",
       "2       Andy Abad     2      21  0.095238  0.226891\n",
       "3     John Abadie    11      49  0.224490  0.244898\n",
       "4  Ed Abbaticchio   772    3044  0.253614  0.253660"
      ]
     },
     "execution_count": 8,
     "metadata": {},
     "output_type": "execute_result"
    }
   ],
   "source": [
    "hits.head()"
   ]
  },
  {
   "cell_type": "code",
   "execution_count": 9,
   "metadata": {},
   "outputs": [
    {
     "data": {
      "text/html": [
       "<div>\n",
       "<style scoped>\n",
       "    .dataframe tbody tr th:only-of-type {\n",
       "        vertical-align: middle;\n",
       "    }\n",
       "\n",
       "    .dataframe tbody tr th {\n",
       "        vertical-align: top;\n",
       "    }\n",
       "\n",
       "    .dataframe thead th {\n",
       "        text-align: right;\n",
       "    }\n",
       "</style>\n",
       "<table border=\"1\" class=\"dataframe\">\n",
       "  <thead>\n",
       "    <tr style=\"text-align: right;\">\n",
       "      <th></th>\n",
       "      <th>name</th>\n",
       "      <th>hits</th>\n",
       "      <th>at_bat</th>\n",
       "      <th>average</th>\n",
       "      <th>MAP</th>\n",
       "    </tr>\n",
       "  </thead>\n",
       "  <tbody>\n",
       "    <tr>\n",
       "      <td>3938</td>\n",
       "      <td>Rogers Hornsby</td>\n",
       "      <td>2930</td>\n",
       "      <td>8173</td>\n",
       "      <td>0.358497</td>\n",
       "      <td>0.357272</td>\n",
       "    </tr>\n",
       "    <tr>\n",
       "      <td>4118</td>\n",
       "      <td>Shoeless Joe Jackson</td>\n",
       "      <td>1772</td>\n",
       "      <td>4981</td>\n",
       "      <td>0.355752</td>\n",
       "      <td>0.353810</td>\n",
       "    </tr>\n",
       "    <tr>\n",
       "      <td>2109</td>\n",
       "      <td>Ed Delahanty</td>\n",
       "      <td>2596</td>\n",
       "      <td>7505</td>\n",
       "      <td>0.345903</td>\n",
       "      <td>0.344732</td>\n",
       "    </tr>\n",
       "    <tr>\n",
       "      <td>3475</td>\n",
       "      <td>Billy Hamilton</td>\n",
       "      <td>2158</td>\n",
       "      <td>6268</td>\n",
       "      <td>0.344288</td>\n",
       "      <td>0.342915</td>\n",
       "    </tr>\n",
       "    <tr>\n",
       "      <td>3663</td>\n",
       "      <td>Harry Heilmann</td>\n",
       "      <td>2660</td>\n",
       "      <td>7787</td>\n",
       "      <td>0.341595</td>\n",
       "      <td>0.340520</td>\n",
       "    </tr>\n",
       "  </tbody>\n",
       "</table>\n",
       "</div>"
      ],
      "text/plain": [
       "                      name  hits  at_bat   average       MAP\n",
       "3938        Rogers Hornsby  2930    8173  0.358497  0.357272\n",
       "4118  Shoeless Joe Jackson  1772    4981  0.355752  0.353810\n",
       "2109          Ed Delahanty  2596    7505  0.345903  0.344732\n",
       "3475        Billy Hamilton  2158    6268  0.344288  0.342915\n",
       "3663        Harry Heilmann  2660    7787  0.341595  0.340520"
      ]
     },
     "execution_count": 9,
     "metadata": {},
     "output_type": "execute_result"
    }
   ],
   "source": [
    "hits.sort_values('MAP', ascending=False).head()"
   ]
  },
  {
   "cell_type": "code",
   "execution_count": 10,
   "metadata": {},
   "outputs": [
    {
     "data": {
      "text/html": [
       "<div>\n",
       "<style scoped>\n",
       "    .dataframe tbody tr th:only-of-type {\n",
       "        vertical-align: middle;\n",
       "    }\n",
       "\n",
       "    .dataframe tbody tr th {\n",
       "        vertical-align: top;\n",
       "    }\n",
       "\n",
       "    .dataframe thead th {\n",
       "        text-align: right;\n",
       "    }\n",
       "</style>\n",
       "<table border=\"1\" class=\"dataframe\">\n",
       "  <thead>\n",
       "    <tr style=\"text-align: right;\">\n",
       "      <th></th>\n",
       "      <th>name</th>\n",
       "      <th>hits</th>\n",
       "      <th>at_bat</th>\n",
       "      <th>average</th>\n",
       "      <th>MAP</th>\n",
       "    </tr>\n",
       "  </thead>\n",
       "  <tbody>\n",
       "    <tr>\n",
       "      <td>4322</td>\n",
       "      <td>Mike Jordan</td>\n",
       "      <td>12</td>\n",
       "      <td>125</td>\n",
       "      <td>0.096000</td>\n",
       "      <td>0.165919</td>\n",
       "    </tr>\n",
       "    <tr>\n",
       "      <td>4031</td>\n",
       "      <td>John Humphries</td>\n",
       "      <td>52</td>\n",
       "      <td>364</td>\n",
       "      <td>0.142857</td>\n",
       "      <td>0.166667</td>\n",
       "    </tr>\n",
       "    <tr>\n",
       "      <td>2987</td>\n",
       "      <td>Ed Gastfield</td>\n",
       "      <td>6</td>\n",
       "      <td>88</td>\n",
       "      <td>0.068182</td>\n",
       "      <td>0.166667</td>\n",
       "    </tr>\n",
       "    <tr>\n",
       "      <td>3113</td>\n",
       "      <td>Buck Gladmon</td>\n",
       "      <td>56</td>\n",
       "      <td>380</td>\n",
       "      <td>0.147368</td>\n",
       "      <td>0.169456</td>\n",
       "    </tr>\n",
       "    <tr>\n",
       "      <td>232</td>\n",
       "      <td>Charlie Armbruster</td>\n",
       "      <td>53</td>\n",
       "      <td>355</td>\n",
       "      <td>0.149296</td>\n",
       "      <td>0.172185</td>\n",
       "    </tr>\n",
       "  </tbody>\n",
       "</table>\n",
       "</div>"
      ],
      "text/plain": [
       "                    name  hits  at_bat   average       MAP\n",
       "4322         Mike Jordan    12     125  0.096000  0.165919\n",
       "4031      John Humphries    52     364  0.142857  0.166667\n",
       "2987        Ed Gastfield     6      88  0.068182  0.166667\n",
       "3113        Buck Gladmon    56     380  0.147368  0.169456\n",
       "232   Charlie Armbruster    53     355  0.149296  0.172185"
      ]
     },
     "execution_count": 10,
     "metadata": {},
     "output_type": "execute_result"
    }
   ],
   "source": [
    "hits.sort_values('MAP', ascending=True).head()"
   ]
  },
  {
   "cell_type": "markdown",
   "metadata": {},
   "source": [
    "### 5) Plot the MLE batting average against the MAP batting average."
   ]
  },
  {
   "cell_type": "code",
   "execution_count": 11,
   "metadata": {},
   "outputs": [
    {
     "data": {
      "image/png": "[encoded data removed]",
      "text/plain": [
       "<Figure size 432x432 with 3 Axes>"
      ]
     },
     "metadata": {
      "image/png": {
       "height": 423,
       "width": 430
      },
      "needs_background": "light"
     },
     "output_type": "display_data"
    }
   ],
   "source": [
    "sns.jointplot('average', 'MAP', data=hits);"
   ]
  }
 ],
 "metadata": {
  "kernelspec": {
   "display_name": "Python 3",
   "language": "python",
   "name": "python3"
  },
  "language_info": {
   "codemirror_mode": {
    "name": "ipython",
    "version": 3
   },
   "file_extension": ".py",
   "mimetype": "text/x-python",
   "name": "python",
   "nbconvert_exporter": "python",
   "pygments_lexer": "ipython3",
   "version": "3.7.6"
  }
 },
 "nbformat": 4,
 "nbformat_minor": 4
}
