{
 "cells": [
  {
   "cell_type": "markdown",
   "metadata": {},
   "source": [
    "# Capstone Ideas:"
   ]
  },
  {
   "cell_type": "markdown",
   "metadata": {},
   "source": [
    "## 1. Mexico Municipal Risk Identification:"
   ]
  },
  {
   "cell_type": "markdown",
   "metadata": {},
   "source": [
    "![Image](https://i.redd.it/4icoox11se431.png)"
   ]
  },
  {
   "cell_type": "markdown",
   "metadata": {},
   "source": [
    "#### Problem Statement: \n",
    "Can we predict at-risk municipalities as a function of socio-economic variables?"
   ]
  },
  {
   "cell_type": "markdown",
   "metadata": {},
   "source": [
    "#### Sources:"
   ]
  },
  {
   "cell_type": "markdown",
   "metadata": {},
   "source": [
    "- Mexican Statistical Bureau (INEGI), SNSP and SEDENA Homicide statistics, ENVIPE Survey on public sentiment (corruption data)."
   ]
  },
  {
   "cell_type": "markdown",
   "metadata": {},
   "source": [
    "#### Goals:"
   ]
  },
  {
   "cell_type": "markdown",
   "metadata": {},
   "source": [
    "- Identify the socioeconomic factors that explain the most violent/corrupt municipalities \n",
    "- Map those clustered municipalities into groups of likeness\n",
    "- Conduct time-series to assess future at-risk municiaplities"
   ]
  },
  {
   "cell_type": "markdown",
   "metadata": {},
   "source": [
    "#### Metrics:"
   ]
  },
  {
   "cell_type": "markdown",
   "metadata": {},
   "source": [
    "- Measure at-risk municipalities as a function of homicides and corruption\n",
    "- Municipal level data on homicides, corruption, population and other demographics (age, gender, etc), education levels (literacy), health (hospitals and clinics), security (police stations)"
   ]
  },
  {
   "cell_type": "markdown",
   "metadata": {},
   "source": [
    "#### Audience:"
   ]
  },
  {
   "cell_type": "markdown",
   "metadata": {},
   "source": [
    "- FP professionals in govt and NGOs"
   ]
  },
  {
   "cell_type": "markdown",
   "metadata": {},
   "source": [
    "### 2. DC Neighborhood Sentiment Analysis"
   ]
  },
  {
   "cell_type": "markdown",
   "metadata": {},
   "source": [
    "![Image](https://www.washingtonblade.com/content/files/2018/08/DC_neighborhoods_map_social_media_by_-Peter_Fitzgerald.jpg)"
   ]
  },
  {
   "cell_type": "markdown",
   "metadata": {},
   "source": [
    "#### Problem Statement:\n",
    "Can we gauge how people are talking about a neighbrohood right now? Are certain words more characteristic of neighborhoods? How are people talking about certain issues, like Covid-19, or other topics? How has sentiment within neighborhoods changed over time?"
   ]
  },
  {
   "cell_type": "markdown",
   "metadata": {},
   "source": [
    "#### Sources:\n",
    "- Twitter (api)\n",
    "- NextDoor (no apparent api)\n",
    "- Other localized social media? Reddit?"
   ]
  },
  {
   "cell_type": "markdown",
   "metadata": {},
   "source": [
    "#### Goals:\n",
    "- Identify sentiment of neighborhoods: are certain neighborhoods more positive or negative than others? \n",
    "- Can we predict a user's neighborhood based on the text from a given social media platform? "
   ]
  },
  {
   "cell_type": "markdown",
   "metadata": {},
   "source": [
    "#### Metrics:\n",
    "- Sentiment scores, most used words by neighborgood, most predictive words of a neighborhood\n",
    "- There's a glaring selection bias in this sort of analysis. "
   ]
  },
  {
   "cell_type": "markdown",
   "metadata": {},
   "source": [
    "#### Audience:"
   ]
  },
  {
   "cell_type": "markdown",
   "metadata": {},
   "source": [
    "- DC government, DC wards and local offices, residents"
   ]
  },
  {
   "cell_type": "markdown",
   "metadata": {},
   "source": [
    "### 3. WMA Geodemographic Segmentation "
   ]
  },
  {
   "cell_type": "markdown",
   "metadata": {},
   "source": [
    "![Image](https://www.dcpolicycenter.org/wp-content/uploads/2017/03/income.png)"
   ]
  },
  {
   "cell_type": "markdown",
   "metadata": {},
   "source": [
    "#### Problem Statement:\n",
    "Most analyses of DC demography stop at poverty, but poverty (and affluence) are not binary. Can we classify similar DC Census Tracts using a host of variables that describe socio-economic makeup?"
   ]
  },
  {
   "cell_type": "markdown",
   "metadata": {},
   "source": [
    "#### Sources:\n",
    "- US Census Bureau\n",
    "- Open Data DC\n",
    "- WMATA"
   ]
  },
  {
   "cell_type": "markdown",
   "metadata": {},
   "source": [
    "#### Goals:\n",
    "- Identify hyperlocal likeness among DC Census Tracts\n",
    "- Explore contributing and most predictive factors of likeness "
   ]
  },
  {
   "cell_type": "markdown",
   "metadata": {},
   "source": [
    "#### Metrics:\n",
    "- Age, income, educaton, resource access, commute times, violence. \n",
    "- Use some form of dimmension reduction on the host of variables to cluster and identify likeness"
   ]
  },
  {
   "cell_type": "markdown",
   "metadata": {},
   "source": [
    "#### Audience:"
   ]
  },
  {
   "cell_type": "markdown",
   "metadata": {},
   "source": [
    "DC Government, Businesses, NGOs, Health providers"
   ]
  },
  {
   "cell_type": "code",
   "execution_count": null,
   "metadata": {},
   "outputs": [],
   "source": []
  },
  {
   "cell_type": "code",
   "execution_count": null,
   "metadata": {},
   "outputs": [],
   "source": []
  },
  {
   "cell_type": "code",
   "execution_count": null,
   "metadata": {},
   "outputs": [],
   "source": []
  },
  {
   "cell_type": "code",
   "execution_count": null,
   "metadata": {},
   "outputs": [],
   "source": []
  },
  {
   "cell_type": "markdown",
   "metadata": {},
   "source": [
    "4. Movement of humans from home to work? other emplyoment questions? Do people work in their census tract? "
   ]
  },
  {
   "cell_type": "markdown",
   "metadata": {},
   "source": []
  },
  {
   "cell_type": "markdown",
   "metadata": {},
   "source": []
  }
 ],
 "metadata": {
  "kernelspec": {
   "display_name": "Python 3",
   "language": "python",
   "name": "python3"
  },
  "language_info": {
   "codemirror_mode": {
    "name": "ipython",
    "version": 3
   },
   "file_extension": ".py",
   "mimetype": "text/x-python",
   "name": "python",
   "nbconvert_exporter": "python",
   "pygments_lexer": "ipython3",
   "version": "3.7.6"
  }
 },
 "nbformat": 4,
 "nbformat_minor": 4
}
