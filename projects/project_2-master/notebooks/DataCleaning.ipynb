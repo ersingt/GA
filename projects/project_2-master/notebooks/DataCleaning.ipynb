{
 "cells": [
  {
   "cell_type": "markdown",
   "metadata": {},
   "source": [
    "## Data Cleaning:"
   ]
  },
  {
   "cell_type": "code",
   "execution_count": 54,
   "metadata": {},
   "outputs": [],
   "source": [
    "# Import Libraries:\n",
    "\n",
    "import pandas as pd\n",
    "import numpy as np\n",
    "import seaborn as sns\n",
    "import matplotlib.pyplot as plt\n",
    "\n",
    "from sklearn.impute import SimpleImputer\n",
    "from sklearn.pipeline import make_pipeline\n",
    "from sklearn.preprocessing import StandardScaler\n",
    "from sklearn.model_selection import train_test_split, GridSearchCV\n",
    "from sklearn.compose import make_column_transformer"
   ]
  },
  {
   "cell_type": "code",
   "execution_count": 83,
   "metadata": {},
   "outputs": [],
   "source": [
    "# Read in Data:\n",
    "\n",
    "df_train = pd.read_csv('../datasets/train.csv')"
   ]
  },
  {
   "cell_type": "markdown",
   "metadata": {},
   "source": [
    "### Address Improperly Cast Numeric Variables:"
   ]
  },
  {
   "cell_type": "code",
   "execution_count": 84,
   "metadata": {},
   "outputs": [],
   "source": [
    "# Turn numerics (years) that should be objects into objects and fill with nones:\n",
    "\n",
    "df_train[['Garage Yr Blt', \n",
    "          'Year Built', \n",
    "          'Year Remod/Add',\n",
    "          'Mo Sold', \n",
    "          'Yr Sold']] = df_train[['Garage Yr Blt', \n",
    "                                  'Year Built', \n",
    "                                  'Year Remod/Add','Mo Sold', \n",
    "                                  'Yr Sold']].astype(str)"
   ]
  },
  {
   "cell_type": "markdown",
   "metadata": {},
   "source": [
    "### Address Missing Values:"
   ]
  },
  {
   "cell_type": "code",
   "execution_count": 85,
   "metadata": {},
   "outputs": [],
   "source": [
    "# Fill NA with 'none' for categorical colummns:\n",
    "\n",
    "none_columns = ['Pool QC', 'Misc Feature',  'Alley',\n",
    "             'Fence', 'Fireplace Qu', 'Garage Cond', 'Year Built',\n",
    "             'Garage Qual', 'Garage Finish', 'Garage Type', 'Garage Yr Blt',\n",
    "             'Year Remod/Add','Mo Sold', 'Yr Sold',\n",
    "             'Bsmt Exposure', 'BsmtFin Type 1', 'BsmtFin Type 2',\n",
    "             'Bsmt Qual', 'Bsmt Cond', 'Mas Vnr Type', 'Bsmt Full Bath',\n",
    "             'Bsmt Half Bath']"
   ]
  },
  {
   "cell_type": "code",
   "execution_count": 86,
   "metadata": {},
   "outputs": [],
   "source": [
    "for i in none_columns:\n",
    "    df_train[i] = df_train[i].fillna('none')"
   ]
  },
  {
   "cell_type": "code",
   "execution_count": 87,
   "metadata": {},
   "outputs": [],
   "source": [
    "# Fill Null values with 0 for numeric columns (except lot frontage):\n",
    "\n",
    "zero_columns = ['Mas Vnr Area', 'BsmtFin SF 1', 'BsmtFin SF 2',\n",
    "             'Bsmt Unf SF', 'Total Bsmt SF', 'Garage Area', 'Garage Cars']"
   ]
  },
  {
   "cell_type": "code",
   "execution_count": 88,
   "metadata": {},
   "outputs": [],
   "source": [
    "for i in zero_columns:\n",
    "    df_train[i] = df_train[i].fillna(0)"
   ]
  },
  {
   "cell_type": "code",
   "execution_count": 89,
   "metadata": {},
   "outputs": [
    {
     "data": {
      "text/plain": [
       "Neighborhood\n",
       "Blmngtn    43.0\n",
       "Blueste    24.0\n",
       "BrDale     21.0\n",
       "BrkSide    51.0\n",
       "ClearCr    82.5\n",
       "CollgCr    70.0\n",
       "Crawfor    64.0\n",
       "Edwards    63.0\n",
       "Gilbert    63.0\n",
       "Greens     40.0\n",
       "GrnHill     NaN\n",
       "IDOTRR     60.0\n",
       "Landmrk     NaN\n",
       "MeadowV    21.0\n",
       "Mitchel    74.0\n",
       "NAmes      72.0\n",
       "NPkVill    24.0\n",
       "NWAmes     80.0\n",
       "NoRidge    88.5\n",
       "NridgHt    93.0\n",
       "OldTown    60.0\n",
       "SWISU      60.0\n",
       "Sawyer     70.0\n",
       "SawyerW    67.0\n",
       "Somerst    73.0\n",
       "StoneBr    60.0\n",
       "Timber     79.0\n",
       "Veenker    80.0\n",
       "Name: Lot Frontage, dtype: float64"
      ]
     },
     "execution_count": 89,
     "metadata": {},
     "output_type": "execute_result"
    }
   ],
   "source": [
    "# Explore Lot Frontage (strong correlation with sale price, 300+ missing values):\n",
    "\n",
    "df_train.groupby('Neighborhood')['Lot Frontage'].median()"
   ]
  },
  {
   "cell_type": "code",
   "execution_count": 90,
   "metadata": {},
   "outputs": [],
   "source": [
    "# No values for GrnHill and Landmark >> Impute with median for neighborhoods.\n",
    "\n",
    "lot_frontage = ['Lot Frontage']\n",
    "\n",
    "for i in lot_frontage:\n",
    "    df_train[i] = df_train[i].fillna(df_train['Lot Frontage'].median())"
   ]
  },
  {
   "cell_type": "code",
   "execution_count": 91,
   "metadata": {},
   "outputs": [
    {
     "data": {
      "text/plain": [
       "SBrkr    1868\n",
       "FuseA     140\n",
       "FuseF      35\n",
       "FuseP       7\n",
       "Mix         1\n",
       "Name: Electrical, dtype: int64"
      ]
     },
     "execution_count": 91,
     "metadata": {},
     "output_type": "execute_result"
    }
   ],
   "source": [
    "# FOR TEST DATA ONLY: Explore test data Electrical missing value:\n",
    "\n",
    "df_train['Electrical'].value_counts()"
   ]
  },
  {
   "cell_type": "code",
   "execution_count": 92,
   "metadata": {},
   "outputs": [],
   "source": [
    "# FOR TEST DATA ONLY: Impute most common Electrical type (SBrkr) for missing values:\n",
    "\n",
    "Electrical = ['Electrical']\n",
    "\n",
    "for i in Electrical:\n",
    "    df_train[i] = df_train[i].fillna('SBrkr')"
   ]
  },
  {
   "cell_type": "markdown",
   "metadata": {},
   "source": [
    "### Address Outliers:"
   ]
  },
  {
   "cell_type": "code",
   "execution_count": 93,
   "metadata": {},
   "outputs": [],
   "source": [
    "#Sq Ft Total"
   ]
  },
  {
   "cell_type": "code",
   "execution_count": null,
   "metadata": {},
   "outputs": [],
   "source": []
  },
  {
   "cell_type": "markdown",
   "metadata": {},
   "source": [
    "### Cleaning Validation:"
   ]
  },
  {
   "cell_type": "code",
   "execution_count": 94,
   "metadata": {},
   "outputs": [
    {
     "data": {
      "text/plain": [
       "Id                 0\n",
       "PID                0\n",
       "MS SubClass        0\n",
       "MS Zoning          0\n",
       "Lot Frontage       0\n",
       "Lot Area           0\n",
       "Street             0\n",
       "Alley              0\n",
       "Lot Shape          0\n",
       "Land Contour       0\n",
       "Utilities          0\n",
       "Lot Config         0\n",
       "Land Slope         0\n",
       "Neighborhood       0\n",
       "Condition 1        0\n",
       "Condition 2        0\n",
       "Bldg Type          0\n",
       "House Style        0\n",
       "Overall Qual       0\n",
       "Overall Cond       0\n",
       "Year Built         0\n",
       "Year Remod/Add     0\n",
       "Roof Style         0\n",
       "Roof Matl          0\n",
       "Exterior 1st       0\n",
       "Exterior 2nd       0\n",
       "Mas Vnr Type       0\n",
       "Mas Vnr Area       0\n",
       "Exter Qual         0\n",
       "Exter Cond         0\n",
       "Foundation         0\n",
       "Bsmt Qual          0\n",
       "Bsmt Cond          0\n",
       "Bsmt Exposure      0\n",
       "BsmtFin Type 1     0\n",
       "BsmtFin SF 1       0\n",
       "BsmtFin Type 2     0\n",
       "BsmtFin SF 2       0\n",
       "Bsmt Unf SF        0\n",
       "Total Bsmt SF      0\n",
       "Heating            0\n",
       "Heating QC         0\n",
       "Central Air        0\n",
       "Electrical         0\n",
       "1st Flr SF         0\n",
       "2nd Flr SF         0\n",
       "Low Qual Fin SF    0\n",
       "Gr Liv Area        0\n",
       "Bsmt Full Bath     0\n",
       "Bsmt Half Bath     0\n",
       "Full Bath          0\n",
       "Half Bath          0\n",
       "Bedroom AbvGr      0\n",
       "Kitchen AbvGr      0\n",
       "Kitchen Qual       0\n",
       "TotRms AbvGrd      0\n",
       "Functional         0\n",
       "Fireplaces         0\n",
       "Fireplace Qu       0\n",
       "Garage Type        0\n",
       "Garage Yr Blt      0\n",
       "Garage Finish      0\n",
       "Garage Cars        0\n",
       "Garage Area        0\n",
       "Garage Qual        0\n",
       "Garage Cond        0\n",
       "Paved Drive        0\n",
       "Wood Deck SF       0\n",
       "Open Porch SF      0\n",
       "Enclosed Porch     0\n",
       "3Ssn Porch         0\n",
       "Screen Porch       0\n",
       "Pool Area          0\n",
       "Pool QC            0\n",
       "Fence              0\n",
       "Misc Feature       0\n",
       "Misc Val           0\n",
       "Mo Sold            0\n",
       "Yr Sold            0\n",
       "Sale Type          0\n",
       "SalePrice          0\n",
       "dtype: int64"
      ]
     },
     "execution_count": 94,
     "metadata": {},
     "output_type": "execute_result"
    }
   ],
   "source": [
    "# Validate: No null values, data types are correct:\n",
    "\n",
    "pd.set_option(\"display.max_rows\", 999)\n",
    "df_train.isnull().sum()"
   ]
  },
  {
   "cell_type": "code",
   "execution_count": 95,
   "metadata": {},
   "outputs": [
    {
     "name": "stdout",
     "output_type": "stream",
     "text": [
      "<class 'pandas.core.frame.DataFrame'>\n",
      "RangeIndex: 2051 entries, 0 to 2050\n",
      "Data columns (total 81 columns):\n",
      " #   Column           Non-Null Count  Dtype  \n",
      "---  ------           --------------  -----  \n",
      " 0   Id               2051 non-null   int64  \n",
      " 1   PID              2051 non-null   int64  \n",
      " 2   MS SubClass      2051 non-null   int64  \n",
      " 3   MS Zoning        2051 non-null   object \n",
      " 4   Lot Frontage     2051 non-null   float64\n",
      " 5   Lot Area         2051 non-null   int64  \n",
      " 6   Street           2051 non-null   object \n",
      " 7   Alley            2051 non-null   object \n",
      " 8   Lot Shape        2051 non-null   object \n",
      " 9   Land Contour     2051 non-null   object \n",
      " 10  Utilities        2051 non-null   object \n",
      " 11  Lot Config       2051 non-null   object \n",
      " 12  Land Slope       2051 non-null   object \n",
      " 13  Neighborhood     2051 non-null   object \n",
      " 14  Condition 1      2051 non-null   object \n",
      " 15  Condition 2      2051 non-null   object \n",
      " 16  Bldg Type        2051 non-null   object \n",
      " 17  House Style      2051 non-null   object \n",
      " 18  Overall Qual     2051 non-null   int64  \n",
      " 19  Overall Cond     2051 non-null   int64  \n",
      " 20  Year Built       2051 non-null   object \n",
      " 21  Year Remod/Add   2051 non-null   object \n",
      " 22  Roof Style       2051 non-null   object \n",
      " 23  Roof Matl        2051 non-null   object \n",
      " 24  Exterior 1st     2051 non-null   object \n",
      " 25  Exterior 2nd     2051 non-null   object \n",
      " 26  Mas Vnr Type     2051 non-null   object \n",
      " 27  Mas Vnr Area     2051 non-null   float64\n",
      " 28  Exter Qual       2051 non-null   object \n",
      " 29  Exter Cond       2051 non-null   object \n",
      " 30  Foundation       2051 non-null   object \n",
      " 31  Bsmt Qual        2051 non-null   object \n",
      " 32  Bsmt Cond        2051 non-null   object \n",
      " 33  Bsmt Exposure    2051 non-null   object \n",
      " 34  BsmtFin Type 1   2051 non-null   object \n",
      " 35  BsmtFin SF 1     2051 non-null   float64\n",
      " 36  BsmtFin Type 2   2051 non-null   object \n",
      " 37  BsmtFin SF 2     2051 non-null   float64\n",
      " 38  Bsmt Unf SF      2051 non-null   float64\n",
      " 39  Total Bsmt SF    2051 non-null   float64\n",
      " 40  Heating          2051 non-null   object \n",
      " 41  Heating QC       2051 non-null   object \n",
      " 42  Central Air      2051 non-null   object \n",
      " 43  Electrical       2051 non-null   object \n",
      " 44  1st Flr SF       2051 non-null   int64  \n",
      " 45  2nd Flr SF       2051 non-null   int64  \n",
      " 46  Low Qual Fin SF  2051 non-null   int64  \n",
      " 47  Gr Liv Area      2051 non-null   int64  \n",
      " 48  Bsmt Full Bath   2051 non-null   object \n",
      " 49  Bsmt Half Bath   2051 non-null   object \n",
      " 50  Full Bath        2051 non-null   int64  \n",
      " 51  Half Bath        2051 non-null   int64  \n",
      " 52  Bedroom AbvGr    2051 non-null   int64  \n",
      " 53  Kitchen AbvGr    2051 non-null   int64  \n",
      " 54  Kitchen Qual     2051 non-null   object \n",
      " 55  TotRms AbvGrd    2051 non-null   int64  \n",
      " 56  Functional       2051 non-null   object \n",
      " 57  Fireplaces       2051 non-null   int64  \n",
      " 58  Fireplace Qu     2051 non-null   object \n",
      " 59  Garage Type      2051 non-null   object \n",
      " 60  Garage Yr Blt    2051 non-null   object \n",
      " 61  Garage Finish    2051 non-null   object \n",
      " 62  Garage Cars      2051 non-null   float64\n",
      " 63  Garage Area      2051 non-null   float64\n",
      " 64  Garage Qual      2051 non-null   object \n",
      " 65  Garage Cond      2051 non-null   object \n",
      " 66  Paved Drive      2051 non-null   object \n",
      " 67  Wood Deck SF     2051 non-null   int64  \n",
      " 68  Open Porch SF    2051 non-null   int64  \n",
      " 69  Enclosed Porch   2051 non-null   int64  \n",
      " 70  3Ssn Porch       2051 non-null   int64  \n",
      " 71  Screen Porch     2051 non-null   int64  \n",
      " 72  Pool Area        2051 non-null   int64  \n",
      " 73  Pool QC          2051 non-null   object \n",
      " 74  Fence            2051 non-null   object \n",
      " 75  Misc Feature     2051 non-null   object \n",
      " 76  Misc Val         2051 non-null   int64  \n",
      " 77  Mo Sold          2051 non-null   object \n",
      " 78  Yr Sold          2051 non-null   object \n",
      " 79  Sale Type        2051 non-null   object \n",
      " 80  SalePrice        2051 non-null   int64  \n",
      "dtypes: float64(8), int64(24), object(49)\n",
      "memory usage: 1.3+ MB\n"
     ]
    }
   ],
   "source": [
    "df_train.info()"
   ]
  },
  {
   "cell_type": "markdown",
   "metadata": {},
   "source": [
    "### Export Training data to cleaned.csv: "
   ]
  },
  {
   "cell_type": "code",
   "execution_count": 96,
   "metadata": {},
   "outputs": [],
   "source": [
    "# Export to CSV for next step >> Feature Engineering:\n",
    "\n",
    "df_train.to_csv('../datasets/train_cleaned.csv')"
   ]
  },
  {
   "cell_type": "markdown",
   "metadata": {},
   "source": [
    "### Repeat Above Process for Test Data:"
   ]
  },
  {
   "cell_type": "markdown",
   "metadata": {},
   "source": [
    "The above process was repeated on test_data.csv. The above is being kept in its current training-oriented format for the sake of duplicate code. "
   ]
  },
  {
   "cell_type": "code",
   "execution_count": 82,
   "metadata": {},
   "outputs": [],
   "source": [
    "# Export Test Data to CSV:\n",
    "    \n",
    "df_train.to_csv('../datasets/test_cleaned.csv')"
   ]
  }
 ],
 "metadata": {
  "kernelspec": {
   "display_name": "Python 3",
   "language": "python",
   "name": "python3"
  },
  "language_info": {
   "codemirror_mode": {
    "name": "ipython",
    "version": 3
   },
   "file_extension": ".py",
   "mimetype": "text/x-python",
   "name": "python",
   "nbconvert_exporter": "python",
   "pygments_lexer": "ipython3",
   "version": "3.7.6"
  }
 },
 "nbformat": 4,
 "nbformat_minor": 4
}
