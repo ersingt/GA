{
 "cells": [
  {
   "cell_type": "markdown",
   "metadata": {},
   "source": [
    "## Modeling and Model Tuning:"
   ]
  },
  {
   "cell_type": "markdown",
   "metadata": {},
   "source": [
    "### Import Libraries:"
   ]
  },
  {
   "cell_type": "code",
   "execution_count": 31,
   "metadata": {},
   "outputs": [],
   "source": [
    "import seaborn as sns\n",
    "import pandas as pd\n",
    "import numpy as np\n",
    "import matplotlib.pyplot as plt\n",
    "\n",
    "import statsmodels.api as sm\n",
    "\n",
    "from sklearn.preprocessing import StandardScaler\n",
    "from sklearn.model_selection import train_test_split, cross_val_score\n",
    "from sklearn.linear_model import LinearRegression, Lasso, Ridge"
   ]
  },
  {
   "cell_type": "markdown",
   "metadata": {},
   "source": [
    "### Read in Data:"
   ]
  },
  {
   "cell_type": "code",
   "execution_count": 32,
   "metadata": {},
   "outputs": [],
   "source": [
    "# Read in clean_engineered training data\n",
    "\n",
    "df_train = pd.read_csv('../datasets/train_cleaned_engineered.csv')"
   ]
  },
  {
   "cell_type": "code",
   "execution_count": 33,
   "metadata": {},
   "outputs": [],
   "source": [
    "# Read in clean_engineered test data test\n",
    "\n",
    "df_test = pd.read_csv('../datasets/test_cleaned_engineered.csv')"
   ]
  },
  {
   "cell_type": "markdown",
   "metadata": {},
   "source": [
    "### Set up X and Y:"
   ]
  },
  {
   "cell_type": "code",
   "execution_count": 34,
   "metadata": {},
   "outputs": [],
   "source": [
    "# Set up X and y:\n",
    "\n",
    "X_train = df_train[['Sq Ft Total','Overall Qual','Lot Frontage',\n",
    "                    'Home Age', 'Yrs Since Remod','Has Fence',\n",
    "                    'Has Wood Deck','Has Masonry',\n",
    "                   'Has Fireplace', 'Has Garage', 'Has Pool',\n",
    "                    'Exter Qual', 'Exter Cond','Bsmt Cond',\n",
    "                    'Bsmt Qual', 'Kitchen Qual'\n",
    "                   ]]\n",
    "\n",
    "y_train = df_train['log_SalePrice']\n",
    "     \n",
    "X_test = df_test[['Sq Ft Total','Overall Qual','Lot Frontage',\n",
    "                    'Home Age', 'Yrs Since Remod','Has Fence',\n",
    "                    'Has Wood Deck','Has Masonry',\n",
    "                   'Has Fireplace', 'Has Garage', 'Has Pool',\n",
    "                    'Exter Qual', 'Exter Cond','Bsmt Cond',\n",
    "                    'Bsmt Qual', 'Kitchen Qual'\n",
    "                 ]]\n"
   ]
  },
  {
   "cell_type": "markdown",
   "metadata": {},
   "source": [
    "### Instantiate and Fit OLS Model:"
   ]
  },
  {
   "cell_type": "code",
   "execution_count": 35,
   "metadata": {},
   "outputs": [],
   "source": [
    "# Instantiate:\n",
    "\n",
    "lr = LinearRegression()"
   ]
  },
  {
   "cell_type": "code",
   "execution_count": 36,
   "metadata": {},
   "outputs": [
    {
     "data": {
      "text/plain": [
       "LinearRegression(copy_X=True, fit_intercept=True, n_jobs=None, normalize=False)"
      ]
     },
     "execution_count": 36,
     "metadata": {},
     "output_type": "execute_result"
    }
   ],
   "source": [
    "# Fit:\n",
    "\n",
    "lr.fit(X_train,y_train)"
   ]
  },
  {
   "cell_type": "markdown",
   "metadata": {},
   "source": [
    "### Score OLS Model:"
   ]
  },
  {
   "cell_type": "code",
   "execution_count": 37,
   "metadata": {},
   "outputs": [
    {
     "data": {
      "text/plain": [
       "0.8696135717875197"
      ]
     },
     "execution_count": 37,
     "metadata": {},
     "output_type": "execute_result"
    }
   ],
   "source": [
    "# Score on training data:\n",
    "\n",
    "lr.score(X_train,y_train)"
   ]
  },
  {
   "cell_type": "code",
   "execution_count": 38,
   "metadata": {},
   "outputs": [
    {
     "data": {
      "text/plain": [
       "0.8678461938725789"
      ]
     },
     "execution_count": 38,
     "metadata": {},
     "output_type": "execute_result"
    }
   ],
   "source": [
    "# Cross-Validation Score: \n",
    "\n",
    "cross_val_score(lr, X_train, y_train, cv = 5).mean()"
   ]
  },
  {
   "cell_type": "markdown",
   "metadata": {},
   "source": [
    "### Using Standard Scaler on Data:"
   ]
  },
  {
   "cell_type": "code",
   "execution_count": 274,
   "metadata": {},
   "outputs": [
    {
     "data": {
      "text/plain": [
       "0.8681481591995016"
      ]
     },
     "execution_count": 274,
     "metadata": {},
     "output_type": "execute_result"
    }
   ],
   "source": [
    "# Normalize and scale:\n",
    "\n",
    "# Instantiate.\n",
    "sc = StandardScaler()\n",
    "# Fit and transform.\n",
    "X_train_sc = sc.fit_transform(X_train)\n",
    "# Transform.\n",
    "X_test_sc = sc.transform(X_test)\n",
    "# Cross Val score\n",
    "cross_val_score(lr, X_train_sc, y_train, cv=5).mean()"
   ]
  },
  {
   "cell_type": "markdown",
   "metadata": {},
   "source": [
    "### Using Ridge OLS Model:"
   ]
  },
  {
   "cell_type": "code",
   "execution_count": 275,
   "metadata": {},
   "outputs": [],
   "source": [
    "# Instantiate Ridge\n",
    "\n",
    "ridge = Ridge()"
   ]
  },
  {
   "cell_type": "code",
   "execution_count": 276,
   "metadata": {},
   "outputs": [
    {
     "data": {
      "text/plain": [
       "Ridge(alpha=1.0, copy_X=True, fit_intercept=True, max_iter=None,\n",
       "      normalize=False, random_state=None, solver='auto', tol=0.001)"
      ]
     },
     "execution_count": 276,
     "metadata": {},
     "output_type": "execute_result"
    }
   ],
   "source": [
    "ridge.fit(X_train, y_train)"
   ]
  },
  {
   "cell_type": "code",
   "execution_count": 277,
   "metadata": {},
   "outputs": [
    {
     "data": {
      "text/plain": [
       "0.8699464051071071"
      ]
     },
     "execution_count": 277,
     "metadata": {},
     "output_type": "execute_result"
    }
   ],
   "source": [
    "ridge.score(X_train, y_train)"
   ]
  },
  {
   "cell_type": "code",
   "execution_count": 278,
   "metadata": {},
   "outputs": [
    {
     "data": {
      "text/plain": [
       "0.8681808695439542"
      ]
     },
     "execution_count": 278,
     "metadata": {},
     "output_type": "execute_result"
    }
   ],
   "source": [
    "# Cross Val score\n",
    "cross_val_score(ridge, X_train, y_train, cv=5).mean()"
   ]
  },
  {
   "cell_type": "markdown",
   "metadata": {},
   "source": [
    "### Using LASSO OLS Model:"
   ]
  },
  {
   "cell_type": "code",
   "execution_count": 279,
   "metadata": {},
   "outputs": [],
   "source": [
    "# Instantiate LASSO\n",
    "\n",
    "lasso = Lasso()"
   ]
  },
  {
   "cell_type": "code",
   "execution_count": 280,
   "metadata": {},
   "outputs": [
    {
     "data": {
      "text/plain": [
       "Lasso(alpha=1.0, copy_X=True, fit_intercept=True, max_iter=1000,\n",
       "      normalize=False, positive=False, precompute=False, random_state=None,\n",
       "      selection='cyclic', tol=0.0001, warm_start=False)"
      ]
     },
     "execution_count": 280,
     "metadata": {},
     "output_type": "execute_result"
    }
   ],
   "source": [
    "lasso.fit(X_train, y_train)"
   ]
  },
  {
   "cell_type": "code",
   "execution_count": 281,
   "metadata": {},
   "outputs": [
    {
     "data": {
      "text/plain": [
       "0.7802291596012945"
      ]
     },
     "execution_count": 281,
     "metadata": {},
     "output_type": "execute_result"
    }
   ],
   "source": [
    "lasso.score(X_train, y_train)"
   ]
  },
  {
   "cell_type": "code",
   "execution_count": 282,
   "metadata": {},
   "outputs": [
    {
     "data": {
      "text/plain": [
       "0.7810137456908139"
      ]
     },
     "execution_count": 282,
     "metadata": {},
     "output_type": "execute_result"
    }
   ],
   "source": [
    "# Cross Val score\n",
    "cross_val_score(lasso, X_train, y_train, cv=5).mean()"
   ]
  },
  {
   "cell_type": "code",
   "execution_count": 45,
   "metadata": {},
   "outputs": [],
   "source": [
    "# Interestingly, it seems like the OLS model performs better than\n",
    "# LASSO and Ridge methds. The consistency of the model score with the \n",
    "# Cross Val Scores is also promising. "
   ]
  },
  {
   "cell_type": "markdown",
   "metadata": {},
   "source": [
    "### Translate Predictions Back to Dollars:"
   ]
  },
  {
   "cell_type": "code",
   "execution_count": 39,
   "metadata": {},
   "outputs": [],
   "source": [
    "# These are out predictions. Huzzah!\n",
    "\n",
    "y_pred = lr.predict(X_test)"
   ]
  },
  {
   "cell_type": "code",
   "execution_count": 40,
   "metadata": {},
   "outputs": [],
   "source": [
    "# Translate predictions back to dollars.\n",
    "\n",
    "y_pred=np.exp(y_pred)"
   ]
  },
  {
   "cell_type": "code",
   "execution_count": 41,
   "metadata": {},
   "outputs": [],
   "source": [
    "# Create dataframe of predictions for concat, below:\n",
    "\n",
    "y_pred=pd.DataFrame(y_pred)"
   ]
  },
  {
   "cell_type": "code",
   "execution_count": 42,
   "metadata": {},
   "outputs": [
    {
     "data": {
      "text/html": [
       "<div>\n",
       "<style scoped>\n",
       "    .dataframe tbody tr th:only-of-type {\n",
       "        vertical-align: middle;\n",
       "    }\n",
       "\n",
       "    .dataframe tbody tr th {\n",
       "        vertical-align: top;\n",
       "    }\n",
       "\n",
       "    .dataframe thead th {\n",
       "        text-align: right;\n",
       "    }\n",
       "</style>\n",
       "<table border=\"1\" class=\"dataframe\">\n",
       "  <thead>\n",
       "    <tr style=\"text-align: right;\">\n",
       "      <th></th>\n",
       "      <th>0</th>\n",
       "    </tr>\n",
       "  </thead>\n",
       "  <tbody>\n",
       "    <tr>\n",
       "      <th>0</th>\n",
       "      <td>122343.583632</td>\n",
       "    </tr>\n",
       "    <tr>\n",
       "      <th>1</th>\n",
       "      <td>194814.836004</td>\n",
       "    </tr>\n",
       "    <tr>\n",
       "      <th>2</th>\n",
       "      <td>192720.817966</td>\n",
       "    </tr>\n",
       "    <tr>\n",
       "      <th>3</th>\n",
       "      <td>117658.688354</td>\n",
       "    </tr>\n",
       "    <tr>\n",
       "      <th>4</th>\n",
       "      <td>165922.857386</td>\n",
       "    </tr>\n",
       "    <tr>\n",
       "      <th>...</th>\n",
       "      <td>...</td>\n",
       "    </tr>\n",
       "    <tr>\n",
       "      <th>873</th>\n",
       "      <td>179993.568198</td>\n",
       "    </tr>\n",
       "    <tr>\n",
       "      <th>874</th>\n",
       "      <td>223976.111053</td>\n",
       "    </tr>\n",
       "    <tr>\n",
       "      <th>875</th>\n",
       "      <td>131602.768596</td>\n",
       "    </tr>\n",
       "    <tr>\n",
       "      <th>876</th>\n",
       "      <td>106269.942091</td>\n",
       "    </tr>\n",
       "    <tr>\n",
       "      <th>877</th>\n",
       "      <td>133088.545122</td>\n",
       "    </tr>\n",
       "  </tbody>\n",
       "</table>\n",
       "<p>878 rows × 1 columns</p>\n",
       "</div>"
      ],
      "text/plain": [
       "                 0\n",
       "0    122343.583632\n",
       "1    194814.836004\n",
       "2    192720.817966\n",
       "3    117658.688354\n",
       "4    165922.857386\n",
       "..             ...\n",
       "873  179993.568198\n",
       "874  223976.111053\n",
       "875  131602.768596\n",
       "876  106269.942091\n",
       "877  133088.545122\n",
       "\n",
       "[878 rows x 1 columns]"
      ]
     },
     "execution_count": 42,
     "metadata": {},
     "output_type": "execute_result"
    }
   ],
   "source": [
    "y_pred"
   ]
  },
  {
   "cell_type": "code",
   "execution_count": 43,
   "metadata": {},
   "outputs": [],
   "source": [
    "y_train=pd.DataFrame(y_pred)"
   ]
  },
  {
   "cell_type": "markdown",
   "metadata": {},
   "source": [
    "### Plot Actual vs Predicted:"
   ]
  },
  {
   "cell_type": "code",
   "execution_count": 46,
   "metadata": {},
   "outputs": [
    {
     "data": {
      "image/png": "[encoded data removed]",
      "text/plain": [
       "<Figure size 864x648 with 1 Axes>"
      ]
     },
     "metadata": {
      "needs_background": "light"
     },
     "output_type": "display_data"
    }
   ],
   "source": [
    "plt.figure(figsize=(12,9))\n",
    "\n",
    "# Generate a scatterplot of predicted values versus actual values.\n",
    "plt.scatter(y_pred, y_train, s=5, color='skyblue')\n",
    "\n",
    "# Tweak title and axis labels.\n",
    "plt.xlabel(\"Predicted Values: $\\hat{y}$\", fontsize = 14)\n",
    "plt.ylabel(\"Y-Train Values: $y$\", fontsize = 14)\n",
    "plt.title('Predicted Values vs. Actual Values', fontsize = 14);\n",
    "\n",
    "# I would call this questionably linear? Need to explore further.\n",
    "\n",
    "# Code adapted from Ga DSI 3.01 Linear Regression"
   ]
  },
  {
   "cell_type": "markdown",
   "metadata": {},
   "source": [
    "### Generate Model Summary:"
   ]
  },
  {
   "cell_type": "code",
   "execution_count": 247,
   "metadata": {},
   "outputs": [
    {
     "data": {
      "text/html": [
       "<table class=\"simpletable\">\n",
       "<caption>OLS Regression Results</caption>\n",
       "<tr>\n",
       "  <th>Dep. Variable:</th>        <td>SalePrice</td>    <th>  R-squared (uncentered):</th>      <td>   0.973</td> \n",
       "</tr>\n",
       "<tr>\n",
       "  <th>Model:</th>                   <td>OLS</td>       <th>  Adj. R-squared (uncentered):</th> <td>   0.973</td> \n",
       "</tr>\n",
       "<tr>\n",
       "  <th>Method:</th>             <td>Least Squares</td>  <th>  F-statistic:       </th>          <td>   4309.</td> \n",
       "</tr>\n",
       "<tr>\n",
       "  <th>Date:</th>             <td>Thu, 09 Apr 2020</td> <th>  Prob (F-statistic):</th>           <td>  0.00</td>  \n",
       "</tr>\n",
       "<tr>\n",
       "  <th>Time:</th>                 <td>20:42:26</td>     <th>  Log-Likelihood:    </th>          <td> -24197.</td> \n",
       "</tr>\n",
       "<tr>\n",
       "  <th>No. Observations:</th>      <td>  2049</td>      <th>  AIC:               </th>          <td>4.843e+04</td>\n",
       "</tr>\n",
       "<tr>\n",
       "  <th>Df Residuals:</th>          <td>  2032</td>      <th>  BIC:               </th>          <td>4.852e+04</td>\n",
       "</tr>\n",
       "<tr>\n",
       "  <th>Df Model:</th>              <td>    17</td>      <th>                     </th>              <td> </td>    \n",
       "</tr>\n",
       "<tr>\n",
       "  <th>Covariance Type:</th>      <td>nonrobust</td>    <th>                     </th>              <td> </td>    \n",
       "</tr>\n",
       "</table>\n",
       "<table class=\"simpletable\">\n",
       "<tr>\n",
       "         <td></td>            <th>coef</th>     <th>std err</th>      <th>t</th>      <th>P>|t|</th>  <th>[0.025</th>    <th>0.975]</th>  \n",
       "</tr>\n",
       "<tr>\n",
       "  <th>Sq Ft Total</th>     <td>   46.9789</td> <td>    1.427</td> <td>   32.925</td> <td> 0.000</td> <td>   44.181</td> <td>   49.777</td>\n",
       "</tr>\n",
       "<tr>\n",
       "  <th>Overall Qual</th>    <td> 9179.7677</td> <td>  948.625</td> <td>    9.677</td> <td> 0.000</td> <td> 7319.388</td> <td>  1.1e+04</td>\n",
       "</tr>\n",
       "<tr>\n",
       "  <th>Lot Frontage</th>    <td>  181.9294</td> <td>   36.923</td> <td>    4.927</td> <td> 0.000</td> <td>  109.518</td> <td>  254.341</td>\n",
       "</tr>\n",
       "<tr>\n",
       "  <th>Age at Sale</th>     <td>  202.6452</td> <td>  548.237</td> <td>    0.370</td> <td> 0.712</td> <td> -872.520</td> <td> 1277.811</td>\n",
       "</tr>\n",
       "<tr>\n",
       "  <th>Home Age</th>        <td> -492.0899</td> <td>  548.513</td> <td>   -0.897</td> <td> 0.370</td> <td>-1567.797</td> <td>  583.617</td>\n",
       "</tr>\n",
       "<tr>\n",
       "  <th>Yrs Since Remod</th> <td> -390.7945</td> <td>   46.967</td> <td>   -8.321</td> <td> 0.000</td> <td> -482.902</td> <td> -298.687</td>\n",
       "</tr>\n",
       "<tr>\n",
       "  <th>Has Fence</th>       <td>  762.2670</td> <td> 1929.751</td> <td>    0.395</td> <td> 0.693</td> <td>-3022.230</td> <td> 4546.764</td>\n",
       "</tr>\n",
       "<tr>\n",
       "  <th>Has Wood Deck</th>   <td> 1459.3358</td> <td> 1570.880</td> <td>    0.929</td> <td> 0.353</td> <td>-1621.367</td> <td> 4540.038</td>\n",
       "</tr>\n",
       "<tr>\n",
       "  <th>Has Masonry</th>     <td> 2978.3670</td> <td> 1687.751</td> <td>    1.765</td> <td> 0.078</td> <td> -331.535</td> <td> 6288.269</td>\n",
       "</tr>\n",
       "<tr>\n",
       "  <th>Has Fireplace</th>   <td> 1.498e+04</td> <td> 1669.216</td> <td>    8.975</td> <td> 0.000</td> <td> 1.17e+04</td> <td> 1.83e+04</td>\n",
       "</tr>\n",
       "<tr>\n",
       "  <th>Has Garage</th>      <td>-8212.1634</td> <td> 3222.052</td> <td>   -2.549</td> <td> 0.011</td> <td>-1.45e+04</td> <td>-1893.293</td>\n",
       "</tr>\n",
       "<tr>\n",
       "  <th>Has Pool</th>        <td> 7033.1965</td> <td> 1.17e+04</td> <td>    0.599</td> <td> 0.549</td> <td> -1.6e+04</td> <td> 3.01e+04</td>\n",
       "</tr>\n",
       "<tr>\n",
       "  <th>Exter Qual</th>      <td> 8928.1860</td> <td> 2106.053</td> <td>    4.239</td> <td> 0.000</td> <td> 4797.938</td> <td> 1.31e+04</td>\n",
       "</tr>\n",
       "<tr>\n",
       "  <th>Exter Cond</th>      <td>-5575.5911</td> <td> 1854.000</td> <td>   -3.007</td> <td> 0.003</td> <td>-9211.531</td> <td>-1939.652</td>\n",
       "</tr>\n",
       "<tr>\n",
       "  <th>Bsmt Cond</th>       <td>-1.605e+04</td> <td> 1971.415</td> <td>   -8.142</td> <td> 0.000</td> <td>-1.99e+04</td> <td>-1.22e+04</td>\n",
       "</tr>\n",
       "<tr>\n",
       "  <th>Bsmt Qual</th>       <td> 3761.6315</td> <td> 1590.459</td> <td>    2.365</td> <td> 0.018</td> <td>  642.532</td> <td> 6880.731</td>\n",
       "</tr>\n",
       "<tr>\n",
       "  <th>Kitchen Qual</th>    <td> 1.037e+04</td> <td> 1733.849</td> <td>    5.983</td> <td> 0.000</td> <td> 6973.810</td> <td> 1.38e+04</td>\n",
       "</tr>\n",
       "</table>\n",
       "<table class=\"simpletable\">\n",
       "<tr>\n",
       "  <th>Omnibus:</th>       <td>645.584</td> <th>  Durbin-Watson:     </th> <td>   2.043</td>\n",
       "</tr>\n",
       "<tr>\n",
       "  <th>Prob(Omnibus):</th> <td> 0.000</td>  <th>  Jarque-Bera (JB):  </th> <td>4469.135</td>\n",
       "</tr>\n",
       "<tr>\n",
       "  <th>Skew:</th>          <td> 1.301</td>  <th>  Prob(JB):          </th> <td>    0.00</td>\n",
       "</tr>\n",
       "<tr>\n",
       "  <th>Kurtosis:</th>      <td> 9.751</td>  <th>  Cond. No.          </th> <td>4.32e+04</td>\n",
       "</tr>\n",
       "</table><br/><br/>Warnings:<br/>[1] Standard Errors assume that the covariance matrix of the errors is correctly specified.<br/>[2] The condition number is large, 4.32e+04. This might indicate that there are<br/>strong multicollinearity or other numerical problems."
      ],
      "text/plain": [
       "<class 'statsmodels.iolib.summary.Summary'>\n",
       "\"\"\"\n",
       "                                 OLS Regression Results                                \n",
       "=======================================================================================\n",
       "Dep. Variable:              SalePrice   R-squared (uncentered):                   0.973\n",
       "Model:                            OLS   Adj. R-squared (uncentered):              0.973\n",
       "Method:                 Least Squares   F-statistic:                              4309.\n",
       "Date:                Thu, 09 Apr 2020   Prob (F-statistic):                        0.00\n",
       "Time:                        20:42:26   Log-Likelihood:                         -24197.\n",
       "No. Observations:                2049   AIC:                                  4.843e+04\n",
       "Df Residuals:                    2032   BIC:                                  4.852e+04\n",
       "Df Model:                          17                                                  \n",
       "Covariance Type:            nonrobust                                                  \n",
       "===================================================================================\n",
       "                      coef    std err          t      P>|t|      [0.025      0.975]\n",
       "-----------------------------------------------------------------------------------\n",
       "Sq Ft Total        46.9789      1.427     32.925      0.000      44.181      49.777\n",
       "Overall Qual     9179.7677    948.625      9.677      0.000    7319.388     1.1e+04\n",
       "Lot Frontage      181.9294     36.923      4.927      0.000     109.518     254.341\n",
       "Age at Sale       202.6452    548.237      0.370      0.712    -872.520    1277.811\n",
       "Home Age         -492.0899    548.513     -0.897      0.370   -1567.797     583.617\n",
       "Yrs Since Remod  -390.7945     46.967     -8.321      0.000    -482.902    -298.687\n",
       "Has Fence         762.2670   1929.751      0.395      0.693   -3022.230    4546.764\n",
       "Has Wood Deck    1459.3358   1570.880      0.929      0.353   -1621.367    4540.038\n",
       "Has Masonry      2978.3670   1687.751      1.765      0.078    -331.535    6288.269\n",
       "Has Fireplace    1.498e+04   1669.216      8.975      0.000    1.17e+04    1.83e+04\n",
       "Has Garage      -8212.1634   3222.052     -2.549      0.011   -1.45e+04   -1893.293\n",
       "Has Pool         7033.1965   1.17e+04      0.599      0.549    -1.6e+04    3.01e+04\n",
       "Exter Qual       8928.1860   2106.053      4.239      0.000    4797.938    1.31e+04\n",
       "Exter Cond      -5575.5911   1854.000     -3.007      0.003   -9211.531   -1939.652\n",
       "Bsmt Cond       -1.605e+04   1971.415     -8.142      0.000   -1.99e+04   -1.22e+04\n",
       "Bsmt Qual        3761.6315   1590.459      2.365      0.018     642.532    6880.731\n",
       "Kitchen Qual     1.037e+04   1733.849      5.983      0.000    6973.810    1.38e+04\n",
       "==============================================================================\n",
       "Omnibus:                      645.584   Durbin-Watson:                   2.043\n",
       "Prob(Omnibus):                  0.000   Jarque-Bera (JB):             4469.135\n",
       "Skew:                           1.301   Prob(JB):                         0.00\n",
       "Kurtosis:                       9.751   Cond. No.                     4.32e+04\n",
       "==============================================================================\n",
       "\n",
       "Warnings:\n",
       "[1] Standard Errors assume that the covariance matrix of the errors is correctly specified.\n",
       "[2] The condition number is large, 4.32e+04. This might indicate that there are\n",
       "strong multicollinearity or other numerical problems.\n",
       "\"\"\""
      ]
     },
     "execution_count": 247,
     "metadata": {},
     "output_type": "execute_result"
    }
   ],
   "source": [
    "# Create and fit model\n",
    "model = sm.OLS(y_train, X_train).fit()\n",
    "model.summary()"
   ]
  },
  {
   "cell_type": "code",
   "execution_count": 47,
   "metadata": {},
   "outputs": [],
   "source": [
    "# The satsmodels output has a much higher R2.\n",
    "# The coefficients are interpretable but the R2 gives me pause."
   ]
  },
  {
   "cell_type": "markdown",
   "metadata": {},
   "source": [
    "### Send Predictions to CSV:"
   ]
  },
  {
   "cell_type": "code",
   "execution_count": 212,
   "metadata": {},
   "outputs": [],
   "source": [
    "# Create columns of Ids and the baseline_array\n",
    "predict = pd.concat([df_test.loc[:, 'Id'], y_pred], axis=1)\n",
    "predict.columns = ['Id', 'SalePrice']\n",
    "predict.to_csv('../predictions/ers_predict_04.csv', index=None)"
   ]
  },
  {
   "cell_type": "code",
   "execution_count": 213,
   "metadata": {},
   "outputs": [
    {
     "data": {
      "text/html": [
       "<div>\n",
       "<style scoped>\n",
       "    .dataframe tbody tr th:only-of-type {\n",
       "        vertical-align: middle;\n",
       "    }\n",
       "\n",
       "    .dataframe tbody tr th {\n",
       "        vertical-align: top;\n",
       "    }\n",
       "\n",
       "    .dataframe thead th {\n",
       "        text-align: right;\n",
       "    }\n",
       "</style>\n",
       "<table border=\"1\" class=\"dataframe\">\n",
       "  <thead>\n",
       "    <tr style=\"text-align: right;\">\n",
       "      <th></th>\n",
       "      <th>Id</th>\n",
       "      <th>SalePrice</th>\n",
       "    </tr>\n",
       "  </thead>\n",
       "  <tbody>\n",
       "    <tr>\n",
       "      <th>0</th>\n",
       "      <td>2658</td>\n",
       "      <td>123470.282855</td>\n",
       "    </tr>\n",
       "    <tr>\n",
       "      <th>1</th>\n",
       "      <td>2718</td>\n",
       "      <td>197012.171442</td>\n",
       "    </tr>\n",
       "    <tr>\n",
       "      <th>2</th>\n",
       "      <td>2414</td>\n",
       "      <td>194560.795940</td>\n",
       "    </tr>\n",
       "    <tr>\n",
       "      <th>3</th>\n",
       "      <td>1989</td>\n",
       "      <td>118322.741640</td>\n",
       "    </tr>\n",
       "    <tr>\n",
       "      <th>4</th>\n",
       "      <td>625</td>\n",
       "      <td>164601.803750</td>\n",
       "    </tr>\n",
       "  </tbody>\n",
       "</table>\n",
       "</div>"
      ],
      "text/plain": [
       "     Id      SalePrice\n",
       "0  2658  123470.282855\n",
       "1  2718  197012.171442\n",
       "2  2414  194560.795940\n",
       "3  1989  118322.741640\n",
       "4   625  164601.803750"
      ]
     },
     "execution_count": 213,
     "metadata": {},
     "output_type": "execute_result"
    }
   ],
   "source": [
    "predict.head()"
   ]
  }
 ],
 "metadata": {
  "kernelspec": {
   "display_name": "Python 3",
   "language": "python",
   "name": "python3"
  },
  "language_info": {
   "codemirror_mode": {
    "name": "ipython",
    "version": 3
   },
   "file_extension": ".py",
   "mimetype": "text/x-python",
   "name": "python",
   "nbconvert_exporter": "python",
   "pygments_lexer": "ipython3",
   "version": "3.7.6"
  }
 },
 "nbformat": 4,
 "nbformat_minor": 4
}
