{
 "cells": [
  {
   "cell_type": "markdown",
   "metadata": {},
   "source": [
    "## Feature Engineering:"
   ]
  },
  {
   "cell_type": "code",
   "execution_count": 4,
   "metadata": {},
   "outputs": [],
   "source": [
    "import seaborn as sns\n",
    "import pandas as pd\n",
    "import numpy as np\n",
    "import matplotlib.pyplot as plt\n",
    "\n",
    "from sklearn.linear_model import LinearRegression\n",
    "from sklearn.model_selection import train_test_split, cross_val_score, GridSearchCV\n",
    "from sklearn.pipeline import make_pipeline\n",
    "from sklearn.preprocessing import StandardScaler, PolynomialFeatures\n",
    "from sklearn.model_selection import train_test_split, GridSearchCV"
   ]
  },
  {
   "cell_type": "markdown",
   "metadata": {},
   "source": [
    "### Read in Data:"
   ]
  },
  {
   "cell_type": "code",
   "execution_count": 7,
   "metadata": {},
   "outputs": [],
   "source": [
    "df_train = pd.read_csv('../datasets/train_cleaned.csv')"
   ]
  },
  {
   "cell_type": "code",
   "execution_count": 8,
   "metadata": {},
   "outputs": [
    {
     "name": "stdout",
     "output_type": "stream",
     "text": [
      "<class 'pandas.core.frame.DataFrame'>\n",
      "RangeIndex: 2051 entries, 0 to 2050\n",
      "Data columns (total 82 columns):\n",
      " #   Column           Non-Null Count  Dtype  \n",
      "---  ------           --------------  -----  \n",
      " 0   Unnamed: 0       2051 non-null   int64  \n",
      " 1   Id               2051 non-null   int64  \n",
      " 2   PID              2051 non-null   int64  \n",
      " 3   MS SubClass      2051 non-null   int64  \n",
      " 4   MS Zoning        2051 non-null   object \n",
      " 5   Lot Frontage     2051 non-null   float64\n",
      " 6   Lot Area         2051 non-null   int64  \n",
      " 7   Street           2051 non-null   object \n",
      " 8   Alley            2051 non-null   object \n",
      " 9   Lot Shape        2051 non-null   object \n",
      " 10  Land Contour     2051 non-null   object \n",
      " 11  Utilities        2051 non-null   object \n",
      " 12  Lot Config       2051 non-null   object \n",
      " 13  Land Slope       2051 non-null   object \n",
      " 14  Neighborhood     2051 non-null   object \n",
      " 15  Condition 1      2051 non-null   object \n",
      " 16  Condition 2      2051 non-null   object \n",
      " 17  Bldg Type        2051 non-null   object \n",
      " 18  House Style      2051 non-null   object \n",
      " 19  Overall Qual     2051 non-null   int64  \n",
      " 20  Overall Cond     2051 non-null   int64  \n",
      " 21  Year Built       2051 non-null   int64  \n",
      " 22  Year Remod/Add   2051 non-null   int64  \n",
      " 23  Roof Style       2051 non-null   object \n",
      " 24  Roof Matl        2051 non-null   object \n",
      " 25  Exterior 1st     2051 non-null   object \n",
      " 26  Exterior 2nd     2051 non-null   object \n",
      " 27  Mas Vnr Type     2051 non-null   object \n",
      " 28  Mas Vnr Area     2051 non-null   float64\n",
      " 29  Exter Qual       2051 non-null   object \n",
      " 30  Exter Cond       2051 non-null   object \n",
      " 31  Foundation       2051 non-null   object \n",
      " 32  Bsmt Qual        2051 non-null   object \n",
      " 33  Bsmt Cond        2051 non-null   object \n",
      " 34  Bsmt Exposure    2051 non-null   object \n",
      " 35  BsmtFin Type 1   2051 non-null   object \n",
      " 36  BsmtFin SF 1     2051 non-null   float64\n",
      " 37  BsmtFin Type 2   2051 non-null   object \n",
      " 38  BsmtFin SF 2     2051 non-null   float64\n",
      " 39  Bsmt Unf SF      2051 non-null   float64\n",
      " 40  Total Bsmt SF    2051 non-null   float64\n",
      " 41  Heating          2051 non-null   object \n",
      " 42  Heating QC       2051 non-null   object \n",
      " 43  Central Air      2051 non-null   object \n",
      " 44  Electrical       2051 non-null   object \n",
      " 45  1st Flr SF       2051 non-null   int64  \n",
      " 46  2nd Flr SF       2051 non-null   int64  \n",
      " 47  Low Qual Fin SF  2051 non-null   int64  \n",
      " 48  Gr Liv Area      2051 non-null   int64  \n",
      " 49  Bsmt Full Bath   2051 non-null   object \n",
      " 50  Bsmt Half Bath   2051 non-null   object \n",
      " 51  Full Bath        2051 non-null   int64  \n",
      " 52  Half Bath        2051 non-null   int64  \n",
      " 53  Bedroom AbvGr    2051 non-null   int64  \n",
      " 54  Kitchen AbvGr    2051 non-null   int64  \n",
      " 55  Kitchen Qual     2051 non-null   object \n",
      " 56  TotRms AbvGrd    2051 non-null   int64  \n",
      " 57  Functional       2051 non-null   object \n",
      " 58  Fireplaces       2051 non-null   int64  \n",
      " 59  Fireplace Qu     2051 non-null   object \n",
      " 60  Garage Type      2051 non-null   object \n",
      " 61  Garage Yr Blt    1937 non-null   float64\n",
      " 62  Garage Finish    2051 non-null   object \n",
      " 63  Garage Cars      2051 non-null   float64\n",
      " 64  Garage Area      2051 non-null   float64\n",
      " 65  Garage Qual      2051 non-null   object \n",
      " 66  Garage Cond      2051 non-null   object \n",
      " 67  Paved Drive      2051 non-null   object \n",
      " 68  Wood Deck SF     2051 non-null   int64  \n",
      " 69  Open Porch SF    2051 non-null   int64  \n",
      " 70  Enclosed Porch   2051 non-null   int64  \n",
      " 71  3Ssn Porch       2051 non-null   int64  \n",
      " 72  Screen Porch     2051 non-null   int64  \n",
      " 73  Pool Area        2051 non-null   int64  \n",
      " 74  Pool QC          2051 non-null   object \n",
      " 75  Fence            2051 non-null   object \n",
      " 76  Misc Feature     2051 non-null   object \n",
      " 77  Misc Val         2051 non-null   int64  \n",
      " 78  Mo Sold          2051 non-null   int64  \n",
      " 79  Yr Sold          2051 non-null   int64  \n",
      " 80  Sale Type        2051 non-null   object \n",
      " 81  SalePrice        2051 non-null   int64  \n",
      "dtypes: float64(9), int64(29), object(44)\n",
      "memory usage: 1.3+ MB\n"
     ]
    }
   ],
   "source": [
    "# Verify data is clean:\n",
    "\n",
    "df_train.info()"
   ]
  },
  {
   "cell_type": "markdown",
   "metadata": {},
   "source": [
    "### Create Dummy Variables:"
   ]
  },
  {
   "cell_type": "code",
   "execution_count": 9,
   "metadata": {},
   "outputs": [
    {
     "name": "stdout",
     "output_type": "stream",
     "text": [
      "<class 'pandas.core.frame.DataFrame'>\n",
      "RangeIndex: 2051 entries, 0 to 2050\n",
      "Data columns (total 82 columns):\n",
      " #   Column           Non-Null Count  Dtype  \n",
      "---  ------           --------------  -----  \n",
      " 0   Unnamed: 0       2051 non-null   int64  \n",
      " 1   Id               2051 non-null   int64  \n",
      " 2   PID              2051 non-null   int64  \n",
      " 3   MS SubClass      2051 non-null   int64  \n",
      " 4   MS Zoning        2051 non-null   object \n",
      " 5   Lot Frontage     2051 non-null   float64\n",
      " 6   Lot Area         2051 non-null   int64  \n",
      " 7   Street           2051 non-null   object \n",
      " 8   Alley            2051 non-null   object \n",
      " 9   Lot Shape        2051 non-null   object \n",
      " 10  Land Contour     2051 non-null   object \n",
      " 11  Utilities        2051 non-null   object \n",
      " 12  Lot Config       2051 non-null   object \n",
      " 13  Land Slope       2051 non-null   object \n",
      " 14  Neighborhood     2051 non-null   object \n",
      " 15  Condition 1      2051 non-null   object \n",
      " 16  Condition 2      2051 non-null   object \n",
      " 17  Bldg Type        2051 non-null   object \n",
      " 18  House Style      2051 non-null   object \n",
      " 19  Overall Qual     2051 non-null   int64  \n",
      " 20  Overall Cond     2051 non-null   int64  \n",
      " 21  Year Built       2051 non-null   int64  \n",
      " 22  Year Remod/Add   2051 non-null   int64  \n",
      " 23  Roof Style       2051 non-null   object \n",
      " 24  Roof Matl        2051 non-null   object \n",
      " 25  Exterior 1st     2051 non-null   object \n",
      " 26  Exterior 2nd     2051 non-null   object \n",
      " 27  Mas Vnr Type     2051 non-null   object \n",
      " 28  Mas Vnr Area     2051 non-null   float64\n",
      " 29  Exter Qual       2051 non-null   object \n",
      " 30  Exter Cond       2051 non-null   object \n",
      " 31  Foundation       2051 non-null   object \n",
      " 32  Bsmt Qual        2051 non-null   object \n",
      " 33  Bsmt Cond        2051 non-null   object \n",
      " 34  Bsmt Exposure    2051 non-null   object \n",
      " 35  BsmtFin Type 1   2051 non-null   object \n",
      " 36  BsmtFin SF 1     2051 non-null   float64\n",
      " 37  BsmtFin Type 2   2051 non-null   object \n",
      " 38  BsmtFin SF 2     2051 non-null   float64\n",
      " 39  Bsmt Unf SF      2051 non-null   float64\n",
      " 40  Total Bsmt SF    2051 non-null   float64\n",
      " 41  Heating          2051 non-null   object \n",
      " 42  Heating QC       2051 non-null   object \n",
      " 43  Central Air      2051 non-null   object \n",
      " 44  Electrical       2051 non-null   object \n",
      " 45  1st Flr SF       2051 non-null   int64  \n",
      " 46  2nd Flr SF       2051 non-null   int64  \n",
      " 47  Low Qual Fin SF  2051 non-null   int64  \n",
      " 48  Gr Liv Area      2051 non-null   int64  \n",
      " 49  Bsmt Full Bath   2051 non-null   object \n",
      " 50  Bsmt Half Bath   2051 non-null   object \n",
      " 51  Full Bath        2051 non-null   int64  \n",
      " 52  Half Bath        2051 non-null   int64  \n",
      " 53  Bedroom AbvGr    2051 non-null   int64  \n",
      " 54  Kitchen AbvGr    2051 non-null   int64  \n",
      " 55  Kitchen Qual     2051 non-null   object \n",
      " 56  TotRms AbvGrd    2051 non-null   int64  \n",
      " 57  Functional       2051 non-null   object \n",
      " 58  Fireplaces       2051 non-null   int64  \n",
      " 59  Fireplace Qu     2051 non-null   object \n",
      " 60  Garage Type      2051 non-null   object \n",
      " 61  Garage Yr Blt    1937 non-null   float64\n",
      " 62  Garage Finish    2051 non-null   object \n",
      " 63  Garage Cars      2051 non-null   float64\n",
      " 64  Garage Area      2051 non-null   float64\n",
      " 65  Garage Qual      2051 non-null   object \n",
      " 66  Garage Cond      2051 non-null   object \n",
      " 67  Paved Drive      2051 non-null   object \n",
      " 68  Wood Deck SF     2051 non-null   int64  \n",
      " 69  Open Porch SF    2051 non-null   int64  \n",
      " 70  Enclosed Porch   2051 non-null   int64  \n",
      " 71  3Ssn Porch       2051 non-null   int64  \n",
      " 72  Screen Porch     2051 non-null   int64  \n",
      " 73  Pool Area        2051 non-null   int64  \n",
      " 74  Pool QC          2051 non-null   object \n",
      " 75  Fence            2051 non-null   object \n",
      " 76  Misc Feature     2051 non-null   object \n",
      " 77  Misc Val         2051 non-null   int64  \n",
      " 78  Mo Sold          2051 non-null   int64  \n",
      " 79  Yr Sold          2051 non-null   int64  \n",
      " 80  Sale Type        2051 non-null   object \n",
      " 81  SalePrice        2051 non-null   int64  \n",
      "dtypes: float64(9), int64(29), object(44)\n",
      "memory usage: 1.3+ MB\n"
     ]
    }
   ],
   "source": [
    "df_train.info()"
   ]
  },
  {
   "cell_type": "code",
   "execution_count": 320,
   "metadata": {},
   "outputs": [],
   "source": [
    "# Create variable for Total Sq Ft:\n",
    "\n",
    "df_train['Sq Ft Total'] = df_train['1st Flr SF'] + df_train['2nd Flr SF'] + df_train['Total Bsmt SF']"
   ]
  },
  {
   "cell_type": "code",
   "execution_count": 321,
   "metadata": {},
   "outputs": [],
   "source": [
    "#indexNames = df_train[df_train['Sq Ft Total'] > 10000]\n",
    "                      \n",
    "#df_train.drop(indexNames, inplace=True)\n",
    "\n",
    "df_train['Sq Ft Total'] = df_train.drop(df_train[(df_train['Sq Ft Total']>10_000)].index)\n",
    "\n",
    "#df_train['Sq Ft Total'].astype(float)\n",
    "#df_train['Sq Ft Total'] = df_train.loc[df_train['Sq Ft Total'] < 10000]\n",
    "\n",
    "df_train['Sq Ft Total'] = pd.to_numeric(df_train['Sq Ft Total'], downcast=\"float\")"
   ]
  },
  {
   "cell_type": "code",
   "execution_count": 322,
   "metadata": {},
   "outputs": [
    {
     "data": {
      "text/plain": [
       "dtype('float32')"
      ]
     },
     "execution_count": 322,
     "metadata": {},
     "output_type": "execute_result"
    }
   ],
   "source": [
    "df_train['Sq Ft Total'].dtype"
   ]
  },
  {
   "cell_type": "code",
   "execution_count": 323,
   "metadata": {},
   "outputs": [
    {
     "data": {
      "text/plain": [
       "<matplotlib.axes._subplots.AxesSubplot at 0x1a27e46e50>"
      ]
     },
     "execution_count": 323,
     "metadata": {},
     "output_type": "execute_result"
    },
    {
     "data": {
      "image/png": "[encoded data removed]",
      "text/plain": [
       "<Figure size 432x288 with 1 Axes>"
      ]
     },
     "metadata": {
      "needs_background": "light"
     },
     "output_type": "display_data"
    }
   ],
   "source": [
    "df_train['Total Bsmt SF'].hist()"
   ]
  },
  {
   "cell_type": "code",
   "execution_count": 324,
   "metadata": {},
   "outputs": [
    {
     "data": {
      "text/plain": [
       "<matplotlib.axes._subplots.AxesSubplot at 0x1a2648cd10>"
      ]
     },
     "execution_count": 324,
     "metadata": {},
     "output_type": "execute_result"
    },
    {
     "data": {
      "image/png": "[encoded data removed]",
      "text/plain": [
       "<Figure size 432x288 with 1 Axes>"
      ]
     },
     "metadata": {
      "needs_background": "light"
     },
     "output_type": "display_data"
    }
   ],
   "source": [
    "df_train['1st Flr SF'].hist()"
   ]
  },
  {
   "cell_type": "code",
   "execution_count": 325,
   "metadata": {},
   "outputs": [
    {
     "data": {
      "text/plain": [
       "<matplotlib.axes._subplots.AxesSubplot at 0x1a26296a90>"
      ]
     },
     "execution_count": 325,
     "metadata": {},
     "output_type": "execute_result"
    },
    {
     "data": {
      "image/png": "[encoded data removed]",
      "text/plain": [
       "<Figure size 432x288 with 1 Axes>"
      ]
     },
     "metadata": {
      "needs_background": "light"
     },
     "output_type": "display_data"
    }
   ],
   "source": [
    "df_train['Sq Ft Total'].hist()\n",
    "\n",
    "# WWWHHHHHYYYY?"
   ]
  },
  {
   "cell_type": "code",
   "execution_count": 326,
   "metadata": {},
   "outputs": [],
   "source": [
    "# Create variable for \"Has Open Porch\":\n",
    "\n",
    "df_train['Has Open Porch'] = [1 if i > 0 else 0 for i in df_train['Open Porch SF']]"
   ]
  },
  {
   "cell_type": "code",
   "execution_count": 327,
   "metadata": {},
   "outputs": [],
   "source": [
    "# Create variable for \"Has Wood Deck\":\n",
    "\n",
    "df_train['Has Wood Deck'] = [1 if i > 0 else 0 for i in df_train['Wood Deck SF']]"
   ]
  },
  {
   "cell_type": "code",
   "execution_count": 328,
   "metadata": {},
   "outputs": [],
   "source": [
    "# Create variable for \"Has Masonry\":\n",
    "\n",
    "df_train['Has Masonry'] = [1 if i > 0 else 0 for i in df_train['Mas Vnr Area']]"
   ]
  },
  {
   "cell_type": "code",
   "execution_count": 329,
   "metadata": {},
   "outputs": [],
   "source": [
    "# Create variable for \" Has Basement\":\n",
    "\n",
    "df_train['Has Basement'] = [1 if i > 0 else 0 for i in df_train['Total Bsmt SF']]"
   ]
  },
  {
   "cell_type": "code",
   "execution_count": 330,
   "metadata": {},
   "outputs": [],
   "source": [
    "# Create variable for \"Has Fireplace\":\n",
    "\n",
    "df_train['Has Fireplace'] = [1 if i > 0 else 0 for i in df_train['Fireplaces']]"
   ]
  },
  {
   "cell_type": "code",
   "execution_count": 331,
   "metadata": {},
   "outputs": [],
   "source": [
    "# Create variable for \"Has Garage\":\n",
    "\n",
    "df_train['Has Garage'] = [1 if i > 0 else 0 for i in df_train['Garage Area']]"
   ]
  },
  {
   "cell_type": "code",
   "execution_count": 332,
   "metadata": {},
   "outputs": [],
   "source": [
    "# Create variable for \"Has Pool\":\n",
    "\n",
    "df_train['Has Pool'] = [1 if i > 0 else 0 for i in df_train['Pool Area']]"
   ]
  },
  {
   "cell_type": "code",
   "execution_count": 333,
   "metadata": {},
   "outputs": [],
   "source": [
    "# Create variable for \"Has Fence\":\n",
    "\n",
    "df_train['Has Fence'] = [1 if i != 'none' else 0 for i in df_train['Fence']]"
   ]
  },
  {
   "cell_type": "code",
   "execution_count": 334,
   "metadata": {},
   "outputs": [],
   "source": [
    "# How old was the house when it was sold? \n",
    "\n",
    "df_train['Age at Sale'] = df_train['Yr Sold'] - df_train['Year Built']"
   ]
  },
  {
   "cell_type": "code",
   "execution_count": 351,
   "metadata": {},
   "outputs": [
    {
     "data": {
      "image/png": "[encoded data removed]",
      "text/plain": [
       "<Figure size 432x288 with 1 Axes>"
      ]
     },
     "metadata": {
      "needs_background": "light"
     },
     "output_type": "display_data"
    }
   ],
   "source": [
    "#hue = df['Sq Ft Total']\n",
    "#plt.scatter(df_train['Age at Sale'],df_train['SalePrice']\n",
    "       \n",
    "sns.scatterplot(x='Age at Sale',\n",
    "                y='SalePrice',\n",
    "               palette='Blues',\n",
    "               hue='Sq Ft Total',\n",
    "               data=df_train);\n"
   ]
  },
  {
   "cell_type": "code",
   "execution_count": 336,
   "metadata": {},
   "outputs": [],
   "source": [
    "# Create Age of House Variable:\n",
    "# Data is from 2010\n",
    "\n",
    "df_train['Home Age'] = 2010 - df_train['Year Built']\n",
    "#df_train['Garage Age'] = 2010 - df_train['Garage Yr Blt']"
   ]
  },
  {
   "cell_type": "code",
   "execution_count": 337,
   "metadata": {},
   "outputs": [],
   "source": [
    "# Create Year since remodel/addition variable:\n",
    "\n",
    "df_train['Yrs Since Remod'] = 2010 - df_train['Year Remod/Add']\n",
    "\n",
    "#Mo Sold >> Make Categorical: expect seasonality\n",
    "#Yr Sold >> Not sure what to do with this."
   ]
  },
  {
   "cell_type": "code",
   "execution_count": 11,
   "metadata": {},
   "outputs": [],
   "source": [
    "# Casting int variables for desired dummification as objects: \n",
    "\n",
    "df_train['MS SubClass'] = df_train['MS SubClass'].astype(object)\n",
    "df_train['Mo Sold'] = df_train['Mo Sold'].astype(object)\n",
    "df_train['Yr Sold'] = df_train['Yr Sold'].astype(object)"
   ]
  },
  {
   "cell_type": "code",
   "execution_count": 12,
   "metadata": {},
   "outputs": [],
   "source": [
    "#df_train.describe()"
   ]
  },
  {
   "cell_type": "markdown",
   "metadata": {},
   "source": [
    "### Create Ordinal Mappings For Common Features:"
   ]
  },
  {
   "cell_type": "code",
   "execution_count": 13,
   "metadata": {},
   "outputs": [],
   "source": [
    "# Ordinal Map for Exterior quality:\n",
    "\n",
    "df_train['Exter Qual'] = df_train['Exter Qual'].map({'Ex':4, 'Gd':3, 'TA':2, 'Fa':1, 'Po':0})"
   ]
  },
  {
   "cell_type": "code",
   "execution_count": 14,
   "metadata": {},
   "outputs": [],
   "source": [
    "# Ordinal Map for Exterior condition:\n",
    "\n",
    "df_train['Exter Cond'] = df_train['Exter Cond'].map({'Ex':4, 'Gd':3, 'TA':2, 'Fa':1, 'Po':0})"
   ]
  },
  {
   "cell_type": "code",
   "execution_count": 15,
   "metadata": {},
   "outputs": [],
   "source": [
    "# Ordinal Map for Basement condition:\n",
    "\n",
    "df_train['Bsmt Cond'] = df_train['Bsmt Cond'].map({'Ex':4, 'Gd':3, 'TA':2, 'Fa':1, 'Po':0, 'none':0})"
   ]
  },
  {
   "cell_type": "code",
   "execution_count": 16,
   "metadata": {},
   "outputs": [],
   "source": [
    "# Ordinal Map for Kitchen quality:\n",
    "\n",
    "df_train['Kitchen Qual'] = df_train['Kitchen Qual'].map({'Ex':4, 'Gd':3, 'TA':2, 'Fa':1, 'Po':0})"
   ]
  },
  {
   "cell_type": "code",
   "execution_count": 17,
   "metadata": {},
   "outputs": [],
   "source": [
    "# Considered including basement finish types, but \n",
    "# raises questions duplicate data with other basement variables: \n",
    "\n",
    "# df_train['BsmtFin Type 1'] = df_train['BsmtFin Type 1'].map({'GLQ':2, 'ALQ':1, 'Rec':0.5, 'BLQ':0, 'Unf':0, 'LwQ':0, 'none':0})\n",
    "\n",
    "# df_train['BsmtFin Type 2'] = df_train['BsmtFin Type 2'].map({'GLQ':2, 'ALQ':1, 'Rec':0.5, 'BLQ':0, 'Unf':0, 'LwQ':0, 'none':0})"
   ]
  },
  {
   "cell_type": "code",
   "execution_count": 18,
   "metadata": {},
   "outputs": [],
   "source": [
    "# Create log of Sale Price:\n",
    "\n",
    "df_train['log_SalePrice'] = np.log(df_train['SalePrice'])\n",
    "\n",
    "# Dependent variable was skewed. Log should help correct."
   ]
  },
  {
   "cell_type": "code",
   "execution_count": 19,
   "metadata": {},
   "outputs": [
    {
     "name": "stdout",
     "output_type": "stream",
     "text": [
      "<class 'pandas.core.frame.DataFrame'>\n",
      "RangeIndex: 2051 entries, 0 to 2050\n",
      "Data columns (total 83 columns):\n",
      " #   Column           Non-Null Count  Dtype  \n",
      "---  ------           --------------  -----  \n",
      " 0   Unnamed: 0       2051 non-null   int64  \n",
      " 1   Id               2051 non-null   int64  \n",
      " 2   PID              2051 non-null   int64  \n",
      " 3   MS SubClass      2051 non-null   object \n",
      " 4   MS Zoning        2051 non-null   object \n",
      " 5   Lot Frontage     2051 non-null   float64\n",
      " 6   Lot Area         2051 non-null   int64  \n",
      " 7   Street           2051 non-null   object \n",
      " 8   Alley            2051 non-null   object \n",
      " 9   Lot Shape        2051 non-null   object \n",
      " 10  Land Contour     2051 non-null   object \n",
      " 11  Utilities        2051 non-null   object \n",
      " 12  Lot Config       2051 non-null   object \n",
      " 13  Land Slope       2051 non-null   object \n",
      " 14  Neighborhood     2051 non-null   object \n",
      " 15  Condition 1      2051 non-null   object \n",
      " 16  Condition 2      2051 non-null   object \n",
      " 17  Bldg Type        2051 non-null   object \n",
      " 18  House Style      2051 non-null   object \n",
      " 19  Overall Qual     2051 non-null   int64  \n",
      " 20  Overall Cond     2051 non-null   int64  \n",
      " 21  Year Built       2051 non-null   int64  \n",
      " 22  Year Remod/Add   2051 non-null   int64  \n",
      " 23  Roof Style       2051 non-null   object \n",
      " 24  Roof Matl        2051 non-null   object \n",
      " 25  Exterior 1st     2051 non-null   object \n",
      " 26  Exterior 2nd     2051 non-null   object \n",
      " 27  Mas Vnr Type     2051 non-null   object \n",
      " 28  Mas Vnr Area     2051 non-null   float64\n",
      " 29  Exter Qual       2051 non-null   int64  \n",
      " 30  Exter Cond       2051 non-null   int64  \n",
      " 31  Foundation       2051 non-null   object \n",
      " 32  Bsmt Qual        2051 non-null   object \n",
      " 33  Bsmt Cond        2051 non-null   int64  \n",
      " 34  Bsmt Exposure    2051 non-null   object \n",
      " 35  BsmtFin Type 1   2051 non-null   object \n",
      " 36  BsmtFin SF 1     2051 non-null   float64\n",
      " 37  BsmtFin Type 2   2051 non-null   object \n",
      " 38  BsmtFin SF 2     2051 non-null   float64\n",
      " 39  Bsmt Unf SF      2051 non-null   float64\n",
      " 40  Total Bsmt SF    2051 non-null   float64\n",
      " 41  Heating          2051 non-null   object \n",
      " 42  Heating QC       2051 non-null   object \n",
      " 43  Central Air      2051 non-null   object \n",
      " 44  Electrical       2051 non-null   object \n",
      " 45  1st Flr SF       2051 non-null   int64  \n",
      " 46  2nd Flr SF       2051 non-null   int64  \n",
      " 47  Low Qual Fin SF  2051 non-null   int64  \n",
      " 48  Gr Liv Area      2051 non-null   int64  \n",
      " 49  Bsmt Full Bath   2051 non-null   object \n",
      " 50  Bsmt Half Bath   2051 non-null   object \n",
      " 51  Full Bath        2051 non-null   int64  \n",
      " 52  Half Bath        2051 non-null   int64  \n",
      " 53  Bedroom AbvGr    2051 non-null   int64  \n",
      " 54  Kitchen AbvGr    2051 non-null   int64  \n",
      " 55  Kitchen Qual     2051 non-null   int64  \n",
      " 56  TotRms AbvGrd    2051 non-null   int64  \n",
      " 57  Functional       2051 non-null   object \n",
      " 58  Fireplaces       2051 non-null   int64  \n",
      " 59  Fireplace Qu     2051 non-null   object \n",
      " 60  Garage Type      2051 non-null   object \n",
      " 61  Garage Yr Blt    1937 non-null   float64\n",
      " 62  Garage Finish    2051 non-null   object \n",
      " 63  Garage Cars      2051 non-null   float64\n",
      " 64  Garage Area      2051 non-null   float64\n",
      " 65  Garage Qual      2051 non-null   object \n",
      " 66  Garage Cond      2051 non-null   object \n",
      " 67  Paved Drive      2051 non-null   object \n",
      " 68  Wood Deck SF     2051 non-null   int64  \n",
      " 69  Open Porch SF    2051 non-null   int64  \n",
      " 70  Enclosed Porch   2051 non-null   int64  \n",
      " 71  3Ssn Porch       2051 non-null   int64  \n",
      " 72  Screen Porch     2051 non-null   int64  \n",
      " 73  Pool Area        2051 non-null   int64  \n",
      " 74  Pool QC          2051 non-null   object \n",
      " 75  Fence            2051 non-null   object \n",
      " 76  Misc Feature     2051 non-null   object \n",
      " 77  Misc Val         2051 non-null   int64  \n",
      " 78  Mo Sold          2051 non-null   object \n",
      " 79  Yr Sold          2051 non-null   object \n",
      " 80  Sale Type        2051 non-null   object \n",
      " 81  SalePrice        2051 non-null   int64  \n",
      " 82  log_SalePrice    2051 non-null   float64\n",
      "dtypes: float64(10), int64(30), object(43)\n",
      "memory usage: 1.3+ MB\n"
     ]
    }
   ],
   "source": [
    "df_train.info()"
   ]
  },
  {
   "cell_type": "code",
   "execution_count": null,
   "metadata": {},
   "outputs": [],
   "source": [
    "# Drop all variables to be dummied, i.e., not already mapped or dummied above\n",
    "\n",
    "# Make a df = to this, then dumifies what's left. \n",
    "# Below are the numerical vars to drop.\n",
    "# For test data, drop sale price >> else will throw error\n",
    "\n",
    "df_train = df_train.drop(columns = ['Id', 'PID', 'Lot Frontage', 'Lot Area',\n",
    "                      'Overall Qual', 'Overall Cond', 'Year Built',\n",
    "                      'Year Remod/Add', 'Mas Vnr Area', 'BsmtFin SF 1', \n",
    "                      'BsmtFin SF 2', 'Bsmt Unf SF', 'Total Bsmt SF',\n",
    "                      '1st Flr SF', '2nd Flr SF', 'Low Qual Fin SF', \n",
    "                      'Gr Liv Area', 'Garage Yr Blt', 'Garage Area', \n",
    "                      'Wood Deck SF', 'Open Porch SF', 'Enclosed Porch',\n",
    "                      '3Ssn Porch', 'Screen Porch', 'Pool Area', 'Yr Sold', \n",
    "                      'SalePrice'])"
   ]
  },
  {
   "cell_type": "code",
   "execution_count": null,
   "metadata": {},
   "outputs": [],
   "source": [
    "# Function to create dummies per column:\n",
    "def dummies(dataframe, columns):\n",
    "    for column in columns:\n",
    "        dataframe = pd.get_dummies(dataframe, columns=column, drop_first=True)\n",
    "    return dataframe"
   ]
  },
  {
   "cell_type": "code",
   "execution_count": null,
   "metadata": {},
   "outputs": [],
   "source": []
  },
  {
   "cell_type": "code",
   "execution_count": null,
   "metadata": {},
   "outputs": [],
   "source": []
  },
  {
   "cell_type": "code",
   "execution_count": 349,
   "metadata": {},
   "outputs": [
    {
     "name": "stdout",
     "output_type": "stream",
     "text": [
      "<class 'pandas.core.frame.DataFrame'>\n",
      "RangeIndex: 2051 entries, 0 to 2050\n",
      "Data columns (total 95 columns):\n",
      " #   Column           Non-Null Count  Dtype  \n",
      "---  ------           --------------  -----  \n",
      " 0   Unnamed: 0       2051 non-null   int64  \n",
      " 1   Id               2051 non-null   int64  \n",
      " 2   PID              2051 non-null   int64  \n",
      " 3   MS SubClass      2051 non-null   object \n",
      " 4   MS Zoning        2051 non-null   object \n",
      " 5   Lot Frontage     2051 non-null   float64\n",
      " 6   Lot Area         2051 non-null   int64  \n",
      " 7   Street           2051 non-null   object \n",
      " 8   Alley            2051 non-null   object \n",
      " 9   Lot Shape        2051 non-null   object \n",
      " 10  Land Contour     2051 non-null   object \n",
      " 11  Utilities        2051 non-null   object \n",
      " 12  Lot Config       2051 non-null   object \n",
      " 13  Land Slope       2051 non-null   object \n",
      " 14  Neighborhood     2051 non-null   object \n",
      " 15  Condition 1      2051 non-null   object \n",
      " 16  Condition 2      2051 non-null   object \n",
      " 17  Bldg Type        2051 non-null   object \n",
      " 18  House Style      2051 non-null   object \n",
      " 19  Overall Qual     2051 non-null   int64  \n",
      " 20  Overall Cond     2051 non-null   int64  \n",
      " 21  Year Built       2051 non-null   int64  \n",
      " 22  Year Remod/Add   2051 non-null   int64  \n",
      " 23  Roof Style       2051 non-null   object \n",
      " 24  Roof Matl        2051 non-null   object \n",
      " 25  Exterior 1st     2051 non-null   object \n",
      " 26  Exterior 2nd     2051 non-null   object \n",
      " 27  Mas Vnr Type     2051 non-null   object \n",
      " 28  Mas Vnr Area     2051 non-null   float64\n",
      " 29  Exter Qual       2051 non-null   int64  \n",
      " 30  Exter Cond       2051 non-null   int64  \n",
      " 31  Foundation       2051 non-null   object \n",
      " 32  Bsmt Qual        2051 non-null   object \n",
      " 33  Bsmt Cond        2051 non-null   int64  \n",
      " 34  Bsmt Exposure    2051 non-null   object \n",
      " 35  BsmtFin Type 1   2051 non-null   object \n",
      " 36  BsmtFin SF 1     2051 non-null   float64\n",
      " 37  BsmtFin Type 2   2051 non-null   object \n",
      " 38  BsmtFin SF 2     2051 non-null   float64\n",
      " 39  Bsmt Unf SF      2051 non-null   float64\n",
      " 40  Total Bsmt SF    2051 non-null   float64\n",
      " 41  Heating          2051 non-null   object \n",
      " 42  Heating QC       2051 non-null   object \n",
      " 43  Central Air      2051 non-null   object \n",
      " 44  Electrical       2051 non-null   object \n",
      " 45  1st Flr SF       2051 non-null   int64  \n",
      " 46  2nd Flr SF       2051 non-null   int64  \n",
      " 47  Low Qual Fin SF  2051 non-null   int64  \n",
      " 48  Gr Liv Area      2051 non-null   int64  \n",
      " 49  Bsmt Full Bath   2051 non-null   object \n",
      " 50  Bsmt Half Bath   2051 non-null   object \n",
      " 51  Full Bath        2051 non-null   int64  \n",
      " 52  Half Bath        2051 non-null   int64  \n",
      " 53  Bedroom AbvGr    2051 non-null   int64  \n",
      " 54  Kitchen AbvGr    2051 non-null   int64  \n",
      " 55  Kitchen Qual     2051 non-null   int64  \n",
      " 56  TotRms AbvGrd    2051 non-null   int64  \n",
      " 57  Functional       2051 non-null   object \n",
      " 58  Fireplaces       2051 non-null   int64  \n",
      " 59  Fireplace Qu     2051 non-null   object \n",
      " 60  Garage Type      2051 non-null   object \n",
      " 61  Garage Yr Blt    1937 non-null   float64\n",
      " 62  Garage Finish    2051 non-null   object \n",
      " 63  Garage Cars      2051 non-null   float64\n",
      " 64  Garage Area      2051 non-null   float64\n",
      " 65  Garage Qual      2051 non-null   object \n",
      " 66  Garage Cond      2051 non-null   object \n",
      " 67  Paved Drive      2051 non-null   object \n",
      " 68  Wood Deck SF     2051 non-null   int64  \n",
      " 69  Open Porch SF    2051 non-null   int64  \n",
      " 70  Enclosed Porch   2051 non-null   int64  \n",
      " 71  3Ssn Porch       2051 non-null   int64  \n",
      " 72  Screen Porch     2051 non-null   int64  \n",
      " 73  Pool Area        2051 non-null   int64  \n",
      " 74  Pool QC          2051 non-null   object \n",
      " 75  Fence            2051 non-null   object \n",
      " 76  Misc Feature     2051 non-null   object \n",
      " 77  Misc Val         2051 non-null   int64  \n",
      " 78  Mo Sold          2051 non-null   object \n",
      " 79  Yr Sold          2051 non-null   object \n",
      " 80  Sale Type        2051 non-null   object \n",
      " 81  SalePrice        2051 non-null   int64  \n",
      " 82  Sq Ft Total      2049 non-null   float32\n",
      " 83  Has Open Porch   2051 non-null   int64  \n",
      " 84  Has Wood Deck    2051 non-null   int64  \n",
      " 85  Has Masonry      2051 non-null   int64  \n",
      " 86  Has Basement     2051 non-null   int64  \n",
      " 87  Has Fireplace    2051 non-null   int64  \n",
      " 88  Has Garage       2051 non-null   int64  \n",
      " 89  Has Pool         2051 non-null   int64  \n",
      " 90  Has Fence        2051 non-null   int64  \n",
      " 91  Age at Sale      2051 non-null   int64  \n",
      " 92  Home Age         2051 non-null   int64  \n",
      " 93  Yrs Since Remod  2051 non-null   int64  \n",
      " 94  log_SalePrice    2051 non-null   float64\n",
      "dtypes: float32(1), float64(10), int64(41), object(43)\n",
      "memory usage: 1.5+ MB\n"
     ]
    }
   ],
   "source": [
    "df_train.info()"
   ]
  },
  {
   "cell_type": "markdown",
   "metadata": {},
   "source": [
    "### Export Data to CSV:"
   ]
  },
  {
   "cell_type": "code",
   "execution_count": null,
   "metadata": {},
   "outputs": [],
   "source": [
    "# Export with engineered features for next step >> modeling.\n",
    "\n",
    "# Export to CSV for next step >> Feature Engineering:\n",
    "\n",
    "df_train.to_csv('../datasets/train_cleaned_engineered.csv')"
   ]
  },
  {
   "cell_type": "code",
   "execution_count": 310,
   "metadata": {},
   "outputs": [
    {
     "data": {
      "text/plain": [
       "(2051, 94)"
      ]
     },
     "execution_count": 310,
     "metadata": {},
     "output_type": "execute_result"
    }
   ],
   "source": [
    "# Test shape of train and test data:\n",
    "\n",
    "df_train.shape"
   ]
  },
  {
   "cell_type": "code",
   "execution_count": null,
   "metadata": {},
   "outputs": [],
   "source": []
  }
 ],
 "metadata": {
  "kernelspec": {
   "display_name": "Python 3",
   "language": "python",
   "name": "python3"
  },
  "language_info": {
   "codemirror_mode": {
    "name": "ipython",
    "version": 3
   },
   "file_extension": ".py",
   "mimetype": "text/x-python",
   "name": "python",
   "nbconvert_exporter": "python",
   "pygments_lexer": "ipython3",
   "version": "3.7.6"
  }
 },
 "nbformat": 4,
 "nbformat_minor": 4
}
