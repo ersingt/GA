{
 "cells": [
  {
   "cell_type": "markdown",
   "metadata": {},
   "source": [
    "## Feature Engineering:"
   ]
  },
  {
   "cell_type": "code",
   "execution_count": 444,
   "metadata": {},
   "outputs": [],
   "source": [
    "import seaborn as sns\n",
    "import pandas as pd\n",
    "import numpy as np\n",
    "import matplotlib.pyplot as plt\n",
    "\n",
    "from sklearn.linear_model import LinearRegression\n",
    "from sklearn.model_selection import train_test_split, cross_val_score, GridSearchCV\n",
    "from sklearn.pipeline import make_pipeline\n",
    "from sklearn.preprocessing import StandardScaler, PolynomialFeatures\n",
    "from sklearn.model_selection import train_test_split, GridSearchCV"
   ]
  },
  {
   "cell_type": "markdown",
   "metadata": {},
   "source": [
    "### Read in Data:"
   ]
  },
  {
   "cell_type": "code",
   "execution_count": 478,
   "metadata": {},
   "outputs": [],
   "source": [
    "df_train = pd.read_csv('../datasets/train_cleaned.csv')"
   ]
  },
  {
   "cell_type": "code",
   "execution_count": 479,
   "metadata": {},
   "outputs": [
    {
     "name": "stdout",
     "output_type": "stream",
     "text": [
      "<class 'pandas.core.frame.DataFrame'>\n",
      "RangeIndex: 2048 entries, 0 to 2047\n",
      "Data columns (total 82 columns):\n",
      " #   Column           Non-Null Count  Dtype  \n",
      "---  ------           --------------  -----  \n",
      " 0   Unnamed: 0       2048 non-null   int64  \n",
      " 1   Id               2048 non-null   int64  \n",
      " 2   PID              2048 non-null   int64  \n",
      " 3   MS SubClass      2048 non-null   int64  \n",
      " 4   MS Zoning        2048 non-null   object \n",
      " 5   Lot Frontage     2048 non-null   float64\n",
      " 6   Lot Area         2048 non-null   int64  \n",
      " 7   Street           2048 non-null   object \n",
      " 8   Alley            2048 non-null   object \n",
      " 9   Lot Shape        2048 non-null   object \n",
      " 10  Land Contour     2048 non-null   object \n",
      " 11  Utilities        2048 non-null   object \n",
      " 12  Lot Config       2048 non-null   object \n",
      " 13  Land Slope       2048 non-null   object \n",
      " 14  Neighborhood     2048 non-null   object \n",
      " 15  Condition 1      2048 non-null   object \n",
      " 16  Condition 2      2048 non-null   object \n",
      " 17  Bldg Type        2048 non-null   object \n",
      " 18  House Style      2048 non-null   object \n",
      " 19  Overall Qual     2048 non-null   int64  \n",
      " 20  Overall Cond     2048 non-null   int64  \n",
      " 21  Year Built       2048 non-null   int64  \n",
      " 22  Year Remod/Add   2048 non-null   int64  \n",
      " 23  Roof Style       2048 non-null   object \n",
      " 24  Roof Matl        2048 non-null   object \n",
      " 25  Exterior 1st     2048 non-null   object \n",
      " 26  Exterior 2nd     2048 non-null   object \n",
      " 27  Mas Vnr Type     2048 non-null   object \n",
      " 28  Mas Vnr Area     2048 non-null   float64\n",
      " 29  Exter Qual       2048 non-null   object \n",
      " 30  Exter Cond       2048 non-null   object \n",
      " 31  Foundation       2048 non-null   object \n",
      " 32  Bsmt Qual        2048 non-null   object \n",
      " 33  Bsmt Cond        2048 non-null   object \n",
      " 34  Bsmt Exposure    2048 non-null   object \n",
      " 35  BsmtFin Type 1   2048 non-null   object \n",
      " 36  BsmtFin SF 1     2048 non-null   float64\n",
      " 37  BsmtFin Type 2   2048 non-null   object \n",
      " 38  BsmtFin SF 2     2048 non-null   float64\n",
      " 39  Bsmt Unf SF      2048 non-null   float64\n",
      " 40  Total Bsmt SF    2048 non-null   float64\n",
      " 41  Heating          2048 non-null   object \n",
      " 42  Heating QC       2048 non-null   object \n",
      " 43  Central Air      2048 non-null   object \n",
      " 44  Electrical       2048 non-null   object \n",
      " 45  1st Flr SF       2048 non-null   int64  \n",
      " 46  2nd Flr SF       2048 non-null   int64  \n",
      " 47  Low Qual Fin SF  2048 non-null   int64  \n",
      " 48  Gr Liv Area      2048 non-null   int64  \n",
      " 49  Bsmt Full Bath   2048 non-null   object \n",
      " 50  Bsmt Half Bath   2048 non-null   object \n",
      " 51  Full Bath        2048 non-null   int64  \n",
      " 52  Half Bath        2048 non-null   int64  \n",
      " 53  Bedroom AbvGr    2048 non-null   int64  \n",
      " 54  Kitchen AbvGr    2048 non-null   int64  \n",
      " 55  Kitchen Qual     2048 non-null   object \n",
      " 56  TotRms AbvGrd    2048 non-null   int64  \n",
      " 57  Functional       2048 non-null   object \n",
      " 58  Fireplaces       2048 non-null   int64  \n",
      " 59  Fireplace Qu     2048 non-null   object \n",
      " 60  Garage Type      2048 non-null   object \n",
      " 61  Garage Yr Blt    1934 non-null   float64\n",
      " 62  Garage Finish    2048 non-null   object \n",
      " 63  Garage Cars      2048 non-null   float64\n",
      " 64  Garage Area      2048 non-null   float64\n",
      " 65  Garage Qual      2048 non-null   object \n",
      " 66  Garage Cond      2048 non-null   object \n",
      " 67  Paved Drive      2048 non-null   object \n",
      " 68  Wood Deck SF     2048 non-null   int64  \n",
      " 69  Open Porch SF    2048 non-null   int64  \n",
      " 70  Enclosed Porch   2048 non-null   int64  \n",
      " 71  3Ssn Porch       2048 non-null   int64  \n",
      " 72  Screen Porch     2048 non-null   int64  \n",
      " 73  Pool Area        2048 non-null   int64  \n",
      " 74  Pool QC          2048 non-null   object \n",
      " 75  Fence            2048 non-null   object \n",
      " 76  Misc Feature     2048 non-null   object \n",
      " 77  Misc Val         2048 non-null   int64  \n",
      " 78  Mo Sold          2048 non-null   int64  \n",
      " 79  Yr Sold          2048 non-null   int64  \n",
      " 80  Sale Type        2048 non-null   object \n",
      " 81  SalePrice        2048 non-null   int64  \n",
      "dtypes: float64(9), int64(29), object(44)\n",
      "memory usage: 1.3+ MB\n"
     ]
    }
   ],
   "source": [
    "# Verify data is clean:\n",
    "\n",
    "df_train.info()"
   ]
  },
  {
   "cell_type": "markdown",
   "metadata": {},
   "source": [
    "### Create Interaction and Dummy Variables:"
   ]
  },
  {
   "cell_type": "code",
   "execution_count": 480,
   "metadata": {},
   "outputs": [],
   "source": [
    "# Create variable for Total Sq Ft:\n",
    "\n",
    "df_train['Sq Ft Total'] = df_train['1st Flr SF'] + df_train['2nd Flr SF'] + df_train['Total Bsmt SF']"
   ]
  },
  {
   "cell_type": "code",
   "execution_count": 481,
   "metadata": {},
   "outputs": [
    {
     "data": {
      "text/plain": [
       "<matplotlib.axes._subplots.AxesSubplot at 0x1a2b18db50>"
      ]
     },
     "execution_count": 481,
     "metadata": {},
     "output_type": "execute_result"
    },
    {
     "data": {
      "image/png": "[encoded data removed]",
      "text/plain": [
       "<Figure size 432x288 with 1 Axes>"
      ]
     },
     "metadata": {
      "needs_background": "light"
     },
     "output_type": "display_data"
    }
   ],
   "source": [
    "df_train['Total Bsmt SF'].hist()"
   ]
  },
  {
   "cell_type": "code",
   "execution_count": 482,
   "metadata": {},
   "outputs": [
    {
     "data": {
      "text/plain": [
       "<matplotlib.axes._subplots.AxesSubplot at 0x1a2bedcc50>"
      ]
     },
     "execution_count": 482,
     "metadata": {},
     "output_type": "execute_result"
    },
    {
     "data": {
      "image/png": "[encoded data removed]",
      "text/plain": [
       "<Figure size 432x288 with 1 Axes>"
      ]
     },
     "metadata": {
      "needs_background": "light"
     },
     "output_type": "display_data"
    }
   ],
   "source": [
    "df_train['1st Flr SF'].hist()"
   ]
  },
  {
   "cell_type": "code",
   "execution_count": 483,
   "metadata": {},
   "outputs": [
    {
     "data": {
      "text/plain": [
       "<matplotlib.axes._subplots.AxesSubplot at 0x1a2ba68b10>"
      ]
     },
     "execution_count": 483,
     "metadata": {},
     "output_type": "execute_result"
    },
    {
     "data": {
      "image/png": "[encoded data removed]",
      "text/plain": [
       "<Figure size 432x288 with 1 Axes>"
      ]
     },
     "metadata": {
      "needs_background": "light"
     },
     "output_type": "display_data"
    }
   ],
   "source": [
    "df_train['Sq Ft Total'].hist()"
   ]
  },
  {
   "cell_type": "code",
   "execution_count": 484,
   "metadata": {},
   "outputs": [],
   "source": [
    "# Create variable for \"Has Open Porch\":\n",
    "\n",
    "df_train['Has Open Porch'] = [1 if i > 0 else 0 for i in df_train['Open Porch SF']]"
   ]
  },
  {
   "cell_type": "code",
   "execution_count": 485,
   "metadata": {},
   "outputs": [],
   "source": [
    "# Create variable for \"Has Wood Deck\":\n",
    "\n",
    "df_train['Has Wood Deck'] = [1 if i > 0 else 0 for i in df_train['Wood Deck SF']]"
   ]
  },
  {
   "cell_type": "code",
   "execution_count": 486,
   "metadata": {},
   "outputs": [],
   "source": [
    "# Create variable for \"Has Masonry\":\n",
    "\n",
    "df_train['Has Masonry'] = [1 if i > 0 else 0 for i in df_train['Mas Vnr Area']]"
   ]
  },
  {
   "cell_type": "code",
   "execution_count": 487,
   "metadata": {},
   "outputs": [],
   "source": [
    "# Create variable for \" Has Basement\":\n",
    "\n",
    "df_train['Has Basement'] = [1 if i > 0 else 0 for i in df_train['Total Bsmt SF']]"
   ]
  },
  {
   "cell_type": "code",
   "execution_count": 488,
   "metadata": {},
   "outputs": [],
   "source": [
    "# Create variable for \"Has Fireplace\":\n",
    "\n",
    "df_train['Has Fireplace'] = [1 if i > 0 else 0 for i in df_train['Fireplaces']]"
   ]
  },
  {
   "cell_type": "code",
   "execution_count": 489,
   "metadata": {},
   "outputs": [],
   "source": [
    "# Create variable for \"Has Garage\":\n",
    "\n",
    "df_train['Has Garage'] = [1 if i > 0 else 0 for i in df_train['Garage Area']]"
   ]
  },
  {
   "cell_type": "code",
   "execution_count": 490,
   "metadata": {},
   "outputs": [],
   "source": [
    "# Create variable for \"Has Pool\":\n",
    "\n",
    "df_train['Has Pool'] = [1 if i > 0 else 0 for i in df_train['Pool Area']]"
   ]
  },
  {
   "cell_type": "code",
   "execution_count": 491,
   "metadata": {},
   "outputs": [],
   "source": [
    "# Create variable for \"Has Fence\":\n",
    "\n",
    "df_train['Has Fence'] = [1 if i != 'none' else 0 for i in df_train['Fence']]"
   ]
  },
  {
   "cell_type": "code",
   "execution_count": 492,
   "metadata": {},
   "outputs": [],
   "source": [
    "# How old was the house when it was sold? \n",
    "\n",
    "df_train['Age at Sale'] = df_train['Yr Sold'] - df_train['Year Built']"
   ]
  },
  {
   "cell_type": "code",
   "execution_count": 493,
   "metadata": {},
   "outputs": [
    {
     "data": {
      "image/png": "[encoded data removed]",
      "text/plain": [
       "<Figure size 432x288 with 1 Axes>"
      ]
     },
     "metadata": {
      "needs_background": "light"
     },
     "output_type": "display_data"
    }
   ],
   "source": [
    "# hue = df['Sq Ft Total']\n",
    "# plt.scatter(df_train['Age at Sale'],df_train['SalePrice']\n",
    "# will not work for test data\n",
    "\n",
    "sns.scatterplot(x='Age at Sale',\n",
    "                y='SalePrice',\n",
    "                \n",
    "               palette='Blues',\n",
    "               hue='Sq Ft Total',\n",
    "               data=df_train);\n"
   ]
  },
  {
   "cell_type": "code",
   "execution_count": 494,
   "metadata": {},
   "outputs": [],
   "source": [
    "# Create Age of House Variable:\n",
    "# Data is from 2010\n",
    "\n",
    "df_train['Home Age'] = 2010 - df_train['Year Built']\n",
    "#df_train['Garage Age'] = 2010 - df_train['Garage Yr Blt']"
   ]
  },
  {
   "cell_type": "code",
   "execution_count": 495,
   "metadata": {},
   "outputs": [],
   "source": [
    "# Create Year since remodel/addition variable:\n",
    "\n",
    "df_train['Yrs Since Remod'] = 2010 - df_train['Year Remod/Add']\n",
    "\n",
    "#Mo Sold >> Make Categorical: expect seasonality\n",
    "#Yr Sold >> Not sure what to do with this."
   ]
  },
  {
   "cell_type": "code",
   "execution_count": 496,
   "metadata": {},
   "outputs": [],
   "source": [
    "# Casting int variables as objects for desired dummification: \n",
    "\n",
    "df_train['MS SubClass'] = df_train['MS SubClass'].astype(object)\n",
    "df_train['Mo Sold'] = df_train['Mo Sold'].astype(object)\n",
    "df_train['Yr Sold'] = df_train['Yr Sold'].astype(object)"
   ]
  },
  {
   "cell_type": "code",
   "execution_count": 497,
   "metadata": {},
   "outputs": [],
   "source": [
    "#df_train.describe()"
   ]
  },
  {
   "cell_type": "markdown",
   "metadata": {},
   "source": [
    "### Create Ordinal Mappings For Common Features:"
   ]
  },
  {
   "cell_type": "code",
   "execution_count": 498,
   "metadata": {},
   "outputs": [],
   "source": [
    "# Ordinal Map for Exterior quality:\n",
    "\n",
    "df_train['Exter Qual'] = df_train['Exter Qual'].map({'Ex':4.0, 'Gd':3.0, 'TA':2.0, 'Fa':1.0, 'Po':0})"
   ]
  },
  {
   "cell_type": "code",
   "execution_count": 499,
   "metadata": {},
   "outputs": [],
   "source": [
    "# Ordinal Map for Exterior condition:\n",
    "\n",
    "df_train['Exter Cond'] = df_train['Exter Cond'].map({'Ex':4.0, 'Gd':3.0, 'TA':2.0, 'Fa':1.0, 'Po':0})"
   ]
  },
  {
   "cell_type": "code",
   "execution_count": 500,
   "metadata": {},
   "outputs": [],
   "source": [
    "# Ordinal Map for Basement condition:\n",
    "\n",
    "df_train['Bsmt Cond'] = df_train['Bsmt Cond'].map({'Ex':4.0, 'Gd':3.0, 'TA':2.0, 'Fa':1.0, 'Po':0, 'none':0})"
   ]
  },
  {
   "cell_type": "code",
   "execution_count": 501,
   "metadata": {},
   "outputs": [],
   "source": [
    "# Ordinal Map for Basement quality:\n",
    "\n",
    "df_train['Bsmt Qual'] = df_train['Bsmt Qual'].map({'Ex':4.0, 'Gd':3.0, 'TA':2.0, 'Fa':1.0, 'Po':0, 'none':0})"
   ]
  },
  {
   "cell_type": "code",
   "execution_count": 502,
   "metadata": {},
   "outputs": [],
   "source": [
    "# Ordinal Map for Kitchen quality:\n",
    "\n",
    "df_train['Kitchen Qual'] = df_train['Kitchen Qual'].map({'Ex':4.0, 'Gd':3.0, 'TA':2.0, 'Fa':1.0, 'Po':0})"
   ]
  },
  {
   "cell_type": "code",
   "execution_count": 503,
   "metadata": {},
   "outputs": [],
   "source": [
    "# Ordinal Map for Garage quality:\n",
    "\n",
    "df_train['Garage Qual'] = df_train['Garage Qual'].map({'Ex':4.0, 'Gd':3.0, 'TA':2.0, 'Fa':1.0, 'Po':0})"
   ]
  },
  {
   "cell_type": "code",
   "execution_count": 504,
   "metadata": {},
   "outputs": [],
   "source": [
    "# Ordinal Map for Garage condition:\n",
    "\n",
    "df_train['Garage Cond'] = df_train['Garage Cond'].map({'Ex':4.0, 'Gd':3.0, 'TA':2.0, 'Fa':1.0, 'Po':0})"
   ]
  },
  {
   "cell_type": "code",
   "execution_count": 505,
   "metadata": {},
   "outputs": [],
   "source": [
    "# Considered including basement finish types, but \n",
    "# raises questions duplicate data with other basement variables: \n",
    "\n",
    "# df_train['BsmtFin Type 1'] = df_train['BsmtFin Type 1'].map({'GLQ':2, 'ALQ':1, 'Rec':0.5, 'BLQ':0, 'Unf':0, 'LwQ':0, 'none':0})\n",
    "\n",
    "# df_train['BsmtFin Type 2'] = df_train['BsmtFin Type 2'].map({'GLQ':2, 'ALQ':1, 'Rec':0.5, 'BLQ':0, 'Unf':0, 'LwQ':0, 'none':0})"
   ]
  },
  {
   "cell_type": "markdown",
   "metadata": {},
   "source": [
    "### Create Log of Dependent Variable:"
   ]
  },
  {
   "cell_type": "code",
   "execution_count": 506,
   "metadata": {},
   "outputs": [],
   "source": [
    "# Create log of Sale Price:\n",
    "# Will not workj for Test Data\n",
    "\n",
    "df_train['log_SalePrice'] = np.log(df_train['SalePrice'])\n",
    "\n",
    "# Dependent variable was skewed. Log should help correct."
   ]
  },
  {
   "cell_type": "markdown",
   "metadata": {},
   "source": [
    "### Check Datatypes:"
   ]
  },
  {
   "cell_type": "code",
   "execution_count": 507,
   "metadata": {},
   "outputs": [
    {
     "name": "stdout",
     "output_type": "stream",
     "text": [
      "<class 'pandas.core.frame.DataFrame'>\n",
      "RangeIndex: 2048 entries, 0 to 2047\n",
      "Data columns (total 95 columns):\n",
      " #   Column           Non-Null Count  Dtype  \n",
      "---  ------           --------------  -----  \n",
      " 0   Unnamed: 0       2048 non-null   int64  \n",
      " 1   Id               2048 non-null   int64  \n",
      " 2   PID              2048 non-null   int64  \n",
      " 3   MS SubClass      2048 non-null   object \n",
      " 4   MS Zoning        2048 non-null   object \n",
      " 5   Lot Frontage     2048 non-null   float64\n",
      " 6   Lot Area         2048 non-null   int64  \n",
      " 7   Street           2048 non-null   object \n",
      " 8   Alley            2048 non-null   object \n",
      " 9   Lot Shape        2048 non-null   object \n",
      " 10  Land Contour     2048 non-null   object \n",
      " 11  Utilities        2048 non-null   object \n",
      " 12  Lot Config       2048 non-null   object \n",
      " 13  Land Slope       2048 non-null   object \n",
      " 14  Neighborhood     2048 non-null   object \n",
      " 15  Condition 1      2048 non-null   object \n",
      " 16  Condition 2      2048 non-null   object \n",
      " 17  Bldg Type        2048 non-null   object \n",
      " 18  House Style      2048 non-null   object \n",
      " 19  Overall Qual     2048 non-null   int64  \n",
      " 20  Overall Cond     2048 non-null   int64  \n",
      " 21  Year Built       2048 non-null   int64  \n",
      " 22  Year Remod/Add   2048 non-null   int64  \n",
      " 23  Roof Style       2048 non-null   object \n",
      " 24  Roof Matl        2048 non-null   object \n",
      " 25  Exterior 1st     2048 non-null   object \n",
      " 26  Exterior 2nd     2048 non-null   object \n",
      " 27  Mas Vnr Type     2048 non-null   object \n",
      " 28  Mas Vnr Area     2048 non-null   float64\n",
      " 29  Exter Qual       2048 non-null   float64\n",
      " 30  Exter Cond       2048 non-null   float64\n",
      " 31  Foundation       2048 non-null   object \n",
      " 32  Bsmt Qual        2048 non-null   float64\n",
      " 33  Bsmt Cond        2048 non-null   float64\n",
      " 34  Bsmt Exposure    2048 non-null   object \n",
      " 35  BsmtFin Type 1   2048 non-null   object \n",
      " 36  BsmtFin SF 1     2048 non-null   float64\n",
      " 37  BsmtFin Type 2   2048 non-null   object \n",
      " 38  BsmtFin SF 2     2048 non-null   float64\n",
      " 39  Bsmt Unf SF      2048 non-null   float64\n",
      " 40  Total Bsmt SF    2048 non-null   float64\n",
      " 41  Heating          2048 non-null   object \n",
      " 42  Heating QC       2048 non-null   object \n",
      " 43  Central Air      2048 non-null   object \n",
      " 44  Electrical       2048 non-null   object \n",
      " 45  1st Flr SF       2048 non-null   int64  \n",
      " 46  2nd Flr SF       2048 non-null   int64  \n",
      " 47  Low Qual Fin SF  2048 non-null   int64  \n",
      " 48  Gr Liv Area      2048 non-null   int64  \n",
      " 49  Bsmt Full Bath   2048 non-null   object \n",
      " 50  Bsmt Half Bath   2048 non-null   object \n",
      " 51  Full Bath        2048 non-null   int64  \n",
      " 52  Half Bath        2048 non-null   int64  \n",
      " 53  Bedroom AbvGr    2048 non-null   int64  \n",
      " 54  Kitchen AbvGr    2048 non-null   int64  \n",
      " 55  Kitchen Qual     2048 non-null   float64\n",
      " 56  TotRms AbvGrd    2048 non-null   int64  \n",
      " 57  Functional       2048 non-null   object \n",
      " 58  Fireplaces       2048 non-null   int64  \n",
      " 59  Fireplace Qu     2048 non-null   object \n",
      " 60  Garage Type      2048 non-null   object \n",
      " 61  Garage Yr Blt    1934 non-null   float64\n",
      " 62  Garage Finish    2048 non-null   object \n",
      " 63  Garage Cars      2048 non-null   float64\n",
      " 64  Garage Area      2048 non-null   float64\n",
      " 65  Garage Qual      1934 non-null   float64\n",
      " 66  Garage Cond      1934 non-null   float64\n",
      " 67  Paved Drive      2048 non-null   object \n",
      " 68  Wood Deck SF     2048 non-null   int64  \n",
      " 69  Open Porch SF    2048 non-null   int64  \n",
      " 70  Enclosed Porch   2048 non-null   int64  \n",
      " 71  3Ssn Porch       2048 non-null   int64  \n",
      " 72  Screen Porch     2048 non-null   int64  \n",
      " 73  Pool Area        2048 non-null   int64  \n",
      " 74  Pool QC          2048 non-null   object \n",
      " 75  Fence            2048 non-null   object \n",
      " 76  Misc Feature     2048 non-null   object \n",
      " 77  Misc Val         2048 non-null   int64  \n",
      " 78  Mo Sold          2048 non-null   object \n",
      " 79  Yr Sold          2048 non-null   object \n",
      " 80  Sale Type        2048 non-null   object \n",
      " 81  SalePrice        2048 non-null   int64  \n",
      " 82  Sq Ft Total      2048 non-null   float64\n",
      " 83  Has Open Porch   2048 non-null   int64  \n",
      " 84  Has Wood Deck    2048 non-null   int64  \n",
      " 85  Has Masonry      2048 non-null   int64  \n",
      " 86  Has Basement     2048 non-null   int64  \n",
      " 87  Has Fireplace    2048 non-null   int64  \n",
      " 88  Has Garage       2048 non-null   int64  \n",
      " 89  Has Pool         2048 non-null   int64  \n",
      " 90  Has Fence        2048 non-null   int64  \n",
      " 91  Age at Sale      2048 non-null   int64  \n",
      " 92  Home Age         2048 non-null   int64  \n",
      " 93  Yrs Since Remod  2048 non-null   int64  \n",
      " 94  log_SalePrice    2048 non-null   float64\n",
      "dtypes: float64(18), int64(37), object(40)\n",
      "memory usage: 1.5+ MB\n"
     ]
    }
   ],
   "source": [
    "df_train.info()"
   ]
  },
  {
   "cell_type": "markdown",
   "metadata": {},
   "source": [
    "### Export Data to CSV:"
   ]
  },
  {
   "cell_type": "code",
   "execution_count": 476,
   "metadata": {},
   "outputs": [],
   "source": [
    "# Export with engineered features for next step >> modeling.\n",
    "\n",
    "# Export to CSV for next step >> Feature Engineering:\n",
    "\n",
    "df_train.to_csv('../datasets/train_cleaned_engineered.csv')"
   ]
  },
  {
   "cell_type": "code",
   "execution_count": 477,
   "metadata": {},
   "outputs": [
    {
     "data": {
      "text/plain": [
       "(878, 93)"
      ]
     },
     "execution_count": 477,
     "metadata": {},
     "output_type": "execute_result"
    }
   ],
   "source": [
    "# Test shape of train and test data:\n",
    "\n",
    "df_train.shape"
   ]
  },
  {
   "cell_type": "code",
   "execution_count": null,
   "metadata": {},
   "outputs": [],
   "source": []
  }
 ],
 "metadata": {
  "kernelspec": {
   "display_name": "Python 3",
   "language": "python",
   "name": "python3"
  },
  "language_info": {
   "codemirror_mode": {
    "name": "ipython",
    "version": 3
   },
   "file_extension": ".py",
   "mimetype": "text/x-python",
   "name": "python",
   "nbconvert_exporter": "python",
   "pygments_lexer": "ipython3",
   "version": "3.7.6"
  }
 },
 "nbformat": 4,
 "nbformat_minor": 4
}
