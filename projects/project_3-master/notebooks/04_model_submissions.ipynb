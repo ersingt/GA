{
 "cells": [
  {
   "cell_type": "markdown",
   "metadata": {},
   "source": [
    "# Modeling Reddit Submissions:"
   ]
  },
  {
   "cell_type": "markdown",
   "metadata": {},
   "source": [
    "### The NLP modeling process is broken down as follows:\n",
    "\n",
    "Classifying Submissions:\n",
    "   - 1. Logistic Regression:\n",
    "       - CountVectorizer\n",
    "       - TF-IDF\n",
    "   - 2. Naieve Bayes\n",
    "       - CountVectorizer\n",
    "       - TF-IDF\n",
    "   - 3. SVM\n",
    "       - CountVectorizer\n",
    "       - TF-IDF\n",
    "\n",
    "Hyperparameters are further defined under each section, below. This section cocnludes with model evaluation using ROC AUC and a mapping of selected model coefficients back to corresponding words."
   ]
  },
  {
   "cell_type": "code",
   "execution_count": 136,
   "metadata": {},
   "outputs": [],
   "source": [
    "# Import Libraries:\n",
    "\n",
    "import pandas as pd\n",
    "import numpy as np\n",
    "import matplotlib.pyplot as plt\n",
    "import seaborn as sns\n",
    "\n",
    "from sklearn.model_selection import train_test_split, GridSearchCV\n",
    "from sklearn.pipeline import Pipeline\n",
    "from sklearn.linear_model import LogisticRegression\n",
    "from sklearn.feature_extraction.text import CountVectorizer, TfidfVectorizer\n",
    "from sklearn.naive_bayes import MultinomialNB\n",
    "from sklearn.pipeline import make_pipeline\n",
    "from sklearn.preprocessing import StandardScaler\n",
    "from sklearn.svm import SVC\n",
    "from sklearn.metrics import roc_auc_score, auc\n",
    "from sklearn.metrics import classification_report\n",
    "\n",
    "from nltk.stem import WordNetLemmatizer"
   ]
  },
  {
   "cell_type": "markdown",
   "metadata": {},
   "source": [
    "## 1. Classifying Submissions:"
   ]
  },
  {
   "cell_type": "code",
   "execution_count": 66,
   "metadata": {},
   "outputs": [],
   "source": [
    "# Read in merged CSV:\n",
    "\n",
    "df_sub = pd.read_csv('../data/merged_submissions.csv')"
   ]
  },
  {
   "cell_type": "code",
   "execution_count": 67,
   "metadata": {},
   "outputs": [],
   "source": [
    "# Define X and y:\n",
    "\n",
    "X = df_sub['title']\n",
    "y = df_sub['subreddit']"
   ]
  },
  {
   "cell_type": "code",
   "execution_count": 68,
   "metadata": {},
   "outputs": [],
   "source": [
    "# Execute Train/Test Split on Submissions:\n",
    "\n",
    "X_train, X_test, y_train, y_test = train_test_split(X,\n",
    "                                                    y,\n",
    "                                                    random_state=42)"
   ]
  },
  {
   "cell_type": "code",
   "execution_count": 69,
   "metadata": {},
   "outputs": [
    {
     "data": {
      "text/plain": [
       "1    12000\n",
       "0    12000\n",
       "Name: subreddit, dtype: int64"
      ]
     },
     "execution_count": 69,
     "metadata": {},
     "output_type": "execute_result"
    }
   ],
   "source": [
    "# Check y:\n",
    "\n",
    "df_sub['subreddit'].value_counts()"
   ]
  },
  {
   "cell_type": "code",
   "execution_count": 70,
   "metadata": {},
   "outputs": [],
   "source": [
    "# Define function to lemmatize text:\n",
    "\n",
    "def split_into_lemmas(text):\n",
    "    text = text.lower()\n",
    "    lemmer = WordNetLemmatizer()\n",
    "    return \"\".join([lemmer.lemmatize(word) for word in text])\n",
    "\n",
    "# Code adapted from GA DSI Local Lesson: NLP"
   ]
  },
  {
   "cell_type": "markdown",
   "metadata": {},
   "source": [
    "### 1A) Logistic Regression + CountVectorizer:"
   ]
  },
  {
   "cell_type": "code",
   "execution_count": 71,
   "metadata": {},
   "outputs": [
    {
     "name": "stdout",
     "output_type": "stream",
     "text": [
      "Fitting models. This could take 15+ minutes. Might want to grab coffee...\n",
      "Training score: 0.9416111111111111\n",
      "Test score    : 0.8946666666666667\n",
      "Best params   : {'cvec__max_features': 4000, 'cvec__ngram_range': (1, 1), 'cvec__preprocessor': None, 'cvec__stop_words': None, 'cvec__strip_accents': 'ascii', 'lr__C': 1.5005, 'lr__penalty': 'l2'}\n"
     ]
    }
   ],
   "source": [
    "# NOTE: Fitting 720 models, can take 15+ minutes to run.\n",
    "\n",
    "# Pipeline 1:\n",
    "pipe1 = Pipeline([\n",
    "    ('cvec', CountVectorizer()),\n",
    "    ('lr', LogisticRegression(solver = 'liblinear'))\n",
    "])\n",
    "# Pipeline 1 parameters:\n",
    "pipe1_params = {\n",
    "    'cvec__max_features': [3000, 4000],  # After increasing max features past 3,000, overfitting became an issue. \n",
    "                                              # Training scores would increase but Test scores remained at around .89\n",
    "    'cvec__ngram_range': [(1,1), (1,2)],\n",
    "    'cvec__strip_accents': ['ascii', 'unicode', None],   \n",
    "    'cvec__preprocessor': [split_into_lemmas, None],\n",
    "    'cvec__stop_words':[None],\n",
    "    'lr__C': np.linspace(.001, 3, 5),\n",
    "    'lr__penalty': ['l1', 'l2']\n",
    "}\n",
    "# GridSearchCV1:\n",
    "gs1 = GridSearchCV(pipe1,\n",
    "                  param_grid = pipe1_params,\n",
    "                  n_jobs = -1,\n",
    "                  cv = 5)\n",
    "# Fit GridSearch to training data:\n",
    "print('Fitting models. This could take 15+ minutes. Might want to grab coffee...')\n",
    "gs1.fit(X_train, y_train)\n",
    "\n",
    "# Score Model:\n",
    "print(f'Training score: {gs1.score(X_train, y_train)}')\n",
    "print(f'Test score    : {gs1.score(X_test, y_test)}')\n",
    "print(f'Best params   : {gs1.best_params_}')"
   ]
  },
  {
   "cell_type": "code",
   "execution_count": 72,
   "metadata": {},
   "outputs": [],
   "source": [
    "#ROC AUC SCORE"
   ]
  },
  {
   "cell_type": "markdown",
   "metadata": {},
   "source": [
    "### 1B) Logistic Regression + TF-IDF:"
   ]
  },
  {
   "cell_type": "code",
   "execution_count": 73,
   "metadata": {},
   "outputs": [
    {
     "name": "stdout",
     "output_type": "stream",
     "text": [
      "Fitting models. This could take 15+ minutes. Might want to grab coffee...\n",
      "Training score: 0.9280555555555555\n",
      "Test score    : 0.8906666666666667\n",
      "Best params   : {'lr__C': 3.0, 'lr__penalty': 'l2', 'tvec__max_features': 4000, 'tvec__ngram_range': (1, 1), 'tvec__preprocessor': None, 'tvec__stop_words': None, 'tvec__strip_accents': 'unicode'}\n"
     ]
    }
   ],
   "source": [
    "# NOTE: Fitting 720 models, can take 15+ minutes to run.\n",
    "\n",
    "# Pipeline 2:\n",
    "pipe2 = Pipeline([\n",
    "    ('tvec', TfidfVectorizer()),\n",
    "    ('lr', LogisticRegression(solver = 'liblinear'))\n",
    "])\n",
    "# Parameters:\n",
    "pipe2_params = {\n",
    "     'tvec__max_features': [3000, 4000],\n",
    "     'tvec__ngram_range': [(1,1), (1,2)],\n",
    "     'tvec__strip_accents': ['ascii', 'unicode', None],   \n",
    "     #'tvec__preprocessor': [split_into_lemmas, None],\n",
    "     'tvec__stop_words':[None],\n",
    "     'lr__C': np.linspace(.001, 3, 5),\n",
    "     'lr__penalty': ['l1', 'l2']\n",
    "}\n",
    "# GridSearchCV2:\n",
    "gs2 = GridSearchCV(pipe2,\n",
    "                  param_grid=pipe2_params, \n",
    "                  n_jobs=-1,\n",
    "                  cv=5)\n",
    "# Fit GridSearch to training data:\n",
    "print('Fitting models. This could take 15+ minutes. Might want to grab coffee...')\n",
    "gs2.fit(X_train, y_train)\n",
    "\n",
    "# Score Model:\n",
    "print(f'Training score: {gs2.score(X_train, y_train)}')\n",
    "print(f'Test score    : {gs2.score(X_test, y_test)}')\n",
    "print(f'Best params   : {gs2.best_params_}')"
   ]
  },
  {
   "cell_type": "markdown",
   "metadata": {},
   "source": [
    "### 2A) Multinomial Naive Bayes + CountVectorizer: \n"
   ]
  },
  {
   "cell_type": "code",
   "execution_count": 74,
   "metadata": {},
   "outputs": [
    {
     "name": "stdout",
     "output_type": "stream",
     "text": [
      "Fitting models. This could take 15+ minutes. Might want to grab coffee...\n",
      "Training score: 0.8873333333333333\n",
      "Test score    : 0.8735\n",
      "Best params   : {'cvec__max_features': 4000, 'cvec__ngram_range': (1, 1), 'cvec__preprocessor': <function split_into_lemmas at 0x1a28f07320>, 'cvec__stop_words': None, 'cvec__strip_accents': 'ascii', 'nb__alpha': 1}\n"
     ]
    }
   ],
   "source": [
    "# NOTE: Fitting 360 models, can take 15+ minutes to run.\n",
    "\n",
    "# Pipeline 3:\n",
    "pipe3 = Pipeline([\n",
    "    ('cvec', CountVectorizer()),\n",
    "    ('nb', MultinomialNB())\n",
    "])\n",
    "# Parameters:\n",
    "pipe3_params = {\n",
    "    'cvec__max_features': [3000, 4000],  # After increasing max features past 3,000, overfitting became an issue. \n",
    "                                              # Training scores would increase but Test scores remained at around .89\n",
    "    'cvec__ngram_range': [(1,1), (1,2)],\n",
    "    'cvec__strip_accents': ['ascii', 'unicode', None],   \n",
    "    'cvec__preprocessor': [split_into_lemmas, None],\n",
    "    'cvec__stop_words':[None],\n",
    "    'nb__alpha': [1,2,5]\n",
    "}\n",
    "# GridSearchCV3:\n",
    "gs3 = GridSearchCV(pipe3,\n",
    "                  param_grid=pipe3_params,\n",
    "                   n_jobs=-1,\n",
    "                  cv=5)\n",
    "# Fit GridSearch to training data:\n",
    "print('Fitting models. This could take 15+ minutes. Might want to grab coffee...')\n",
    "gs3.fit(X_train, y_train)\n",
    "\n",
    "# Score Model:\n",
    "print(f'Training score: {gs3.score(X_train, y_train)}')\n",
    "print(f'Test score    : {gs3.score(X_test, y_test)}')\n",
    "print(f'Best params   : {gs3.best_params_}')"
   ]
  },
  {
   "cell_type": "markdown",
   "metadata": {},
   "source": [
    "### 2B) Multinomial Naive Bayes + TF-IDF:"
   ]
  },
  {
   "cell_type": "code",
   "execution_count": 75,
   "metadata": {},
   "outputs": [
    {
     "name": "stdout",
     "output_type": "stream",
     "text": [
      "Fitting models. This could take 15+ minutes. Might want to grab coffee...\n",
      "Training score: 0.8961666666666667\n",
      "Test score    : 0.8765\n",
      "Best params   : {'nb__alpha': 1, 'tvec__max_features': 4000, 'tvec__ngram_range': (1, 1), 'tvec__preprocessor': <function split_into_lemmas at 0x1a28f07320>, 'tvec__stop_words': None, 'tvec__strip_accents': 'ascii'}\n"
     ]
    }
   ],
   "source": [
    "# NOTE: Fitting 360 models, can take 15+ minutes to run.\n",
    "\n",
    "# Pipeline 4:\n",
    "pipe4 = Pipeline([\n",
    "    ('tvec', TfidfVectorizer()),\n",
    "    ('nb', MultinomialNB())\n",
    "])\n",
    "# Parameters:\n",
    "pipe4_params = {\n",
    "    'tvec__max_features': [3000, 4000],  # After increasing max features past 3,000, overfitting became an issue. \n",
    "                                              # Training scores would increase but Test scores remained at around .89\n",
    "    'tvec__ngram_range': [(1,1), (1,2)],\n",
    "    'tvec__strip_accents': ['ascii', 'unicode', None],   \n",
    "    'tvec__preprocessor': [split_into_lemmas, None],\n",
    "    'tvec__stop_words':[None],\n",
    "    'nb__alpha': [1,2,5]\n",
    "}\n",
    "# GridSearchCV4:\n",
    "gs4 = GridSearchCV(pipe4,\n",
    "                  param_grid=pipe4_params,\n",
    "                  n_jobs=-1, \n",
    "                  cv=5)\n",
    "# Fit GridSearch to training data:\n",
    "print('Fitting models. This could take 15+ minutes. Might want to grab coffee...')\n",
    "gs4.fit(X_train, y_train)\n",
    "\n",
    "# Score Model:\n",
    "print(f'Training score: {gs4.score(X_train, y_train)}')\n",
    "print(f'Test score    : {gs4.score(X_test, y_test)}')\n",
    "print(f'Best params   : {gs4.best_params_}')"
   ]
  },
  {
   "cell_type": "markdown",
   "metadata": {},
   "source": [
    "### 3A) Support Vector Machine/Classifier (SVC) + Count Vecotrizer:"
   ]
  },
  {
   "cell_type": "code",
   "execution_count": 76,
   "metadata": {},
   "outputs": [
    {
     "name": "stdout",
     "output_type": "stream",
     "text": [
      "Fitting models. This could take 30+ minutes. Might want to grab coffee...\n",
      "Training score: 0.9346666666666666\n",
      "Test score    : 0.8833333333333333\n",
      "Best params   : {'cvec__max_features': 4000, 'cvec__ngram_range': (1, 1), 'cvec__preprocessor': <function split_into_lemmas at 0x1a28f07320>, 'cvec__stop_words': None, 'cvec__strip_accents': 'ascii', 'svc__degree': 2}\n"
     ]
    }
   ],
   "source": [
    "# NOTE: Fitting 60 models, can take 30+ minutes to run.\n",
    "\n",
    "# Pipeline 5:\n",
    "pipe5 = Pipeline([\n",
    "    ('cvec', CountVectorizer()),\n",
    "    ('svc', SVC())\n",
    "])\n",
    "# Parameters:\n",
    "pipe5_params = {\n",
    "    'cvec__max_features': [3000,4000],  # After increasing max features past 3,000, overfitting became an issue. \n",
    "                                              # Training scores would increase but Test scores remained at around .89\n",
    "    'cvec__ngram_range': [(1,1)],\n",
    "    'cvec__strip_accents': ['ascii', 'unicode', None],   \n",
    "    'cvec__preprocessor': [split_into_lemmas, None],\n",
    "    'cvec__stop_words':[None, 'english'], \n",
    "    'svc__degree': [2],\n",
    "    \n",
    "}\n",
    "# GridSearchCV5:\n",
    "gs5 = GridSearchCV(pipe5,\n",
    "                  param_grid=pipe5_params,\n",
    "                  n_jobs=-1, \n",
    "                  cv=5)\n",
    "# Fit GridSearch to training data:\n",
    "print('Fitting models. This could take 30+ minutes. Might want to grab coffee...')\n",
    "gs5.fit(X_train, y_train)  \n",
    "\n",
    "# Score Model:\n",
    "print(f'Training score: {gs5.score(X_train, y_train)}')\n",
    "print(f'Test score    : {gs5.score(X_test, y_test)}')\n",
    "print(f'Best params   : {gs5.best_params_}')"
   ]
  },
  {
   "cell_type": "markdown",
   "metadata": {},
   "source": [
    "### 3B) Support Vector Machine/Classifier (SVC) + TF-IDF:"
   ]
  },
  {
   "cell_type": "code",
   "execution_count": 77,
   "metadata": {},
   "outputs": [
    {
     "name": "stdout",
     "output_type": "stream",
     "text": [
      "Fitting models. This could take 30+ minutes. Might want to grab coffee...\n",
      "Training score: 0.9745555555555555\n",
      "Test score    : 0.8985\n",
      "Best params   : {'svc__degree': 2, 'tvec__max_features': 4000, 'tvec__ngram_range': (1, 1), 'tvec__preprocessor': None, 'tvec__stop_words': None, 'tvec__strip_accents': 'unicode'}\n"
     ]
    }
   ],
   "source": [
    "# NOTE: Fitting 120 models, can take 30+ minutes to run.\n",
    "\n",
    "# Pipeline 6:\n",
    "pipe6 = Pipeline([\n",
    "    ('tvec', TfidfVectorizer()),\n",
    "    ('svc', SVC())\n",
    "])\n",
    "# Parameters:\n",
    "pipe6_params = {\n",
    "    'tvec__max_features': [3000, 4000],  # After increasing max features past 3,000, overfitting became an issue. \n",
    "                                              # Training scores would increase but Test scores remained at around .89\n",
    "    'tvec__ngram_range': [(1,1)],\n",
    "    'tvec__strip_accents': ['ascii', 'unicode', None],   \n",
    "    'tvec__preprocessor': [split_into_lemmas, None],\n",
    "    'tvec__stop_words':['english', None],\n",
    "    'svc__degree': [2]\n",
    "}\n",
    "# GridSearchCV6:\n",
    "gs6 = GridSearchCV(pipe6,\n",
    "                  param_grid=pipe6_params,\n",
    "                  n_jobs=-1, \n",
    "                  cv=5)\n",
    "# Fit GridSearch to training data:\n",
    "print('Fitting models. This could take 30+ minutes. Might want to grab coffee...')\n",
    "gs6.fit(X_train, y_train)  \n",
    "\n",
    "# Score Model:\n",
    "print(f'Training score: {gs6.score(X_train, y_train)}')\n",
    "print(f'Test score    : {gs6.score(X_test, y_test)}')\n",
    "print(f'Best params   : {gs6.best_params_}')"
   ]
  },
  {
   "cell_type": "markdown",
   "metadata": {},
   "source": [
    "## Model Evaluation:"
   ]
  },
  {
   "cell_type": "code",
   "execution_count": 85,
   "metadata": {},
   "outputs": [
    {
     "data": {
      "image/png": "[encoded data removed]",
      "text/plain": [
       "<Figure size 432x288 with 1 Axes>"
      ]
     },
     "metadata": {
      "needs_background": "light"
     },
     "output_type": "display_data"
    }
   ],
   "source": [
    "# Length of each title in Characters:\n",
    "lengths_of_posts = [len(each) for each in X]\n",
    "plt.hist(lengths_of_posts)\n",
    "plt.title('Histogram of Submission Title Length');"
   ]
  },
  {
   "cell_type": "code",
   "execution_count": 98,
   "metadata": {},
   "outputs": [],
   "source": [
    "# GS1 and GS6 had the highest model accuracy score. Going with GS1 for the sake of avoiding black-box algorithms."
   ]
  },
  {
   "cell_type": "code",
   "execution_count": 92,
   "metadata": {},
   "outputs": [],
   "source": [
    "# Calculate ROC AUC\n",
    "\n",
    "def roc(probas, true, step=0.01):\n",
    "\n",
    "    probas = probas[:,1]  \n",
    "    true = true.values    \n",
    "    assert(len(probas) == len(true)) \n",
    "    \n",
    "    TPRs = [] \n",
    "    FPRs = [] \n",
    "    \n",
    "    for i in np.arange(0.0,1.0,step): \n",
    "        preds_class = probas > i \n",
    "        TP = 0 \n",
    "        FP = 0\n",
    "        TN = 0\n",
    "        FN = 0\n",
    "        for index in range(len(preds_class)): \n",
    "\n",
    "            if preds_class[index] == 1 and true[index] == 1:\n",
    "                TP += 1\n",
    "            elif preds_class[index] == 1 and true[index] == 0:\n",
    "                FP += 1\n",
    "            elif preds_class[index] == 0 and true[index] == 0:\n",
    "                TN += 1 \n",
    "            elif preds_class[index] == 0 and true[index] == 1:\n",
    "                FN += 1\n",
    "                \n",
    "        TPR = TP/(TP + FN) \n",
    "        FPR = FP/(FP + TN)\n",
    "        \n",
    "        TPRs.append(TPR)\n",
    "        FPRs.append(FPR)\n",
    "         \n",
    "    plt.rcParams['font.size'] = 14\n",
    "    plt.plot(FPRs, TPRs, color=\"orange\")\n",
    "    plt.plot([0,1],[0,1], color='navy', lw=2, linestyle='--')\n",
    "    plt.xlim([0.0, 1.0])\n",
    "    plt.ylim([0.0, 1.0])\n",
    "    plt.title('Receiver Operating Characteristic')\n",
    "    plt.xlabel(\"False Positive Rate (1 - Specificity)\")\n",
    "    plt.ylabel(\"True Positive Rate (Sensitivity)\")\n",
    "    plt.show();\n",
    "    \n",
    "# Code adapted from GA-DC-DSI Lab 4.02"
   ]
  },
  {
   "cell_type": "code",
   "execution_count": 93,
   "metadata": {},
   "outputs": [
    {
     "data": {
      "image/png": "[encoded data removed]",
      "text/plain": [
       "<Figure size 432x288 with 1 Axes>"
      ]
     },
     "metadata": {
      "needs_background": "light"
     },
     "output_type": "display_data"
    },
    {
     "data": {
      "text/plain": [
       "<Figure size 504x648 with 0 Axes>"
      ]
     },
     "metadata": {},
     "output_type": "display_data"
    }
   ],
   "source": [
    "probabilities = gs1.predict_proba(X_test)\n",
    "\n",
    "roc(probas = probabilities, true = y_test, step=0.001);            "
   ]
  },
  {
   "cell_type": "code",
   "execution_count": 161,
   "metadata": {},
   "outputs": [
    {
     "data": {
      "text/plain": [
       "(6000,)"
      ]
     },
     "execution_count": 161,
     "metadata": {},
     "output_type": "execute_result"
    }
   ],
   "source": [
    "# Calculate predictions for AUC score:\n",
    "\n",
    "preds=gs1.predict(X_test)\n",
    "preds.shape"
   ]
  },
  {
   "cell_type": "code",
   "execution_count": 164,
   "metadata": {},
   "outputs": [
    {
     "data": {
      "text/plain": [
       "0.8947566084067601"
      ]
     },
     "execution_count": 164,
     "metadata": {},
     "output_type": "execute_result"
    }
   ],
   "source": [
    "# AUC SCORE:\n",
    "auc = roc_auc_score(y_test, preds)\n",
    "auc"
   ]
  },
  {
   "cell_type": "code",
   "execution_count": 108,
   "metadata": {},
   "outputs": [],
   "source": [
    "# Generate Coeffs mapped to words:\n",
    "\n",
    "coefs = gs1.best_estimator_.named_steps.lr.coef_  \n",
    "\n",
    "log_coefs = pd.DataFrame(gs1.best_estimator_.named_steps.lr.coef_ , \n",
    "                        columns=gs1.best_estimator_.named_steps.cvec.get_feature_names())\n",
    "\n",
    "log_coefs\n",
    "\n",
    "# Code adapted from the genius of Derek McAdam, GA-DC-DSI-CC11"
   ]
  },
  {
   "cell_type": "code",
   "execution_count": 3,
   "metadata": {},
   "outputs": [],
   "source": [
    "#top10_coef = log_coefs.T.sort_values(0, ascending=False).head(10)\n",
    "\n",
    "#print(top10_coef)"
   ]
  },
  {
   "cell_type": "code",
   "execution_count": 176,
   "metadata": {},
   "outputs": [],
   "source": [
    "bottom10_coef = log_coefs.T.sort_values(0, ascending=False).tail(10)"
   ]
  },
  {
   "cell_type": "code",
   "execution_count": 177,
   "metadata": {},
   "outputs": [
    {
     "data": {
      "text/html": [
       "<div>\n",
       "<style scoped>\n",
       "    .dataframe tbody tr th:only-of-type {\n",
       "        vertical-align: middle;\n",
       "    }\n",
       "\n",
       "    .dataframe tbody tr th {\n",
       "        vertical-align: top;\n",
       "    }\n",
       "\n",
       "    .dataframe thead th {\n",
       "        text-align: right;\n",
       "    }\n",
       "</style>\n",
       "<table border=\"1\" class=\"dataframe\">\n",
       "  <thead>\n",
       "    <tr style=\"text-align: right;\">\n",
       "      <th></th>\n",
       "      <th>0</th>\n",
       "    </tr>\n",
       "  </thead>\n",
       "  <tbody>\n",
       "    <tr>\n",
       "      <th>ufos</th>\n",
       "      <td>-2.209850</td>\n",
       "    </tr>\n",
       "    <tr>\n",
       "      <th>whatweknow</th>\n",
       "      <td>-2.367184</td>\n",
       "    </tr>\n",
       "    <tr>\n",
       "      <th>agenda</th>\n",
       "      <td>-2.444272</td>\n",
       "    </tr>\n",
       "    <tr>\n",
       "      <th>conspiracies</th>\n",
       "      <td>-2.489887</td>\n",
       "    </tr>\n",
       "    <tr>\n",
       "      <th>ufo</th>\n",
       "      <td>-2.504394</td>\n",
       "    </tr>\n",
       "    <tr>\n",
       "      <th>epstein</th>\n",
       "      <td>-2.606458</td>\n",
       "    </tr>\n",
       "    <tr>\n",
       "      <th>aliens</th>\n",
       "      <td>-2.641336</td>\n",
       "    </tr>\n",
       "    <tr>\n",
       "      <th>illuminati</th>\n",
       "      <td>-2.901315</td>\n",
       "    </tr>\n",
       "    <tr>\n",
       "      <th>conspiracy</th>\n",
       "      <td>-3.434392</td>\n",
       "    </tr>\n",
       "    <tr>\n",
       "      <th>mandela</th>\n",
       "      <td>-3.713829</td>\n",
       "    </tr>\n",
       "  </tbody>\n",
       "</table>\n",
       "</div>"
      ],
      "text/plain": [
       "                     0\n",
       "ufos         -2.209850\n",
       "whatweknow   -2.367184\n",
       "agenda       -2.444272\n",
       "conspiracies -2.489887\n",
       "ufo          -2.504394\n",
       "epstein      -2.606458\n",
       "aliens       -2.641336\n",
       "illuminati   -2.901315\n",
       "conspiracy   -3.434392\n",
       "mandela      -3.713829"
      ]
     },
     "execution_count": 177,
     "metadata": {},
     "output_type": "execute_result"
    }
   ],
   "source": [
    "bottom10_coef"
   ]
  },
  {
   "cell_type": "code",
   "execution_count": 178,
   "metadata": {},
   "outputs": [
    {
     "data": {
      "text/html": [
       "<div>\n",
       "<style scoped>\n",
       "    .dataframe tbody tr th:only-of-type {\n",
       "        vertical-align: middle;\n",
       "    }\n",
       "\n",
       "    .dataframe tbody tr th {\n",
       "        vertical-align: top;\n",
       "    }\n",
       "\n",
       "    .dataframe thead th {\n",
       "        text-align: right;\n",
       "    }\n",
       "</style>\n",
       "<table border=\"1\" class=\"dataframe\">\n",
       "  <thead>\n",
       "    <tr style=\"text-align: right;\">\n",
       "      <th></th>\n",
       "      <th>0</th>\n",
       "    </tr>\n",
       "  </thead>\n",
       "  <tbody>\n",
       "    <tr>\n",
       "      <th>ufos</th>\n",
       "      <td>-2.209850</td>\n",
       "    </tr>\n",
       "    <tr>\n",
       "      <th>whatweknow</th>\n",
       "      <td>-2.367184</td>\n",
       "    </tr>\n",
       "    <tr>\n",
       "      <th>agenda</th>\n",
       "      <td>-2.444272</td>\n",
       "    </tr>\n",
       "    <tr>\n",
       "      <th>conspiracies</th>\n",
       "      <td>-2.489887</td>\n",
       "    </tr>\n",
       "    <tr>\n",
       "      <th>ufo</th>\n",
       "      <td>-2.504394</td>\n",
       "    </tr>\n",
       "    <tr>\n",
       "      <th>epstein</th>\n",
       "      <td>-2.606458</td>\n",
       "    </tr>\n",
       "    <tr>\n",
       "      <th>aliens</th>\n",
       "      <td>-2.641336</td>\n",
       "    </tr>\n",
       "    <tr>\n",
       "      <th>illuminati</th>\n",
       "      <td>-2.901315</td>\n",
       "    </tr>\n",
       "    <tr>\n",
       "      <th>conspiracy</th>\n",
       "      <td>-3.434392</td>\n",
       "    </tr>\n",
       "    <tr>\n",
       "      <th>mandela</th>\n",
       "      <td>-3.713829</td>\n",
       "    </tr>\n",
       "    <tr>\n",
       "      <th>scientists</th>\n",
       "      <td>3.164586</td>\n",
       "    </tr>\n",
       "    <tr>\n",
       "      <th>researchers</th>\n",
       "      <td>2.919544</td>\n",
       "    </tr>\n",
       "    <tr>\n",
       "      <th>science</th>\n",
       "      <td>2.676945</td>\n",
       "    </tr>\n",
       "    <tr>\n",
       "      <th>silence</th>\n",
       "      <td>2.574912</td>\n",
       "    </tr>\n",
       "    <tr>\n",
       "      <th>physics</th>\n",
       "      <td>2.565182</td>\n",
       "    </tr>\n",
       "    <tr>\n",
       "      <th>cas</th>\n",
       "      <td>2.536727</td>\n",
       "    </tr>\n",
       "    <tr>\n",
       "      <th>survey</th>\n",
       "      <td>2.506739</td>\n",
       "    </tr>\n",
       "    <tr>\n",
       "      <th>phong</th>\n",
       "      <td>2.503186</td>\n",
       "    </tr>\n",
       "    <tr>\n",
       "      <th>study</th>\n",
       "      <td>2.441081</td>\n",
       "    </tr>\n",
       "    <tr>\n",
       "      <th>risk</th>\n",
       "      <td>2.345621</td>\n",
       "    </tr>\n",
       "  </tbody>\n",
       "</table>\n",
       "</div>"
      ],
      "text/plain": [
       "                     0\n",
       "ufos         -2.209850\n",
       "whatweknow   -2.367184\n",
       "agenda       -2.444272\n",
       "conspiracies -2.489887\n",
       "ufo          -2.504394\n",
       "epstein      -2.606458\n",
       "aliens       -2.641336\n",
       "illuminati   -2.901315\n",
       "conspiracy   -3.434392\n",
       "mandela      -3.713829\n",
       "scientists    3.164586\n",
       "researchers   2.919544\n",
       "science       2.676945\n",
       "silence       2.574912\n",
       "physics       2.565182\n",
       "cas           2.536727\n",
       "survey        2.506739\n",
       "phong         2.503186\n",
       "study         2.441081\n",
       "risk          2.345621"
      ]
     },
     "execution_count": 178,
     "metadata": {},
     "output_type": "execute_result"
    }
   ],
   "source": [
    "# Append Data:\n",
    "\n",
    "df = bottom10_coef.append(top10_coef)\n",
    "df = pd.DataFrame(df)\n",
    "df"
   ]
  },
  {
   "cell_type": "code",
   "execution_count": 201,
   "metadata": {},
   "outputs": [
    {
     "data": {
      "image/png": "[encoded data removed]",
      "text/plain": [
       "<Figure size 576x720 with 1 Axes>"
      ]
     },
     "metadata": {},
     "output_type": "display_data"
    }
   ],
   "source": [
    "# Generate plot of strongest predictors of membership on coefficient:\n",
    "\n",
    "sns.set(font_scale=2)\n",
    "plt.figure(figsize=(8, 10))\n",
    "ax4 = sns.barplot(data=df, \n",
    "                  x=0, \n",
    "                  y = df.index,\n",
    "                \n",
    "                  palette = 'coolwarm_r'\n",
    "                 )\n",
    "ax4.set(xlabel='Coeff', ylabel='Word', title='Strongest Predictors of Membership for Submission Title')\n",
    "plt.show()"
   ]
  },
  {
   "cell_type": "code",
   "execution_count": null,
   "metadata": {},
   "outputs": [],
   "source": []
  }
 ],
 "metadata": {
  "kernelspec": {
   "display_name": "Python 3",
   "language": "python",
   "name": "python3"
  },
  "language_info": {
   "codemirror_mode": {
    "name": "ipython",
    "version": 3
   },
   "file_extension": ".py",
   "mimetype": "text/x-python",
   "name": "python",
   "nbconvert_exporter": "python",
   "pygments_lexer": "ipython3",
   "version": "3.7.6"
  }
 },
 "nbformat": 4,
 "nbformat_minor": 4
}
