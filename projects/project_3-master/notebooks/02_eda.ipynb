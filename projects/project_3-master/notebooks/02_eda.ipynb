{
 "cells": [
  {
   "cell_type": "markdown",
   "metadata": {},
   "source": [
    "# Read in and Explore Data:"
   ]
  },
  {
   "cell_type": "markdown",
   "metadata": {},
   "source": [
    "The below lines explore the Submissions and Comments data using standard EDA techniques. Checks are made for congruence of shape, data types, and missing values. The 'selftext' field from the Submissions data will not be used in final analysis, given the amount of missing data. The Comments data will require cleaning, but do not present missing data issues."
   ]
  },
  {
   "cell_type": "markdown",
   "metadata": {},
   "source": [
    "### Explore Title Submissions:"
   ]
  },
  {
   "cell_type": "code",
   "execution_count": 139,
   "metadata": {},
   "outputs": [],
   "source": [
    "# Import Libraries:\n",
    "\n",
    "import pandas as pd"
   ]
  },
  {
   "cell_type": "code",
   "execution_count": 140,
   "metadata": {},
   "outputs": [],
   "source": [
    "# Read in conspiracy theory data:\n",
    "\n",
    "conspire = pd.read_csv('../data/conspire_pull_submissions.csv')"
   ]
  },
  {
   "cell_type": "code",
   "execution_count": 141,
   "metadata": {},
   "outputs": [],
   "source": [
    "# Read in science data:\n",
    "\n",
    "science = pd.read_csv('../data/science_pull_submissions.csv')"
   ]
  },
  {
   "cell_type": "code",
   "execution_count": 142,
   "metadata": {},
   "outputs": [
    {
     "data": {
      "text/plain": [
       "(12000, 5)"
      ]
     },
     "execution_count": 142,
     "metadata": {},
     "output_type": "execute_result"
    }
   ],
   "source": [
    "# Conspire is 12k rows x 5 columns\n",
    "\n",
    "conspire.shape"
   ]
  },
  {
   "cell_type": "code",
   "execution_count": 143,
   "metadata": {},
   "outputs": [
    {
     "data": {
      "text/plain": [
       "(12000, 5)"
      ]
     },
     "execution_count": 143,
     "metadata": {},
     "output_type": "execute_result"
    }
   ],
   "source": [
    "# Science is 12k rows by 5 columns\n",
    "\n",
    "science.shape"
   ]
  },
  {
   "cell_type": "markdown",
   "metadata": {},
   "source": [
    "### Explore Title Submisions Missing Data:"
   ]
  },
  {
   "cell_type": "code",
   "execution_count": 144,
   "metadata": {},
   "outputs": [
    {
     "data": {
      "text/html": [
       "<div>\n",
       "<style scoped>\n",
       "    .dataframe tbody tr th:only-of-type {\n",
       "        vertical-align: middle;\n",
       "    }\n",
       "\n",
       "    .dataframe tbody tr th {\n",
       "        vertical-align: top;\n",
       "    }\n",
       "\n",
       "    .dataframe thead th {\n",
       "        text-align: right;\n",
       "    }\n",
       "</style>\n",
       "<table border=\"1\" class=\"dataframe\">\n",
       "  <thead>\n",
       "    <tr style=\"text-align: right;\">\n",
       "      <th></th>\n",
       "      <th>Unnamed: 0</th>\n",
       "      <th>created_utc</th>\n",
       "      <th>subreddit</th>\n",
       "      <th>selftext</th>\n",
       "      <th>title</th>\n",
       "    </tr>\n",
       "  </thead>\n",
       "  <tbody>\n",
       "    <tr>\n",
       "      <th>0</th>\n",
       "      <td>0</td>\n",
       "      <td>1587078122</td>\n",
       "      <td>conspiracytheories</td>\n",
       "      <td>Who else has noticed how the baby is being hit...</td>\n",
       "      <td>The coronavirus</td>\n",
       "    </tr>\n",
       "    <tr>\n",
       "      <th>1</th>\n",
       "      <td>1</td>\n",
       "      <td>1587076875</td>\n",
       "      <td>conspiracytheories</td>\n",
       "      <td>We are all pawns in this political game. Relea...</td>\n",
       "      <td>COVID-19 Power, Control, and Profit!</td>\n",
       "    </tr>\n",
       "    <tr>\n",
       "      <th>2</th>\n",
       "      <td>2</td>\n",
       "      <td>1587075153</td>\n",
       "      <td>conspiracytheories</td>\n",
       "      <td>NaN</td>\n",
       "      <td>Dr. Andrew Kaufman disputes COVID19</td>\n",
       "    </tr>\n",
       "    <tr>\n",
       "      <th>3</th>\n",
       "      <td>3</td>\n",
       "      <td>1587074999</td>\n",
       "      <td>conspiracytheories</td>\n",
       "      <td>[removed]</td>\n",
       "      <td>Do someone remember an suppost radio transmiss...</td>\n",
       "    </tr>\n",
       "    <tr>\n",
       "      <th>4</th>\n",
       "      <td>4</td>\n",
       "      <td>1587074240</td>\n",
       "      <td>conspiracytheories</td>\n",
       "      <td>Hey frendos, \\n\\nSomeone close to me has asser...</td>\n",
       "      <td>Question: Bill Gates Malaria Vaccine Mutates A...</td>\n",
       "    </tr>\n",
       "  </tbody>\n",
       "</table>\n",
       "</div>"
      ],
      "text/plain": [
       "   Unnamed: 0  created_utc           subreddit  \\\n",
       "0           0   1587078122  conspiracytheories   \n",
       "1           1   1587076875  conspiracytheories   \n",
       "2           2   1587075153  conspiracytheories   \n",
       "3           3   1587074999  conspiracytheories   \n",
       "4           4   1587074240  conspiracytheories   \n",
       "\n",
       "                                            selftext  \\\n",
       "0  Who else has noticed how the baby is being hit...   \n",
       "1  We are all pawns in this political game. Relea...   \n",
       "2                                                NaN   \n",
       "3                                          [removed]   \n",
       "4  Hey frendos, \\n\\nSomeone close to me has asser...   \n",
       "\n",
       "                                               title  \n",
       "0                                    The coronavirus  \n",
       "1               COVID-19 Power, Control, and Profit!  \n",
       "2                Dr. Andrew Kaufman disputes COVID19  \n",
       "3  Do someone remember an suppost radio transmiss...  \n",
       "4  Question: Bill Gates Malaria Vaccine Mutates A...  "
      ]
     },
     "execution_count": 144,
     "metadata": {},
     "output_type": "execute_result"
    }
   ],
   "source": [
    "conspire.head()"
   ]
  },
  {
   "cell_type": "code",
   "execution_count": 145,
   "metadata": {},
   "outputs": [
    {
     "data": {
      "text/html": [
       "<div>\n",
       "<style scoped>\n",
       "    .dataframe tbody tr th:only-of-type {\n",
       "        vertical-align: middle;\n",
       "    }\n",
       "\n",
       "    .dataframe tbody tr th {\n",
       "        vertical-align: top;\n",
       "    }\n",
       "\n",
       "    .dataframe thead th {\n",
       "        text-align: right;\n",
       "    }\n",
       "</style>\n",
       "<table border=\"1\" class=\"dataframe\">\n",
       "  <thead>\n",
       "    <tr style=\"text-align: right;\">\n",
       "      <th></th>\n",
       "      <th>Unnamed: 0</th>\n",
       "      <th>created_utc</th>\n",
       "      <th>subreddit</th>\n",
       "      <th>selftext</th>\n",
       "      <th>title</th>\n",
       "    </tr>\n",
       "  </thead>\n",
       "  <tbody>\n",
       "    <tr>\n",
       "      <th>0</th>\n",
       "      <td>0</td>\n",
       "      <td>1587081052</td>\n",
       "      <td>science</td>\n",
       "      <td>NaN</td>\n",
       "      <td>Tens to Hundreds of Gigahertz Stable Pulsed Al...</td>\n",
       "    </tr>\n",
       "    <tr>\n",
       "      <th>1</th>\n",
       "      <td>1</td>\n",
       "      <td>1587079564</td>\n",
       "      <td>science</td>\n",
       "      <td>NaN</td>\n",
       "      <td>iPhone 11 64G,Double Card Double Wait, Genuine...</td>\n",
       "    </tr>\n",
       "    <tr>\n",
       "      <th>2</th>\n",
       "      <td>2</td>\n",
       "      <td>1587078047</td>\n",
       "      <td>science</td>\n",
       "      <td>[deleted]</td>\n",
       "      <td>Dornaz alfa koronavirüs tedavisinde kullanılab...</td>\n",
       "    </tr>\n",
       "    <tr>\n",
       "      <th>3</th>\n",
       "      <td>3</td>\n",
       "      <td>1587078029</td>\n",
       "      <td>science</td>\n",
       "      <td>[deleted]</td>\n",
       "      <td>Finally a solution!</td>\n",
       "    </tr>\n",
       "    <tr>\n",
       "      <th>4</th>\n",
       "      <td>4</td>\n",
       "      <td>1587077467</td>\n",
       "      <td>science</td>\n",
       "      <td>[deleted]</td>\n",
       "      <td>An analysis of radiation from the Big Bang sug...</td>\n",
       "    </tr>\n",
       "  </tbody>\n",
       "</table>\n",
       "</div>"
      ],
      "text/plain": [
       "   Unnamed: 0  created_utc subreddit   selftext  \\\n",
       "0           0   1587081052   science        NaN   \n",
       "1           1   1587079564   science        NaN   \n",
       "2           2   1587078047   science  [deleted]   \n",
       "3           3   1587078029   science  [deleted]   \n",
       "4           4   1587077467   science  [deleted]   \n",
       "\n",
       "                                               title  \n",
       "0  Tens to Hundreds of Gigahertz Stable Pulsed Al...  \n",
       "1  iPhone 11 64G,Double Card Double Wait, Genuine...  \n",
       "2  Dornaz alfa koronavirüs tedavisinde kullanılab...  \n",
       "3                                Finally a solution!  \n",
       "4  An analysis of radiation from the Big Bang sug...  "
      ]
     },
     "execution_count": 145,
     "metadata": {},
     "output_type": "execute_result"
    }
   ],
   "source": [
    "science.head()"
   ]
  },
  {
   "cell_type": "code",
   "execution_count": 146,
   "metadata": {},
   "outputs": [
    {
     "name": "stdout",
     "output_type": "stream",
     "text": [
      "<class 'pandas.core.frame.DataFrame'>\n",
      "RangeIndex: 12000 entries, 0 to 11999\n",
      "Data columns (total 5 columns):\n",
      "Unnamed: 0     12000 non-null int64\n",
      "created_utc    12000 non-null int64\n",
      "subreddit      12000 non-null object\n",
      "selftext       5773 non-null object\n",
      "title          12000 non-null object\n",
      "dtypes: int64(2), object(3)\n",
      "memory usage: 468.9+ KB\n"
     ]
    }
   ],
   "source": [
    "conspire.info()"
   ]
  },
  {
   "cell_type": "code",
   "execution_count": 147,
   "metadata": {},
   "outputs": [
    {
     "name": "stdout",
     "output_type": "stream",
     "text": [
      "<class 'pandas.core.frame.DataFrame'>\n",
      "RangeIndex: 12000 entries, 0 to 11999\n",
      "Data columns (total 5 columns):\n",
      "Unnamed: 0     12000 non-null int64\n",
      "created_utc    12000 non-null int64\n",
      "subreddit      12000 non-null object\n",
      "selftext       248 non-null object\n",
      "title          12000 non-null object\n",
      "dtypes: int64(2), object(3)\n",
      "memory usage: 468.9+ KB\n"
     ]
    }
   ],
   "source": [
    "science.info()"
   ]
  },
  {
   "cell_type": "code",
   "execution_count": 148,
   "metadata": {},
   "outputs": [
    {
     "data": {
      "text/plain": [
       "Unnamed: 0        0\n",
       "created_utc       0\n",
       "subreddit         0\n",
       "selftext       6227\n",
       "title             0\n",
       "dtype: int64"
      ]
     },
     "execution_count": 148,
     "metadata": {},
     "output_type": "execute_result"
    }
   ],
   "source": [
    "conspire.isnull().sum()"
   ]
  },
  {
   "cell_type": "code",
   "execution_count": 149,
   "metadata": {},
   "outputs": [
    {
     "data": {
      "text/plain": [
       "Unnamed: 0         0\n",
       "created_utc        0\n",
       "subreddit          0\n",
       "selftext       11752\n",
       "title              0\n",
       "dtype: int64"
      ]
     },
     "execution_count": 149,
     "metadata": {},
     "output_type": "execute_result"
    }
   ],
   "source": [
    "science.isnull().sum()"
   ]
  },
  {
   "cell_type": "code",
   "execution_count": 150,
   "metadata": {},
   "outputs": [],
   "source": [
    "# The Conspire dataset is missing 51% of 'selfttext' entries.\n",
    "# The Science dataset is mising 98% of 'selftext' entries.\n",
    "\n",
    "# We'll likely need to use 'title' as a predictor of thread membership, \n",
    "# given the high volume of missing values."
   ]
  },
  {
   "cell_type": "markdown",
   "metadata": {},
   "source": [
    "### Explore Comments:"
   ]
  },
  {
   "cell_type": "code",
   "execution_count": 151,
   "metadata": {},
   "outputs": [],
   "source": [
    "# Read in conspiracy theory data:\n",
    "\n",
    "conspire_comments = pd.read_csv('../data/conspire_pull_comments.csv')"
   ]
  },
  {
   "cell_type": "code",
   "execution_count": 152,
   "metadata": {},
   "outputs": [],
   "source": [
    "# Read in science data:\n",
    "\n",
    "science_comments = pd.read_csv('../data/science_pull_comments.csv')"
   ]
  },
  {
   "cell_type": "code",
   "execution_count": 153,
   "metadata": {},
   "outputs": [
    {
     "data": {
      "text/plain": [
       "(25000, 4)"
      ]
     },
     "execution_count": 153,
     "metadata": {},
     "output_type": "execute_result"
    }
   ],
   "source": [
    "# Conspire comments is 25k rows x 4 columns\n",
    "\n",
    "conspire_comments.shape"
   ]
  },
  {
   "cell_type": "code",
   "execution_count": 154,
   "metadata": {},
   "outputs": [
    {
     "data": {
      "text/plain": [
       "(25000, 4)"
      ]
     },
     "execution_count": 154,
     "metadata": {},
     "output_type": "execute_result"
    }
   ],
   "source": [
    "# Science comments is 25k rows x 4 columns\n",
    "\n",
    "science_comments.shape"
   ]
  },
  {
   "cell_type": "markdown",
   "metadata": {},
   "source": [
    "### Explore Comments Missing Data:"
   ]
  },
  {
   "cell_type": "code",
   "execution_count": 156,
   "metadata": {},
   "outputs": [
    {
     "data": {
      "text/html": [
       "<div>\n",
       "<style scoped>\n",
       "    .dataframe tbody tr th:only-of-type {\n",
       "        vertical-align: middle;\n",
       "    }\n",
       "\n",
       "    .dataframe tbody tr th {\n",
       "        vertical-align: top;\n",
       "    }\n",
       "\n",
       "    .dataframe thead th {\n",
       "        text-align: right;\n",
       "    }\n",
       "</style>\n",
       "<table border=\"1\" class=\"dataframe\">\n",
       "  <thead>\n",
       "    <tr style=\"text-align: right;\">\n",
       "      <th></th>\n",
       "      <th>Unnamed: 0</th>\n",
       "      <th>created_utc</th>\n",
       "      <th>subreddit</th>\n",
       "      <th>body</th>\n",
       "    </tr>\n",
       "  </thead>\n",
       "  <tbody>\n",
       "    <tr>\n",
       "      <th>0</th>\n",
       "      <td>0</td>\n",
       "      <td>1587081288</td>\n",
       "      <td>conspiracytheories</td>\n",
       "      <td>Trump was part of Epstein's ring too, he's the...</td>\n",
       "    </tr>\n",
       "    <tr>\n",
       "      <th>1</th>\n",
       "      <td>1</td>\n",
       "      <td>1587081284</td>\n",
       "      <td>conspiracytheories</td>\n",
       "      <td>If china was going to cripple us with a virus ...</td>\n",
       "    </tr>\n",
       "    <tr>\n",
       "      <th>2</th>\n",
       "      <td>2</td>\n",
       "      <td>1587081205</td>\n",
       "      <td>conspiracytheories</td>\n",
       "      <td>Damn...exactly</td>\n",
       "    </tr>\n",
       "    <tr>\n",
       "      <th>3</th>\n",
       "      <td>3</td>\n",
       "      <td>1587081197</td>\n",
       "      <td>conspiracytheories</td>\n",
       "      <td>Only if you’re not going to explain what you t...</td>\n",
       "    </tr>\n",
       "    <tr>\n",
       "      <th>4</th>\n",
       "      <td>4</td>\n",
       "      <td>1587081171</td>\n",
       "      <td>conspiracytheories</td>\n",
       "      <td>The pollution levels have gone down because we...</td>\n",
       "    </tr>\n",
       "  </tbody>\n",
       "</table>\n",
       "</div>"
      ],
      "text/plain": [
       "   Unnamed: 0  created_utc           subreddit  \\\n",
       "0           0   1587081288  conspiracytheories   \n",
       "1           1   1587081284  conspiracytheories   \n",
       "2           2   1587081205  conspiracytheories   \n",
       "3           3   1587081197  conspiracytheories   \n",
       "4           4   1587081171  conspiracytheories   \n",
       "\n",
       "                                                body  \n",
       "0  Trump was part of Epstein's ring too, he's the...  \n",
       "1  If china was going to cripple us with a virus ...  \n",
       "2                                     Damn...exactly  \n",
       "3  Only if you’re not going to explain what you t...  \n",
       "4  The pollution levels have gone down because we...  "
      ]
     },
     "execution_count": 156,
     "metadata": {},
     "output_type": "execute_result"
    }
   ],
   "source": [
    "conspire_comments.head()"
   ]
  },
  {
   "cell_type": "code",
   "execution_count": 157,
   "metadata": {},
   "outputs": [
    {
     "data": {
      "text/html": [
       "<div>\n",
       "<style scoped>\n",
       "    .dataframe tbody tr th:only-of-type {\n",
       "        vertical-align: middle;\n",
       "    }\n",
       "\n",
       "    .dataframe tbody tr th {\n",
       "        vertical-align: top;\n",
       "    }\n",
       "\n",
       "    .dataframe thead th {\n",
       "        text-align: right;\n",
       "    }\n",
       "</style>\n",
       "<table border=\"1\" class=\"dataframe\">\n",
       "  <thead>\n",
       "    <tr style=\"text-align: right;\">\n",
       "      <th></th>\n",
       "      <th>Unnamed: 0</th>\n",
       "      <th>created_utc</th>\n",
       "      <th>subreddit</th>\n",
       "      <th>body</th>\n",
       "    </tr>\n",
       "  </thead>\n",
       "  <tbody>\n",
       "    <tr>\n",
       "      <th>0</th>\n",
       "      <td>0</td>\n",
       "      <td>1587081425</td>\n",
       "      <td>science</td>\n",
       "      <td>There goes my appetite for seafood. Had honest...</td>\n",
       "    </tr>\n",
       "    <tr>\n",
       "      <th>1</th>\n",
       "      <td>1</td>\n",
       "      <td>1587081414</td>\n",
       "      <td>science</td>\n",
       "      <td>Which one?</td>\n",
       "    </tr>\n",
       "    <tr>\n",
       "      <th>2</th>\n",
       "      <td>2</td>\n",
       "      <td>1587081373</td>\n",
       "      <td>science</td>\n",
       "      <td>Probably similar. However... they say they're ...</td>\n",
       "    </tr>\n",
       "    <tr>\n",
       "      <th>3</th>\n",
       "      <td>3</td>\n",
       "      <td>1587081313</td>\n",
       "      <td>science</td>\n",
       "      <td>You’re such a liar. At 40 years old I know and...</td>\n",
       "    </tr>\n",
       "    <tr>\n",
       "      <th>4</th>\n",
       "      <td>4</td>\n",
       "      <td>1587081304</td>\n",
       "      <td>science</td>\n",
       "      <td>Thats a little bit overkill, there are easier ...</td>\n",
       "    </tr>\n",
       "  </tbody>\n",
       "</table>\n",
       "</div>"
      ],
      "text/plain": [
       "   Unnamed: 0  created_utc subreddit  \\\n",
       "0           0   1587081425   science   \n",
       "1           1   1587081414   science   \n",
       "2           2   1587081373   science   \n",
       "3           3   1587081313   science   \n",
       "4           4   1587081304   science   \n",
       "\n",
       "                                                body  \n",
       "0  There goes my appetite for seafood. Had honest...  \n",
       "1                                         Which one?  \n",
       "2  Probably similar. However... they say they're ...  \n",
       "3  You’re such a liar. At 40 years old I know and...  \n",
       "4  Thats a little bit overkill, there are easier ...  "
      ]
     },
     "execution_count": 157,
     "metadata": {},
     "output_type": "execute_result"
    }
   ],
   "source": [
    "science_comments.head()"
   ]
  },
  {
   "cell_type": "code",
   "execution_count": 158,
   "metadata": {},
   "outputs": [
    {
     "name": "stdout",
     "output_type": "stream",
     "text": [
      "<class 'pandas.core.frame.DataFrame'>\n",
      "RangeIndex: 25000 entries, 0 to 24999\n",
      "Data columns (total 4 columns):\n",
      "Unnamed: 0     25000 non-null int64\n",
      "created_utc    25000 non-null int64\n",
      "subreddit      25000 non-null object\n",
      "body           25000 non-null object\n",
      "dtypes: int64(2), object(2)\n",
      "memory usage: 781.4+ KB\n"
     ]
    }
   ],
   "source": [
    "conspire_comments.info()"
   ]
  },
  {
   "cell_type": "code",
   "execution_count": 159,
   "metadata": {},
   "outputs": [
    {
     "name": "stdout",
     "output_type": "stream",
     "text": [
      "<class 'pandas.core.frame.DataFrame'>\n",
      "RangeIndex: 25000 entries, 0 to 24999\n",
      "Data columns (total 4 columns):\n",
      "Unnamed: 0     25000 non-null int64\n",
      "created_utc    25000 non-null int64\n",
      "subreddit      25000 non-null object\n",
      "body           25000 non-null object\n",
      "dtypes: int64(2), object(2)\n",
      "memory usage: 781.4+ KB\n"
     ]
    }
   ],
   "source": [
    "science_comments.info()"
   ]
  },
  {
   "cell_type": "code",
   "execution_count": 160,
   "metadata": {},
   "outputs": [
    {
     "data": {
      "text/plain": [
       "Unnamed: 0     0\n",
       "created_utc    0\n",
       "subreddit      0\n",
       "body           0\n",
       "dtype: int64"
      ]
     },
     "execution_count": 160,
     "metadata": {},
     "output_type": "execute_result"
    }
   ],
   "source": [
    "conspire_comments.isnull().sum()"
   ]
  },
  {
   "cell_type": "code",
   "execution_count": 161,
   "metadata": {},
   "outputs": [
    {
     "data": {
      "text/plain": [
       "Unnamed: 0     0\n",
       "created_utc    0\n",
       "subreddit      0\n",
       "body           0\n",
       "dtype: int64"
      ]
     },
     "execution_count": 161,
     "metadata": {},
     "output_type": "execute_result"
    }
   ],
   "source": [
    "science_comments.isnull().sum()"
   ]
  },
  {
   "cell_type": "code",
   "execution_count": 162,
   "metadata": {},
   "outputs": [],
   "source": [
    "# The comment datasets seem relatively complete. \n",
    "# Cleaning the text documents and generating indicator variables\n",
    "# will take place in the next notebook. "
   ]
  },
  {
   "cell_type": "code",
   "execution_count": null,
   "metadata": {},
   "outputs": [],
   "source": []
  }
 ],
 "metadata": {
  "kernelspec": {
   "display_name": "Python 3",
   "language": "python",
   "name": "python3"
  },
  "language_info": {
   "codemirror_mode": {
    "name": "ipython",
    "version": 3
   },
   "file_extension": ".py",
   "mimetype": "text/x-python",
   "name": "python",
   "nbconvert_exporter": "python",
   "pygments_lexer": "ipython3",
   "version": "3.7.6"
  }
 },
 "nbformat": 4,
 "nbformat_minor": 4
}
