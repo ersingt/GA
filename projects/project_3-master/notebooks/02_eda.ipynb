{
 "cells": [
  {
   "cell_type": "markdown",
   "metadata": {},
   "source": [
    "## Read in and Explore Data:"
   ]
  },
  {
   "cell_type": "code",
   "execution_count": 1,
   "metadata": {},
   "outputs": [],
   "source": [
    "# Import Libraries:\n",
    "\n",
    "import pandas as pd"
   ]
  },
  {
   "cell_type": "code",
   "execution_count": 4,
   "metadata": {},
   "outputs": [],
   "source": [
    "# Read in conspiracy theory data:\n",
    "\n",
    "conspire = pd.read_csv('../data/conspire_pull.csv')"
   ]
  },
  {
   "cell_type": "code",
   "execution_count": 5,
   "metadata": {},
   "outputs": [],
   "source": [
    "# Read in science data:\n",
    "\n",
    "science = pd.read_csv('../data/science_pull.csv')"
   ]
  },
  {
   "cell_type": "code",
   "execution_count": 12,
   "metadata": {},
   "outputs": [
    {
     "data": {
      "text/plain": [
       "(12000, 5)"
      ]
     },
     "execution_count": 12,
     "metadata": {},
     "output_type": "execute_result"
    }
   ],
   "source": [
    "# Conspire is 12k rows x 5 columns\n",
    "\n",
    "conspire.shape"
   ]
  },
  {
   "cell_type": "code",
   "execution_count": 17,
   "metadata": {},
   "outputs": [
    {
     "data": {
      "text/plain": [
       "(12000, 5)"
      ]
     },
     "execution_count": 17,
     "metadata": {},
     "output_type": "execute_result"
    }
   ],
   "source": [
    "# Science is 12k rows by 5 columns\n",
    "\n",
    "science.shape"
   ]
  },
  {
   "cell_type": "markdown",
   "metadata": {},
   "source": [
    "### Explore Missing Data:"
   ]
  },
  {
   "cell_type": "code",
   "execution_count": 6,
   "metadata": {},
   "outputs": [
    {
     "data": {
      "text/html": [
       "<div>\n",
       "<style scoped>\n",
       "    .dataframe tbody tr th:only-of-type {\n",
       "        vertical-align: middle;\n",
       "    }\n",
       "\n",
       "    .dataframe tbody tr th {\n",
       "        vertical-align: top;\n",
       "    }\n",
       "\n",
       "    .dataframe thead th {\n",
       "        text-align: right;\n",
       "    }\n",
       "</style>\n",
       "<table border=\"1\" class=\"dataframe\">\n",
       "  <thead>\n",
       "    <tr style=\"text-align: right;\">\n",
       "      <th></th>\n",
       "      <th>Unnamed: 0</th>\n",
       "      <th>created_utc</th>\n",
       "      <th>subreddit</th>\n",
       "      <th>selftext</th>\n",
       "      <th>title</th>\n",
       "    </tr>\n",
       "  </thead>\n",
       "  <tbody>\n",
       "    <tr>\n",
       "      <th>0</th>\n",
       "      <td>0</td>\n",
       "      <td>1587078122</td>\n",
       "      <td>conspiracytheories</td>\n",
       "      <td>Who else has noticed how the baby is being hit...</td>\n",
       "      <td>The coronavirus</td>\n",
       "    </tr>\n",
       "    <tr>\n",
       "      <th>1</th>\n",
       "      <td>1</td>\n",
       "      <td>1587076875</td>\n",
       "      <td>conspiracytheories</td>\n",
       "      <td>We are all pawns in this political game. Relea...</td>\n",
       "      <td>COVID-19 Power, Control, and Profit!</td>\n",
       "    </tr>\n",
       "    <tr>\n",
       "      <th>2</th>\n",
       "      <td>2</td>\n",
       "      <td>1587075153</td>\n",
       "      <td>conspiracytheories</td>\n",
       "      <td>NaN</td>\n",
       "      <td>Dr. Andrew Kaufman disputes COVID19</td>\n",
       "    </tr>\n",
       "    <tr>\n",
       "      <th>3</th>\n",
       "      <td>3</td>\n",
       "      <td>1587074999</td>\n",
       "      <td>conspiracytheories</td>\n",
       "      <td>[removed]</td>\n",
       "      <td>Do someone remember an suppost radio transmiss...</td>\n",
       "    </tr>\n",
       "    <tr>\n",
       "      <th>4</th>\n",
       "      <td>4</td>\n",
       "      <td>1587074240</td>\n",
       "      <td>conspiracytheories</td>\n",
       "      <td>Hey frendos, \\n\\nSomeone close to me has asser...</td>\n",
       "      <td>Question: Bill Gates Malaria Vaccine Mutates A...</td>\n",
       "    </tr>\n",
       "  </tbody>\n",
       "</table>\n",
       "</div>"
      ],
      "text/plain": [
       "   Unnamed: 0  created_utc           subreddit  \\\n",
       "0           0   1587078122  conspiracytheories   \n",
       "1           1   1587076875  conspiracytheories   \n",
       "2           2   1587075153  conspiracytheories   \n",
       "3           3   1587074999  conspiracytheories   \n",
       "4           4   1587074240  conspiracytheories   \n",
       "\n",
       "                                            selftext  \\\n",
       "0  Who else has noticed how the baby is being hit...   \n",
       "1  We are all pawns in this political game. Relea...   \n",
       "2                                                NaN   \n",
       "3                                          [removed]   \n",
       "4  Hey frendos, \\n\\nSomeone close to me has asser...   \n",
       "\n",
       "                                               title  \n",
       "0                                    The coronavirus  \n",
       "1               COVID-19 Power, Control, and Profit!  \n",
       "2                Dr. Andrew Kaufman disputes COVID19  \n",
       "3  Do someone remember an suppost radio transmiss...  \n",
       "4  Question: Bill Gates Malaria Vaccine Mutates A...  "
      ]
     },
     "execution_count": 6,
     "metadata": {},
     "output_type": "execute_result"
    }
   ],
   "source": [
    "conspire.head()"
   ]
  },
  {
   "cell_type": "code",
   "execution_count": 7,
   "metadata": {},
   "outputs": [
    {
     "data": {
      "text/html": [
       "<div>\n",
       "<style scoped>\n",
       "    .dataframe tbody tr th:only-of-type {\n",
       "        vertical-align: middle;\n",
       "    }\n",
       "\n",
       "    .dataframe tbody tr th {\n",
       "        vertical-align: top;\n",
       "    }\n",
       "\n",
       "    .dataframe thead th {\n",
       "        text-align: right;\n",
       "    }\n",
       "</style>\n",
       "<table border=\"1\" class=\"dataframe\">\n",
       "  <thead>\n",
       "    <tr style=\"text-align: right;\">\n",
       "      <th></th>\n",
       "      <th>Unnamed: 0</th>\n",
       "      <th>created_utc</th>\n",
       "      <th>subreddit</th>\n",
       "      <th>selftext</th>\n",
       "      <th>title</th>\n",
       "    </tr>\n",
       "  </thead>\n",
       "  <tbody>\n",
       "    <tr>\n",
       "      <th>0</th>\n",
       "      <td>0</td>\n",
       "      <td>1587081052</td>\n",
       "      <td>science</td>\n",
       "      <td>NaN</td>\n",
       "      <td>Tens to Hundreds of Gigahertz Stable Pulsed Al...</td>\n",
       "    </tr>\n",
       "    <tr>\n",
       "      <th>1</th>\n",
       "      <td>1</td>\n",
       "      <td>1587079564</td>\n",
       "      <td>science</td>\n",
       "      <td>NaN</td>\n",
       "      <td>iPhone 11 64G,Double Card Double Wait, Genuine...</td>\n",
       "    </tr>\n",
       "    <tr>\n",
       "      <th>2</th>\n",
       "      <td>2</td>\n",
       "      <td>1587078047</td>\n",
       "      <td>science</td>\n",
       "      <td>[deleted]</td>\n",
       "      <td>Dornaz alfa koronavirüs tedavisinde kullanılab...</td>\n",
       "    </tr>\n",
       "    <tr>\n",
       "      <th>3</th>\n",
       "      <td>3</td>\n",
       "      <td>1587078029</td>\n",
       "      <td>science</td>\n",
       "      <td>[deleted]</td>\n",
       "      <td>Finally a solution!</td>\n",
       "    </tr>\n",
       "    <tr>\n",
       "      <th>4</th>\n",
       "      <td>4</td>\n",
       "      <td>1587077467</td>\n",
       "      <td>science</td>\n",
       "      <td>[deleted]</td>\n",
       "      <td>An analysis of radiation from the Big Bang sug...</td>\n",
       "    </tr>\n",
       "  </tbody>\n",
       "</table>\n",
       "</div>"
      ],
      "text/plain": [
       "   Unnamed: 0  created_utc subreddit   selftext  \\\n",
       "0           0   1587081052   science        NaN   \n",
       "1           1   1587079564   science        NaN   \n",
       "2           2   1587078047   science  [deleted]   \n",
       "3           3   1587078029   science  [deleted]   \n",
       "4           4   1587077467   science  [deleted]   \n",
       "\n",
       "                                               title  \n",
       "0  Tens to Hundreds of Gigahertz Stable Pulsed Al...  \n",
       "1  iPhone 11 64G,Double Card Double Wait, Genuine...  \n",
       "2  Dornaz alfa koronavirüs tedavisinde kullanılab...  \n",
       "3                                Finally a solution!  \n",
       "4  An analysis of radiation from the Big Bang sug...  "
      ]
     },
     "execution_count": 7,
     "metadata": {},
     "output_type": "execute_result"
    }
   ],
   "source": [
    "science.head()"
   ]
  },
  {
   "cell_type": "code",
   "execution_count": 10,
   "metadata": {},
   "outputs": [
    {
     "name": "stdout",
     "output_type": "stream",
     "text": [
      "<class 'pandas.core.frame.DataFrame'>\n",
      "RangeIndex: 12000 entries, 0 to 11999\n",
      "Data columns (total 5 columns):\n",
      "Unnamed: 0     12000 non-null int64\n",
      "created_utc    12000 non-null int64\n",
      "subreddit      12000 non-null object\n",
      "selftext       5773 non-null object\n",
      "title          12000 non-null object\n",
      "dtypes: int64(2), object(3)\n",
      "memory usage: 468.9+ KB\n"
     ]
    }
   ],
   "source": [
    "conspire.info()"
   ]
  },
  {
   "cell_type": "code",
   "execution_count": null,
   "metadata": {},
   "outputs": [],
   "source": [
    "# The conspiracy dataset is missing "
   ]
  },
  {
   "cell_type": "code",
   "execution_count": 11,
   "metadata": {},
   "outputs": [
    {
     "name": "stdout",
     "output_type": "stream",
     "text": [
      "<class 'pandas.core.frame.DataFrame'>\n",
      "RangeIndex: 12000 entries, 0 to 11999\n",
      "Data columns (total 5 columns):\n",
      "Unnamed: 0     12000 non-null int64\n",
      "created_utc    12000 non-null int64\n",
      "subreddit      12000 non-null object\n",
      "selftext       248 non-null object\n",
      "title          12000 non-null object\n",
      "dtypes: int64(2), object(3)\n",
      "memory usage: 468.9+ KB\n"
     ]
    }
   ],
   "source": [
    "science.info()"
   ]
  },
  {
   "cell_type": "code",
   "execution_count": 25,
   "metadata": {},
   "outputs": [
    {
     "data": {
      "text/plain": [
       "Unnamed: 0        0\n",
       "created_utc       0\n",
       "subreddit         0\n",
       "selftext       6227\n",
       "title             0\n",
       "dtype: int64"
      ]
     },
     "execution_count": 25,
     "metadata": {},
     "output_type": "execute_result"
    }
   ],
   "source": [
    "conspire.isnull().sum()"
   ]
  },
  {
   "cell_type": "code",
   "execution_count": 23,
   "metadata": {},
   "outputs": [
    {
     "data": {
      "text/plain": [
       "Unnamed: 0         0\n",
       "created_utc        0\n",
       "subreddit          0\n",
       "selftext       11752\n",
       "title              0\n",
       "dtype: int64"
      ]
     },
     "execution_count": 23,
     "metadata": {},
     "output_type": "execute_result"
    }
   ],
   "source": [
    "science.isnull().sum()"
   ]
  },
  {
   "cell_type": "code",
   "execution_count": 27,
   "metadata": {},
   "outputs": [],
   "source": [
    "# The Conspire dataset is missing 51% of 'selfttext' entries.\n",
    "# The Science dataset is mising 98% of 'selftext' entries.\n",
    "\n",
    "# We'll likely need to use 'title' as a predictor of thread membership, \n",
    "# given the high volume of missing values."
   ]
  }
 ],
 "metadata": {
  "kernelspec": {
   "display_name": "Python 3",
   "language": "python",
   "name": "python3"
  },
  "language_info": {
   "codemirror_mode": {
    "name": "ipython",
    "version": 3
   },
   "file_extension": ".py",
   "mimetype": "text/x-python",
   "name": "python",
   "nbconvert_exporter": "python",
   "pygments_lexer": "ipython3",
   "version": "3.7.6"
  }
 },
 "nbformat": 4,
 "nbformat_minor": 4
}
