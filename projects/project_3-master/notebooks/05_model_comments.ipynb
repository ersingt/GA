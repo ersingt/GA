{
 "cells": [
  {
   "cell_type": "markdown",
   "metadata": {},
   "source": [
    "# Modeling Reddit Comments:"
   ]
  },
  {
   "cell_type": "markdown",
   "metadata": {},
   "source": [
    "### The NLP modeling process is broken down as follows:\n",
    "\n",
    "Classifying Comments:\n",
    "   - 1. Logistic Regression:\n",
    "       - CountVectorizer\n",
    "       - TF-IDF\n",
    "   - 2. Naieve Bayes\n",
    "       - CountVectorizer\n",
    "       - TF-IDF\n",
    "   - 3. SVM\n",
    "       - CountVectorizer\n",
    "       - TF-IDF\n",
    "       \n",
    "Hyperparameters are further defined under each section, below."
   ]
  },
  {
   "cell_type": "code",
   "execution_count": 44,
   "metadata": {},
   "outputs": [],
   "source": [
    "# Import Libraries:\n",
    "\n",
    "import pandas as pd\n",
    "import numpy as np\n",
    "import matplotlib.pyplot as plt\n",
    "import seaborn as sns\n",
    "\n",
    "from sklearn.model_selection import train_test_split, GridSearchCV\n",
    "from sklearn.pipeline import Pipeline\n",
    "from sklearn.linear_model import LogisticRegression\n",
    "from sklearn.feature_extraction.text import CountVectorizer, TfidfVectorizer\n",
    "from sklearn.naive_bayes import MultinomialNB\n",
    "from sklearn.pipeline import make_pipeline\n",
    "from sklearn.preprocessing import StandardScaler\n",
    "from sklearn.svm import SVC\n",
    "from sklearn.metrics import roc_auc_score\n",
    "from sklearn.metrics import classification_report\n",
    "\n",
    "from nltk.stem import WordNetLemmatizer"
   ]
  },
  {
   "cell_type": "markdown",
   "metadata": {},
   "source": [
    "## 1. Classifying Submissions:"
   ]
  },
  {
   "cell_type": "code",
   "execution_count": 15,
   "metadata": {},
   "outputs": [],
   "source": [
    "# Read in merged CSV:\n",
    "\n",
    "df_comments = pd.read_csv('../data/merged_comments.csv')"
   ]
  },
  {
   "cell_type": "code",
   "execution_count": 16,
   "metadata": {},
   "outputs": [],
   "source": [
    "# Define X and y:\n",
    "\n",
    "X_comments = df_comments['body']\n",
    "y_comments = df_comments['subreddit']"
   ]
  },
  {
   "cell_type": "code",
   "execution_count": 17,
   "metadata": {},
   "outputs": [],
   "source": [
    "# Execute Train/Test Split on Submissions:\n",
    "\n",
    "X_train, X_test, y_train, y_test = train_test_split(X_comments,\n",
    "                                                    y_comments,\n",
    "                                                    random_state=42)"
   ]
  },
  {
   "cell_type": "code",
   "execution_count": 18,
   "metadata": {},
   "outputs": [],
   "source": [
    "# Define function to lemmatize text:\n",
    "\n",
    "def split_into_lemmas(text):\n",
    "    text = text.lower()\n",
    "    lemmer = WordNetLemmatizer()\n",
    "    return \"\".join([lemmer.lemmatize(word) for word in text])\n",
    "\n",
    "# Code adapted from GA DSI Local Lesson: NLP"
   ]
  },
  {
   "cell_type": "markdown",
   "metadata": {},
   "source": [
    "### 1A) Logistic Regression + CountVectorizer:"
   ]
  },
  {
   "cell_type": "code",
   "execution_count": 19,
   "metadata": {},
   "outputs": [
    {
     "name": "stdout",
     "output_type": "stream",
     "text": [
      "Fitting model. This could take 20 minutes. Might want to grab coffee...\n",
      "...models fit!\n",
      "Training score: 0.8587550487051556\n",
      "Test score    : 0.7947255880256593\n",
      "Best params   : {'cvec__max_features': 4000, 'cvec__ngram_range': (1, 1), 'cvec__preprocessor': None, 'cvec__stop_words': None, 'cvec__strip_accents': 'ascii', 'lr__C': 0.75075, 'lr__penalty': 'l2'}\n"
     ]
    }
   ],
   "source": [
    "# NOTE: Fitting 720 models, can take 20+ minutes to run.\n",
    "\n",
    "# Pipeline 1:\n",
    "pipe1 = Pipeline([\n",
    "    ('cvec', CountVectorizer()),\n",
    "    ('lr', LogisticRegression(solver = 'liblinear'))\n",
    "])\n",
    "# Pipeline 1 parameters:\n",
    "pipe1_params = {\n",
    "    'cvec__max_features': [3000, 4000],  # After increasing max features past 3,000, overfitting became an issue. \n",
    "                                              # Training scores would increase but Test scores remained at around .89\n",
    "    'cvec__ngram_range': [(1,1), (1,2)],\n",
    "    'cvec__strip_accents': ['ascii', 'unicode', None],   \n",
    "    'cvec__preprocessor': [split_into_lemmas, None],\n",
    "    'cvec__stop_words':[None],\n",
    "    'lr__C': np.linspace(.001, 3, 5),\n",
    "    'lr__penalty': ['l1', 'l2']\n",
    "}\n",
    "# GridSearchCV1:\n",
    "gs1 = GridSearchCV(pipe1,\n",
    "                  param_grid=pipe1_params,\n",
    "                  n_jobs=-1,\n",
    "                  cv=5)\n",
    "# Fit GridSearch to training data:\n",
    "print('Fitting model. This could take 20 minutes. Might want to grab coffee...')\n",
    "gs1.fit(X_train, \n",
    "       y_train)\n",
    "\n",
    "# Score Model:\n",
    "print('...models fit!')\n",
    "print(f'Training score: {gs1.score(X_train, y_train)}')\n",
    "print(f'Test score    : {gs1.score(X_test, y_test)}')\n",
    "print(f'Best params   : {gs1.best_params_}')"
   ]
  },
  {
   "cell_type": "code",
   "execution_count": 62,
   "metadata": {},
   "outputs": [
    {
     "ename": "SyntaxError",
     "evalue": "invalid syntax (<ipython-input-62-974ef18dc9cc>, line 1)",
     "output_type": "error",
     "traceback": [
      "\u001b[0;36m  File \u001b[0;32m\"<ipython-input-62-974ef18dc9cc>\"\u001b[0;36m, line \u001b[0;32m1\u001b[0m\n\u001b[0;31m    ROC AUC SCORE\u001b[0m\n\u001b[0m          ^\u001b[0m\n\u001b[0;31mSyntaxError\u001b[0m\u001b[0;31m:\u001b[0m invalid syntax\n"
     ]
    }
   ],
   "source": [
    "#ROC AUC SCORE"
   ]
  },
  {
   "cell_type": "markdown",
   "metadata": {},
   "source": [
    "### 1B) Logistic Regression + TF-IDF:"
   ]
  },
  {
   "cell_type": "code",
   "execution_count": 20,
   "metadata": {},
   "outputs": [
    {
     "name": "stdout",
     "output_type": "stream",
     "text": [
      "Fitting model. This could take 20+ minutes. Might want to grab coffee...\n",
      "...models fit!\n",
      "Training score: 0.8635859665795518\n",
      "Test score    : 0.8067236873366596\n",
      "Best params   : {'lr__C': 3.0, 'tvec__max_features': 5000, 'tvec__ngram_range': (1, 1), 'tvec__stop_words': None, 'tvec__strip_accents': 'ascii'}\n"
     ]
    }
   ],
   "source": [
    "# NOTE: Fitting 1080 models, can take 15+ minutes to run.\n",
    "\n",
    "# Pipeline 2:\n",
    "pipe2 = Pipeline([\n",
    "    ('tvec', TfidfVectorizer()),\n",
    "    ('lr', LogisticRegression(solver = 'liblinear'))\n",
    "])\n",
    "# Parameters:\n",
    "pipe2_params = {\n",
    "     'tvec__max_features': [1500, 3000, 5000],\n",
    "     'tvec__ngram_range': [(1,1), (1,2)],\n",
    "     'tvec__strip_accents': ['ascii', 'unicode', None],   \n",
    "     #'tvec__preprocessor': [split_into_lemmas, None],\n",
    "     'tvec__stop_words':['english', None],\n",
    "     'lr__C': np.linspace(.001, 3, 5)\n",
    "}\n",
    "# GridSearchCV2:\n",
    "gs2 = GridSearchCV(pipe2,\n",
    "                  param_grid=pipe2_params, \n",
    "                  n_jobs=-1,\n",
    "                  cv=5)\n",
    "# Fit GridSearch to training data:\n",
    "print('Fitting model. This could take 20+ minutes. Might want to grab coffee...')\n",
    "gs2.fit(X_train, y_train)\n",
    "\n",
    "# Score Model:\n",
    "print('...models fit!')\n",
    "print(f'Training score: {gs2.score(X_train, y_train)}')\n",
    "print(f'Test score    : {gs2.score(X_test, y_test)}')\n",
    "print(f'Best params   : {gs2.best_params_}')"
   ]
  },
  {
   "cell_type": "markdown",
   "metadata": {},
   "source": [
    "### 1C) Multinomial Naive Bayes + CountVectorizer: \n"
   ]
  },
  {
   "cell_type": "code",
   "execution_count": 11,
   "metadata": {},
   "outputs": [
    {
     "name": "stdout",
     "output_type": "stream",
     "text": [
      "Fitting model. This could take 20+ minutes. Might want to grab coffee...\n",
      "Modelfs fit!\n",
      "Training score: 0.8167419022729072\n",
      "Test score    : 0.8001900688999762\n",
      "Best params   : {'cvec__max_features': 5000, 'cvec__ngram_range': (1, 1), 'cvec__preprocessor': None, 'cvec__stop_words': None, 'cvec__strip_accents': 'ascii'}\n"
     ]
    }
   ],
   "source": [
    "# NOTE: Fitting 540 models, can take 15+ minutes to run.\n",
    "\n",
    "# Pipeline 3:\n",
    "pipe3 = Pipeline([\n",
    "    ('cvec', CountVectorizer()),\n",
    "    ('nb', MultinomialNB())\n",
    "])\n",
    "# Parameters:\n",
    "pipe3_params = {\n",
    "    'cvec__max_features': [1000, 1500, 5000],  # After increasing max features past 3,000, overfitting became an issue. \n",
    "                                              # Training scores would increase but Test scores remained at around .89\n",
    "    'cvec__ngram_range': [(1,1), (1,2), (1,3)],\n",
    "    'cvec__strip_accents': ['ascii', 'unicode', None],   \n",
    "    #'cvec__preprocessor': [split_into_lemmas, None],\n",
    "    'cvec__stop_words':['english', None]\n",
    "}\n",
    "# GridSearchCV3:\n",
    "gs3 = GridSearchCV(pipe3,\n",
    "                  param_grid=pipe3_params,\n",
    "                   n_jobs=-1,\n",
    "                  cv=5)\n",
    "# Fit GridSearch to training data:\n",
    "print('Fitting model. This could take 20+ minutes. Might want to grab coffee...')\n",
    "gs3.fit(X_train, y_train)\n",
    "\n",
    "# Score Model:\n",
    "print('...models fit!')\n",
    "print(f'Training score: {gs3.score(X_train, y_train)}')\n",
    "print(f'Test score    : {gs3.score(X_test, y_test)}')\n",
    "print(f'Best params   : {gs3.best_params_}')"
   ]
  },
  {
   "cell_type": "markdown",
   "metadata": {},
   "source": [
    "### 1D) Multinomial Naive Bayes + TF-IDF:"
   ]
  },
  {
   "cell_type": "code",
   "execution_count": 12,
   "metadata": {},
   "outputs": [
    {
     "name": "stdout",
     "output_type": "stream",
     "text": [
      "Fitting models. This could take 20+ minutes. Might want to grab coffee...\n",
      "Models fit!\n",
      "Training score: 0.811831789023521\n",
      "Test score    : 0.7936564504632929\n",
      "Best params   : {'tvec__max_features': 3000, 'tvec__ngram_range': (1, 1), 'tvec__preprocessor': None, 'tvec__stop_words': None, 'tvec__strip_accents': 'ascii'}\n"
     ]
    }
   ],
   "source": [
    "# NOTE: Fitting 540 models, can take 15+ minutes to run.\n",
    "\n",
    "# Pipeline 4:\n",
    "pipe4 = Pipeline([\n",
    "    ('tvec', TfidfVectorizer()),\n",
    "    ('nb', MultinomialNB())\n",
    "])\n",
    "# Parameters:\n",
    "pipe4_params = {\n",
    "    'tvec__max_features': [1000, 1500, 3000],  # After increasing max features past 3,000, overfitting became an issue. \n",
    "                                              # Training scores would increase but Test scores remained at around .89\n",
    "    'tvec__ngram_range': [(1,1), (1,2), (1,3)],\n",
    "    'tvec__strip_accents': ['ascii', 'unicode', None],   \n",
    "    #'tvec__preprocessor': [split_into_lemmas, None],\n",
    "    'tvec__stop_words':['english', None]\n",
    "}\n",
    "# GridSearchCV4:\n",
    "gs4 = GridSearchCV(pipe4,\n",
    "                  param_grid=pipe4_params,\n",
    "                  n_jobs=-1, \n",
    "                  cv=5)\n",
    "# Fit GridSearch to training data:\n",
    "print('Fitting models. This could take 20+ minutes. Might want to grab coffee...')\n",
    "gs4.fit(X_train, y_train)\n",
    "\n",
    "# Score Model:\n",
    "print('...models fit!')\n",
    "print(f'Training score: {gs4.score(X_train, y_train)}')\n",
    "print(f'Test score    : {gs4.score(X_test, y_test)}')\n",
    "print(f'Best params   : {gs4.best_params_}')"
   ]
  },
  {
   "cell_type": "markdown",
   "metadata": {},
   "source": [
    "### 1D) Support Vector Machine/Classifier (SVC) + Count Vecotrizer:"
   ]
  },
  {
   "cell_type": "code",
   "execution_count": 21,
   "metadata": {},
   "outputs": [
    {
     "name": "stdout",
     "output_type": "stream",
     "text": [
      "Fitting models. This could take 60+ minutes. Might want to grab coffee...\n",
      "...models fit!\n",
      "Training score: 0.828383622396452\n",
      "Test score    : 0.7668092183416488\n",
      "Best params   : {'cvec__max_features': 3000, 'cvec__ngram_range': (1, 1), 'cvec__stop_words': None, 'cvec__strip_accents': 'unicode', 'svc__degree': 2}\n"
     ]
    }
   ],
   "source": [
    "# NOTE: Fitting 540 models, can take 60+ minutes to run.\n",
    "\n",
    "# Pipeline 5:\n",
    "pipe5 = Pipeline([\n",
    "    ('cvec', CountVectorizer()),\n",
    "    ('svc', SVC())\n",
    "])\n",
    "# Parameters:\n",
    "pipe5_params = {\n",
    "    'cvec__max_features': [3000],  # After increasing max features past 3,000, overfitting became an issue. \n",
    "                                              # Training scores would increase but Test scores remained at around .89\n",
    "    'cvec__ngram_range': [(1,1), (2,2)],\n",
    "    'cvec__strip_accents': ['ascii', 'unicode', None],   \n",
    "    #'cvec__preprocessor': [split_into_lemmas, None],\n",
    "    'cvec__stop_words':[None],\n",
    "    'svc__degree': [2]\n",
    "}\n",
    "# GridSearchCV5:\n",
    "gs5 = GridSearchCV(pipe5,\n",
    "                  param_grid=pipe5_params,\n",
    "                  n_jobs=-1, \n",
    "                  cv=5)\n",
    "# Fit GridSearch to training data:\n",
    "print('Fitting models. This could take 60+ minutes. Might want to grab coffee...')\n",
    "gs5.fit(X_train, y_train)  \n",
    "\n",
    "# Score Model:\n",
    "print('...models fit!')\n",
    "print(f'Training score: {gs5.score(X_train, y_train)}')\n",
    "print(f'Test score    : {gs5.score(X_test, y_test)}')\n",
    "print(f'Best params   : {gs5.best_params_}')"
   ]
  },
  {
   "cell_type": "markdown",
   "metadata": {},
   "source": [
    "### 1E) Support Vector Machine/Classifier (SVC) + TF-IDF:"
   ]
  },
  {
   "cell_type": "code",
   "execution_count": 22,
   "metadata": {},
   "outputs": [
    {
     "name": "stdout",
     "output_type": "stream",
     "text": [
      "Fitting models. This could take 20+ minutes. Might want to grab coffee...\n",
      "...models fit!\n",
      "Training score: 0.9510968559436129\n",
      "Test score    : 0.8032786885245902\n",
      "Best params   : {'svc__degree': 2, 'tvec__max_features': 3000, 'tvec__ngram_range': (1, 1), 'tvec__stop_words': None, 'tvec__strip_accents': 'ascii'}\n"
     ]
    }
   ],
   "source": [
    "# NOTE: Fitting 540 models, can take 15+ minutes to run.\n",
    "\n",
    "# Pipeline 6:\n",
    "pipe6 = Pipeline([\n",
    "    ('tvec', TfidfVectorizer()),\n",
    "    ('svc', SVC())\n",
    "])\n",
    "# Parameters:\n",
    "pipe6_params = {\n",
    "    'tvec__max_features': [3000],  # After increasing max features past 3,000, overfitting became an issue. \n",
    "                                              # Training scores would increase but Test scores remained at around .89\n",
    "    'tvec__ngram_range': [(1,1), (2,2)],\n",
    "    'tvec__strip_accents': ['ascii', 'unicode', None],   \n",
    "    #'tvec__preprocessor': [split_into_lemmas, None],\n",
    "    'tvec__stop_words':['english', None],\n",
    "    'svc__degree': [2]\n",
    "}\n",
    "# GridSearchCV6:\n",
    "gs6 = GridSearchCV(pipe6,\n",
    "                  param_grid=pipe6_params,\n",
    "                  n_jobs=-1, \n",
    "                  cv=5)\n",
    "# Fit GridSearch to training data:\n",
    "print('Fitting models. This could take 20+ minutes. Might want to grab coffee...')\n",
    "gs6.fit(X_train, y_train)  \n",
    "\n",
    "# Score Model:\n",
    "print('...models fit!')\n",
    "print(f'Training score: {gs6.score(X_train, y_train)}')\n",
    "print(f'Test score    : {gs6.score(X_test, y_test)}')\n",
    "print(f'Best params   : {gs6.best_params_}')"
   ]
  },
  {
   "cell_type": "markdown",
   "metadata": {},
   "source": [
    "## Model Evaluation:"
   ]
  },
  {
   "cell_type": "code",
   "execution_count": 26,
   "metadata": {},
   "outputs": [
    {
     "data": {
      "image/png": "[encoded data removed]",
      "text/plain": [
       "<Figure size 432x288 with 1 Axes>"
      ]
     },
     "metadata": {
      "needs_background": "light"
     },
     "output_type": "display_data"
    }
   ],
   "source": [
    " # Length of each Comment in Characters:\n",
    "lengths_of_posts = [len(each) for each in X_comments]\n",
    "plt.hist(lengths_of_posts)\n",
    "plt.title('Histogram of Comment Length');"
   ]
  },
  {
   "cell_type": "code",
   "execution_count": 28,
   "metadata": {},
   "outputs": [],
   "source": [
    "# Calculate ROC AUC\n",
    "\n",
    "def roc(probas, true, step=0.01):\n",
    "\n",
    "    probas = probas[:,1]  \n",
    "    true = true.values    \n",
    "    assert(len(probas) == len(true)) \n",
    "    \n",
    "    TPRs = [] \n",
    "    FPRs = [] \n",
    "    \n",
    "    for i in np.arange(0.0,1.0,step): \n",
    "        preds_class = probas > i \n",
    "        TP = 0 \n",
    "        FP = 0\n",
    "        TN = 0\n",
    "        FN = 0\n",
    "        for index in range(len(preds_class)): \n",
    "\n",
    "            if preds_class[index] == 1 and true[index] == 1:\n",
    "                TP += 1\n",
    "            elif preds_class[index] == 1 and true[index] == 0:\n",
    "                FP += 1\n",
    "            elif preds_class[index] == 0 and true[index] == 0:\n",
    "                TN += 1 \n",
    "            elif preds_class[index] == 0 and true[index] == 1:\n",
    "                FN += 1\n",
    "                \n",
    "        TPR = TP/(TP + FN) \n",
    "        FPR = FP/(FP + TN)\n",
    "        \n",
    "        TPRs.append(TPR)\n",
    "        FPRs.append(FPR)\n",
    "         \n",
    "    plt.rcParams['font.size'] = 14\n",
    "    plt.plot(FPRs, TPRs, color=\"orange\")\n",
    "    plt.plot([0,1],[0,1], color='navy', lw=2, linestyle='--')\n",
    "    plt.xlim([0.0, 1.0])\n",
    "    plt.ylim([0.0, 1.0])\n",
    "    plt.title('Receiver Operating Characteristic')\n",
    "    plt.xlabel(\"False Positive Rate (1 - Specificity)\")\n",
    "    plt.ylabel(\"True Positive Rate (Sensitivity)\")\n",
    "    plt.show();\n",
    "    \n",
    "# Code adapted from GA-DC-DSI Lab 4.02"
   ]
  },
  {
   "cell_type": "code",
   "execution_count": 29,
   "metadata": {},
   "outputs": [
    {
     "data": {
      "image/png": "[encoded data removed]",
      "text/plain": [
       "<Figure size 432x288 with 1 Axes>"
      ]
     },
     "metadata": {
      "needs_background": "light"
     },
     "output_type": "display_data"
    }
   ],
   "source": [
    "probabilities = gs2.predict_proba(X_test)\n",
    "\n",
    "roc(probas = probabilities, true = y_test, step=0.001);   "
   ]
  },
  {
   "cell_type": "code",
   "execution_count": 31,
   "metadata": {},
   "outputs": [
    {
     "data": {
      "text/plain": [
       "(8418,)"
      ]
     },
     "execution_count": 31,
     "metadata": {},
     "output_type": "execute_result"
    }
   ],
   "source": [
    "# Calculate predictions for AUC score\n",
    "\n",
    "preds=gs2.predict(X_test)\n",
    "preds.shape"
   ]
  },
  {
   "cell_type": "code",
   "execution_count": 32,
   "metadata": {},
   "outputs": [
    {
     "data": {
      "text/plain": [
       "0.8066560725762928"
      ]
     },
     "execution_count": 32,
     "metadata": {},
     "output_type": "execute_result"
    }
   ],
   "source": [
    "# AUC SCORE:\n",
    "auc = roc_auc_score(y_test, preds)\n",
    "auc"
   ]
  },
  {
   "cell_type": "code",
   "execution_count": 34,
   "metadata": {},
   "outputs": [
    {
     "data": {
      "text/html": [
       "<div>\n",
       "<style scoped>\n",
       "    .dataframe tbody tr th:only-of-type {\n",
       "        vertical-align: middle;\n",
       "    }\n",
       "\n",
       "    .dataframe tbody tr th {\n",
       "        vertical-align: top;\n",
       "    }\n",
       "\n",
       "    .dataframe thead th {\n",
       "        text-align: right;\n",
       "    }\n",
       "</style>\n",
       "<table border=\"1\" class=\"dataframe\">\n",
       "  <thead>\n",
       "    <tr style=\"text-align: right;\">\n",
       "      <th></th>\n",
       "      <th>000</th>\n",
       "      <th>01</th>\n",
       "      <th>02</th>\n",
       "      <th>020</th>\n",
       "      <th>03</th>\n",
       "      <th>04</th>\n",
       "      <th>05</th>\n",
       "      <th>06</th>\n",
       "      <th>07</th>\n",
       "      <th>08</th>\n",
       "      <th>...</th>\n",
       "      <th>youtube</th>\n",
       "      <th>youve</th>\n",
       "      <th>yt</th>\n",
       "      <th>yup</th>\n",
       "      <th>zealand</th>\n",
       "      <th>zero</th>\n",
       "      <th>zika</th>\n",
       "      <th>zinc</th>\n",
       "      <th>zoom</th>\n",
       "      <th>zoonotic</th>\n",
       "    </tr>\n",
       "  </thead>\n",
       "  <tbody>\n",
       "    <tr>\n",
       "      <th>0</th>\n",
       "      <td>-0.794506</td>\n",
       "      <td>-0.055876</td>\n",
       "      <td>-0.055957</td>\n",
       "      <td>1.922747</td>\n",
       "      <td>-0.164186</td>\n",
       "      <td>1.867616</td>\n",
       "      <td>0.503959</td>\n",
       "      <td>-0.267817</td>\n",
       "      <td>-0.760215</td>\n",
       "      <td>-0.174107</td>\n",
       "      <td>...</td>\n",
       "      <td>-1.997243</td>\n",
       "      <td>-0.325166</td>\n",
       "      <td>-0.403717</td>\n",
       "      <td>-0.598703</td>\n",
       "      <td>-0.379148</td>\n",
       "      <td>0.308937</td>\n",
       "      <td>0.170332</td>\n",
       "      <td>0.67545</td>\n",
       "      <td>-1.453533</td>\n",
       "      <td>0.918517</td>\n",
       "    </tr>\n",
       "  </tbody>\n",
       "</table>\n",
       "<p>1 rows × 5000 columns</p>\n",
       "</div>"
      ],
      "text/plain": [
       "        000        01        02       020        03        04        05  \\\n",
       "0 -0.794506 -0.055876 -0.055957  1.922747 -0.164186  1.867616  0.503959   \n",
       "\n",
       "         06        07        08  ...   youtube     youve        yt       yup  \\\n",
       "0 -0.267817 -0.760215 -0.174107  ... -1.997243 -0.325166 -0.403717 -0.598703   \n",
       "\n",
       "    zealand      zero      zika     zinc      zoom  zoonotic  \n",
       "0 -0.379148  0.308937  0.170332  0.67545 -1.453533  0.918517  \n",
       "\n",
       "[1 rows x 5000 columns]"
      ]
     },
     "execution_count": 34,
     "metadata": {},
     "output_type": "execute_result"
    }
   ],
   "source": [
    "# Generate Coeffs mapped to words:\n",
    "\n",
    "coefs = gs2.best_estimator_.named_steps.lr.coef_  \n",
    "\n",
    "log_coefs = pd.DataFrame(gs2.best_estimator_.named_steps.lr.coef_ , \n",
    "                        columns=gs2.best_estimator_.named_steps.tvec.get_feature_names())\n",
    "\n",
    "log_coefs"
   ]
  },
  {
   "cell_type": "code",
   "execution_count": 40,
   "metadata": {},
   "outputs": [
    {
     "data": {
      "text/html": [
       "<div>\n",
       "<style scoped>\n",
       "    .dataframe tbody tr th:only-of-type {\n",
       "        vertical-align: middle;\n",
       "    }\n",
       "\n",
       "    .dataframe tbody tr th {\n",
       "        vertical-align: top;\n",
       "    }\n",
       "\n",
       "    .dataframe thead th {\n",
       "        text-align: right;\n",
       "    }\n",
       "</style>\n",
       "<table border=\"1\" class=\"dataframe\">\n",
       "  <thead>\n",
       "    <tr style=\"text-align: right;\">\n",
       "      <th></th>\n",
       "      <th>0</th>\n",
       "    </tr>\n",
       "  </thead>\n",
       "  <tbody>\n",
       "    <tr>\n",
       "      <th>circumcision</th>\n",
       "      <td>9.814152</td>\n",
       "    </tr>\n",
       "    <tr>\n",
       "      <th>circumcised</th>\n",
       "      <td>9.136428</td>\n",
       "    </tr>\n",
       "    <tr>\n",
       "      <th>foreskin</th>\n",
       "      <td>6.781892</td>\n",
       "    </tr>\n",
       "    <tr>\n",
       "      <th>bats</th>\n",
       "      <td>6.641771</td>\n",
       "    </tr>\n",
       "    <tr>\n",
       "      <th>penis</th>\n",
       "      <td>6.560423</td>\n",
       "    </tr>\n",
       "    <tr>\n",
       "      <th>study</th>\n",
       "      <td>5.747704</td>\n",
       "    </tr>\n",
       "    <tr>\n",
       "      <th>quantum</th>\n",
       "      <td>5.587275</td>\n",
       "    </tr>\n",
       "    <tr>\n",
       "      <th>science</th>\n",
       "      <td>5.326827</td>\n",
       "    </tr>\n",
       "    <tr>\n",
       "      <th>coal</th>\n",
       "      <td>5.092386</td>\n",
       "    </tr>\n",
       "    <tr>\n",
       "      <th>wife</th>\n",
       "      <td>5.060684</td>\n",
       "    </tr>\n",
       "  </tbody>\n",
       "</table>\n",
       "</div>"
      ],
      "text/plain": [
       "                     0\n",
       "circumcision  9.814152\n",
       "circumcised   9.136428\n",
       "foreskin      6.781892\n",
       "bats          6.641771\n",
       "penis         6.560423\n",
       "study         5.747704\n",
       "quantum       5.587275\n",
       "science       5.326827\n",
       "coal          5.092386\n",
       "wife          5.060684"
      ]
     },
     "execution_count": 40,
     "metadata": {},
     "output_type": "execute_result"
    }
   ],
   "source": [
    "top10_coef = log_coefs.T.sort_values(0, ascending=False).head(10)\n",
    "top10_coef"
   ]
  },
  {
   "cell_type": "code",
   "execution_count": 41,
   "metadata": {},
   "outputs": [
    {
     "data": {
      "text/html": [
       "<div>\n",
       "<style scoped>\n",
       "    .dataframe tbody tr th:only-of-type {\n",
       "        vertical-align: middle;\n",
       "    }\n",
       "\n",
       "    .dataframe tbody tr th {\n",
       "        vertical-align: top;\n",
       "    }\n",
       "\n",
       "    .dataframe thead th {\n",
       "        text-align: right;\n",
       "    }\n",
       "</style>\n",
       "<table border=\"1\" class=\"dataframe\">\n",
       "  <thead>\n",
       "    <tr style=\"text-align: right;\">\n",
       "      <th></th>\n",
       "      <th>0</th>\n",
       "    </tr>\n",
       "  </thead>\n",
       "  <tbody>\n",
       "    <tr>\n",
       "      <th>toilet</th>\n",
       "      <td>-3.918498</td>\n",
       "    </tr>\n",
       "    <tr>\n",
       "      <th>fake</th>\n",
       "      <td>-3.954755</td>\n",
       "    </tr>\n",
       "    <tr>\n",
       "      <th>jesus</th>\n",
       "      <td>-4.194364</td>\n",
       "    </tr>\n",
       "    <tr>\n",
       "      <th>martial</th>\n",
       "      <td>-4.194940</td>\n",
       "    </tr>\n",
       "    <tr>\n",
       "      <th>adrenochrome</th>\n",
       "      <td>-4.275525</td>\n",
       "    </tr>\n",
       "    <tr>\n",
       "      <th>epstein</th>\n",
       "      <td>-4.446575</td>\n",
       "    </tr>\n",
       "    <tr>\n",
       "      <th>lol</th>\n",
       "      <td>-5.194083</td>\n",
       "    </tr>\n",
       "    <tr>\n",
       "      <th>shit</th>\n",
       "      <td>-6.004640</td>\n",
       "    </tr>\n",
       "    <tr>\n",
       "      <th>conspiracy</th>\n",
       "      <td>-8.401395</td>\n",
       "    </tr>\n",
       "    <tr>\n",
       "      <th>5g</th>\n",
       "      <td>-8.436728</td>\n",
       "    </tr>\n",
       "  </tbody>\n",
       "</table>\n",
       "</div>"
      ],
      "text/plain": [
       "                     0\n",
       "toilet       -3.918498\n",
       "fake         -3.954755\n",
       "jesus        -4.194364\n",
       "martial      -4.194940\n",
       "adrenochrome -4.275525\n",
       "epstein      -4.446575\n",
       "lol          -5.194083\n",
       "shit         -6.004640\n",
       "conspiracy   -8.401395\n",
       "5g           -8.436728"
      ]
     },
     "execution_count": 41,
     "metadata": {},
     "output_type": "execute_result"
    }
   ],
   "source": [
    "bottom10_coef = log_coefs.T.sort_values(0, ascending=False).tail(10)\n",
    "bottom10_coef"
   ]
  },
  {
   "cell_type": "code",
   "execution_count": 42,
   "metadata": {},
   "outputs": [
    {
     "data": {
      "text/html": [
       "<div>\n",
       "<style scoped>\n",
       "    .dataframe tbody tr th:only-of-type {\n",
       "        vertical-align: middle;\n",
       "    }\n",
       "\n",
       "    .dataframe tbody tr th {\n",
       "        vertical-align: top;\n",
       "    }\n",
       "\n",
       "    .dataframe thead th {\n",
       "        text-align: right;\n",
       "    }\n",
       "</style>\n",
       "<table border=\"1\" class=\"dataframe\">\n",
       "  <thead>\n",
       "    <tr style=\"text-align: right;\">\n",
       "      <th></th>\n",
       "      <th>0</th>\n",
       "    </tr>\n",
       "  </thead>\n",
       "  <tbody>\n",
       "    <tr>\n",
       "      <th>toilet</th>\n",
       "      <td>-3.918498</td>\n",
       "    </tr>\n",
       "    <tr>\n",
       "      <th>fake</th>\n",
       "      <td>-3.954755</td>\n",
       "    </tr>\n",
       "    <tr>\n",
       "      <th>jesus</th>\n",
       "      <td>-4.194364</td>\n",
       "    </tr>\n",
       "    <tr>\n",
       "      <th>martial</th>\n",
       "      <td>-4.194940</td>\n",
       "    </tr>\n",
       "    <tr>\n",
       "      <th>adrenochrome</th>\n",
       "      <td>-4.275525</td>\n",
       "    </tr>\n",
       "    <tr>\n",
       "      <th>epstein</th>\n",
       "      <td>-4.446575</td>\n",
       "    </tr>\n",
       "    <tr>\n",
       "      <th>lol</th>\n",
       "      <td>-5.194083</td>\n",
       "    </tr>\n",
       "    <tr>\n",
       "      <th>shit</th>\n",
       "      <td>-6.004640</td>\n",
       "    </tr>\n",
       "    <tr>\n",
       "      <th>conspiracy</th>\n",
       "      <td>-8.401395</td>\n",
       "    </tr>\n",
       "    <tr>\n",
       "      <th>5g</th>\n",
       "      <td>-8.436728</td>\n",
       "    </tr>\n",
       "    <tr>\n",
       "      <th>circumcision</th>\n",
       "      <td>9.814152</td>\n",
       "    </tr>\n",
       "    <tr>\n",
       "      <th>circumcised</th>\n",
       "      <td>9.136428</td>\n",
       "    </tr>\n",
       "    <tr>\n",
       "      <th>foreskin</th>\n",
       "      <td>6.781892</td>\n",
       "    </tr>\n",
       "    <tr>\n",
       "      <th>bats</th>\n",
       "      <td>6.641771</td>\n",
       "    </tr>\n",
       "    <tr>\n",
       "      <th>penis</th>\n",
       "      <td>6.560423</td>\n",
       "    </tr>\n",
       "    <tr>\n",
       "      <th>study</th>\n",
       "      <td>5.747704</td>\n",
       "    </tr>\n",
       "    <tr>\n",
       "      <th>quantum</th>\n",
       "      <td>5.587275</td>\n",
       "    </tr>\n",
       "    <tr>\n",
       "      <th>science</th>\n",
       "      <td>5.326827</td>\n",
       "    </tr>\n",
       "    <tr>\n",
       "      <th>coal</th>\n",
       "      <td>5.092386</td>\n",
       "    </tr>\n",
       "    <tr>\n",
       "      <th>wife</th>\n",
       "      <td>5.060684</td>\n",
       "    </tr>\n",
       "  </tbody>\n",
       "</table>\n",
       "</div>"
      ],
      "text/plain": [
       "                     0\n",
       "toilet       -3.918498\n",
       "fake         -3.954755\n",
       "jesus        -4.194364\n",
       "martial      -4.194940\n",
       "adrenochrome -4.275525\n",
       "epstein      -4.446575\n",
       "lol          -5.194083\n",
       "shit         -6.004640\n",
       "conspiracy   -8.401395\n",
       "5g           -8.436728\n",
       "circumcision  9.814152\n",
       "circumcised   9.136428\n",
       "foreskin      6.781892\n",
       "bats          6.641771\n",
       "penis         6.560423\n",
       "study         5.747704\n",
       "quantum       5.587275\n",
       "science       5.326827\n",
       "coal          5.092386\n",
       "wife          5.060684"
      ]
     },
     "execution_count": 42,
     "metadata": {},
     "output_type": "execute_result"
    }
   ],
   "source": [
    "# Append Data:\n",
    "\n",
    "df = bottom10_coef.append(top10_coef)\n",
    "df = pd.DataFrame(df)\n",
    "df"
   ]
  },
  {
   "cell_type": "code",
   "execution_count": 76,
   "metadata": {},
   "outputs": [
    {
     "data": {
      "image/png": "[encoded data removed]",
      "text/plain": [
       "<Figure size 576x720 with 1 Axes>"
      ]
     },
     "metadata": {},
     "output_type": "display_data"
    }
   ],
   "source": [
    "# Generate plot of strongest predictors of membership on coefficient:\n",
    "\n",
    "sns.set(font_scale=2)\n",
    "plt.figure(figsize=(8, 10))\n",
    "ax4 = sns.barplot(data=df, \n",
    "                  x=0, \n",
    "                  y = df.index,\n",
    "                \n",
    "                  palette = 'coolwarm_r',\n",
    "                 )\n",
    "ax4.set(xlabel='Coeff', ylabel='Word', title='Strongest Predictors of Membership for Comments')\n",
    "plt.show()"
   ]
  },
  {
   "cell_type": "code",
   "execution_count": null,
   "metadata": {},
   "outputs": [],
   "source": []
  }
 ],
 "metadata": {
  "kernelspec": {
   "display_name": "Python 3",
   "language": "python",
   "name": "python3"
  },
  "language_info": {
   "codemirror_mode": {
    "name": "ipython",
    "version": 3
   },
   "file_extension": ".py",
   "mimetype": "text/x-python",
   "name": "python",
   "nbconvert_exporter": "python",
   "pygments_lexer": "ipython3",
   "version": "3.7.6"
  }
 },
 "nbformat": 4,
 "nbformat_minor": 4
}
