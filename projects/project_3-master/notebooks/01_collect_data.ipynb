{
 "cells": [
  {
   "cell_type": "markdown",
   "metadata": {},
   "source": [
    "## Identify and Collect Data:"
   ]
  },
  {
   "cell_type": "markdown",
   "metadata": {},
   "source": [
    "### Gathering and Classifying r/conspiracytheories vs r/science:"
   ]
  },
  {
   "cell_type": "markdown",
   "metadata": {},
   "source": [
    "#### The below lines import the necessary libraries, define the Pushshift API URL, gather Reddit posts in 1000-document iterations as dataframes, and write the gathered dataframes to a CSV."
   ]
  },
  {
   "cell_type": "code",
   "execution_count": 1,
   "metadata": {},
   "outputs": [],
   "source": [
    "# Import Libraries:\n",
    "\n",
    "import requests\n",
    "import pandas as pd"
   ]
  },
  {
   "cell_type": "code",
   "execution_count": 2,
   "metadata": {},
   "outputs": [],
   "source": [
    "# Set up API URL:\n",
    "\n",
    "base_url = 'https://api.pushshift.io/reddit/search/submission?subreddit='"
   ]
  },
  {
   "cell_type": "code",
   "execution_count": 13,
   "metadata": {},
   "outputs": [],
   "source": [
    "# Define function to gather 1000 posts from desired Reddit subthread and write to CSV:\n",
    "\n",
    "# Pass parameters for subreddit thread name and number of 1k iterations to perform:\n",
    "def get_comments(subreddit, n_iter):\n",
    "    # Instantiate dataframe list:\n",
    "    df_list = []\n",
    "    # Set current time as reference:\n",
    "    current_time = 1587081440\n",
    "    \n",
    "    for _ in range(n_iter):\n",
    "        res = requests.get(\n",
    "            base_url,\n",
    "            # Before uses above current_time to taking \n",
    "            # the minimum time from each pull and then \n",
    "            # retrieve another 1000 posts back per iteration:\n",
    "            params={\n",
    "                \"subreddit\": subreddit,\n",
    "                \"size\": 1000,\n",
    "                \"lang\": True,\n",
    "                \"before\": current_time\n",
    "            })\n",
    "        df = pd.DataFrame(res.json()['data'])\n",
    "        df = df.loc[:, ['created_utc', 'subreddit','selftext','title']]\n",
    "        df_list.append(df)\n",
    "        current_time = df.created_utc.min()\n",
    "    # Write csv to data folder, match subreddit thread to csv title:    \n",
    "    return pd.concat(df_list, axis=0).to_csv('../data/science_pull.csv')\n",
    "\n",
    "# Code adapted from GA DSI Office Hours with Tim Book."
   ]
  },
  {
   "cell_type": "code",
   "execution_count": 14,
   "metadata": {},
   "outputs": [],
   "source": [
    "# Run function defining subreddit thread name and the number of 1000-document iterations to perform:\n",
    "\n",
    "get_comments('science',12)"
   ]
  }
 ],
 "metadata": {
  "kernelspec": {
   "display_name": "Python 3",
   "language": "python",
   "name": "python3"
  },
  "language_info": {
   "codemirror_mode": {
    "name": "ipython",
    "version": 3
   },
   "file_extension": ".py",
   "mimetype": "text/x-python",
   "name": "python",
   "nbconvert_exporter": "python",
   "pygments_lexer": "ipython3",
   "version": "3.7.6"
  }
 },
 "nbformat": 4,
 "nbformat_minor": 4
}
