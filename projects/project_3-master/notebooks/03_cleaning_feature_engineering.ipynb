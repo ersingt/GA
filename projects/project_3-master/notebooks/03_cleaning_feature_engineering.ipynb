{
 "cells": [
  {
   "cell_type": "markdown",
   "metadata": {},
   "source": [
    "# Cleaning and Feature Engingeering:"
   ]
  },
  {
   "cell_type": "markdown",
   "metadata": {},
   "source": [
    "This section is focused on merging and cleaning the Submissions and Comments datasets, dropping unnecessary data, generating binary indicator variables, checking for duplicate values, and merging the r/conspiracytheories and r/science data into single Submission and Comment CSVs for modeling."
   ]
  },
  {
   "cell_type": "markdown",
   "metadata": {},
   "source": [
    "## Subreddit Submissions: "
   ]
  },
  {
   "cell_type": "code",
   "execution_count": 390,
   "metadata": {},
   "outputs": [],
   "source": [
    "# Import Libraries:\n",
    "\n",
    "import pandas as pd\n",
    "from sklearn.feature_extraction.text import CountVectorizer\n",
    "import plotly as iplot\n",
    "from nltk.stem import WordNetLemmatizer\n",
    "import matplotlib.pyplot as plt\n",
    "import seaborn as sns"
   ]
  },
  {
   "cell_type": "code",
   "execution_count": 319,
   "metadata": {},
   "outputs": [],
   "source": [
    "# Read in data:\n",
    "\n",
    "conspire = pd.read_csv('../data/conspire_pull_submissions.csv')\n",
    "science = pd.read_csv('../data/science_pull_submissions.csv')"
   ]
  },
  {
   "cell_type": "code",
   "execution_count": 320,
   "metadata": {},
   "outputs": [],
   "source": [
    "# Merge into single dataframe :\n",
    "\n",
    "df_subs = conspire.append(science)"
   ]
  },
  {
   "cell_type": "code",
   "execution_count": 321,
   "metadata": {},
   "outputs": [
    {
     "data": {
      "text/plain": [
       "(24000, 5)"
      ]
     },
     "execution_count": 321,
     "metadata": {},
     "output_type": "execute_result"
    }
   ],
   "source": [
    "df_subs.shape"
   ]
  },
  {
   "cell_type": "code",
   "execution_count": 322,
   "metadata": {},
   "outputs": [
    {
     "data": {
      "text/html": [
       "<div>\n",
       "<style scoped>\n",
       "    .dataframe tbody tr th:only-of-type {\n",
       "        vertical-align: middle;\n",
       "    }\n",
       "\n",
       "    .dataframe tbody tr th {\n",
       "        vertical-align: top;\n",
       "    }\n",
       "\n",
       "    .dataframe thead th {\n",
       "        text-align: right;\n",
       "    }\n",
       "</style>\n",
       "<table border=\"1\" class=\"dataframe\">\n",
       "  <thead>\n",
       "    <tr style=\"text-align: right;\">\n",
       "      <th></th>\n",
       "      <th>Unnamed: 0</th>\n",
       "      <th>created_utc</th>\n",
       "      <th>subreddit</th>\n",
       "      <th>selftext</th>\n",
       "      <th>title</th>\n",
       "    </tr>\n",
       "  </thead>\n",
       "  <tbody>\n",
       "    <tr>\n",
       "      <th>0</th>\n",
       "      <td>0</td>\n",
       "      <td>1587078122</td>\n",
       "      <td>conspiracytheories</td>\n",
       "      <td>Who else has noticed how the baby is being hit...</td>\n",
       "      <td>The coronavirus</td>\n",
       "    </tr>\n",
       "    <tr>\n",
       "      <th>1</th>\n",
       "      <td>1</td>\n",
       "      <td>1587076875</td>\n",
       "      <td>conspiracytheories</td>\n",
       "      <td>We are all pawns in this political game. Relea...</td>\n",
       "      <td>COVID-19 Power, Control, and Profit!</td>\n",
       "    </tr>\n",
       "    <tr>\n",
       "      <th>2</th>\n",
       "      <td>2</td>\n",
       "      <td>1587075153</td>\n",
       "      <td>conspiracytheories</td>\n",
       "      <td>NaN</td>\n",
       "      <td>Dr. Andrew Kaufman disputes COVID19</td>\n",
       "    </tr>\n",
       "    <tr>\n",
       "      <th>3</th>\n",
       "      <td>3</td>\n",
       "      <td>1587074999</td>\n",
       "      <td>conspiracytheories</td>\n",
       "      <td>[removed]</td>\n",
       "      <td>Do someone remember an suppost radio transmiss...</td>\n",
       "    </tr>\n",
       "    <tr>\n",
       "      <th>4</th>\n",
       "      <td>4</td>\n",
       "      <td>1587074240</td>\n",
       "      <td>conspiracytheories</td>\n",
       "      <td>Hey frendos, \\n\\nSomeone close to me has asser...</td>\n",
       "      <td>Question: Bill Gates Malaria Vaccine Mutates A...</td>\n",
       "    </tr>\n",
       "  </tbody>\n",
       "</table>\n",
       "</div>"
      ],
      "text/plain": [
       "   Unnamed: 0  created_utc           subreddit  \\\n",
       "0           0   1587078122  conspiracytheories   \n",
       "1           1   1587076875  conspiracytheories   \n",
       "2           2   1587075153  conspiracytheories   \n",
       "3           3   1587074999  conspiracytheories   \n",
       "4           4   1587074240  conspiracytheories   \n",
       "\n",
       "                                            selftext  \\\n",
       "0  Who else has noticed how the baby is being hit...   \n",
       "1  We are all pawns in this political game. Relea...   \n",
       "2                                                NaN   \n",
       "3                                          [removed]   \n",
       "4  Hey frendos, \\n\\nSomeone close to me has asser...   \n",
       "\n",
       "                                               title  \n",
       "0                                    The coronavirus  \n",
       "1               COVID-19 Power, Control, and Profit!  \n",
       "2                Dr. Andrew Kaufman disputes COVID19  \n",
       "3  Do someone remember an suppost radio transmiss...  \n",
       "4  Question: Bill Gates Malaria Vaccine Mutates A...  "
      ]
     },
     "execution_count": 322,
     "metadata": {},
     "output_type": "execute_result"
    }
   ],
   "source": [
    "df_subs.head()"
   ]
  },
  {
   "cell_type": "code",
   "execution_count": 323,
   "metadata": {},
   "outputs": [],
   "source": [
    "# Drop Unnamed: 0 column:\n",
    "\n",
    "df_subs = df_subs.drop(columns='Unnamed: 0')"
   ]
  },
  {
   "cell_type": "code",
   "execution_count": 324,
   "metadata": {},
   "outputs": [],
   "source": [
    "# Drop 'selftext' column due to high volumne of missing values:\n",
    "\n",
    "df_subs = df_subs.drop(columns='selftext')"
   ]
  },
  {
   "cell_type": "markdown",
   "metadata": {},
   "source": [
    "### Generate Indicator Variable for Subreddit Source (Submissions):"
   ]
  },
  {
   "cell_type": "code",
   "execution_count": 325,
   "metadata": {},
   "outputs": [],
   "source": [
    "# Map Conspiracy Theory Subreddit to 0, Science to 1:\n",
    "\n",
    "df_subs['subreddit'] = df_subs['subreddit'].map({'conspiracytheories': 0,'science': 1})"
   ]
  },
  {
   "cell_type": "markdown",
   "metadata": {},
   "source": [
    "## Clean Subreddit Comments: "
   ]
  },
  {
   "cell_type": "code",
   "execution_count": 326,
   "metadata": {},
   "outputs": [],
   "source": [
    "# Read in data:\n",
    "\n",
    "conspire_comments = pd.read_csv('../data/conspire_pull_comments.csv')\n",
    "science_comments = pd.read_csv('../data/science_pull_comments.csv')"
   ]
  },
  {
   "cell_type": "code",
   "execution_count": 327,
   "metadata": {},
   "outputs": [],
   "source": [
    "# Merge into single dataframe:\n",
    "\n",
    "df_comments = conspire_comments.append(science_comments)"
   ]
  },
  {
   "cell_type": "code",
   "execution_count": 328,
   "metadata": {},
   "outputs": [],
   "source": [
    "# Drop Unnamed: 0 column:\n",
    "\n",
    "df_comments = df_comments.drop(columns='Unnamed: 0')"
   ]
  },
  {
   "cell_type": "markdown",
   "metadata": {},
   "source": [
    "### Generate Indicator Variable for Subreddit Source (Comments):"
   ]
  },
  {
   "cell_type": "code",
   "execution_count": 329,
   "metadata": {},
   "outputs": [],
   "source": [
    "# Map Conspiracy Theory Subreddit to 0, Science to 1:\n",
    "\n",
    "df_comments['subreddit'] = df_comments['subreddit'].map({'conspiracytheories': 0,'science': 1})"
   ]
  },
  {
   "cell_type": "code",
   "execution_count": 330,
   "metadata": {},
   "outputs": [
    {
     "data": {
      "text/plain": [
       "(50000, 3)"
      ]
     },
     "execution_count": 330,
     "metadata": {},
     "output_type": "execute_result"
    }
   ],
   "source": [
    "df_comments.shape"
   ]
  },
  {
   "cell_type": "code",
   "execution_count": 331,
   "metadata": {},
   "outputs": [
    {
     "data": {
      "text/html": [
       "<div>\n",
       "<style scoped>\n",
       "    .dataframe tbody tr th:only-of-type {\n",
       "        vertical-align: middle;\n",
       "    }\n",
       "\n",
       "    .dataframe tbody tr th {\n",
       "        vertical-align: top;\n",
       "    }\n",
       "\n",
       "    .dataframe thead th {\n",
       "        text-align: right;\n",
       "    }\n",
       "</style>\n",
       "<table border=\"1\" class=\"dataframe\">\n",
       "  <thead>\n",
       "    <tr style=\"text-align: right;\">\n",
       "      <th></th>\n",
       "      <th>created_utc</th>\n",
       "      <th>subreddit</th>\n",
       "      <th>body</th>\n",
       "    </tr>\n",
       "  </thead>\n",
       "  <tbody>\n",
       "    <tr>\n",
       "      <th>0</th>\n",
       "      <td>1587081288</td>\n",
       "      <td>0</td>\n",
       "      <td>Trump was part of Epstein's ring too, he's the...</td>\n",
       "    </tr>\n",
       "    <tr>\n",
       "      <th>1</th>\n",
       "      <td>1587081284</td>\n",
       "      <td>0</td>\n",
       "      <td>If china was going to cripple us with a virus ...</td>\n",
       "    </tr>\n",
       "    <tr>\n",
       "      <th>2</th>\n",
       "      <td>1587081205</td>\n",
       "      <td>0</td>\n",
       "      <td>Damn...exactly</td>\n",
       "    </tr>\n",
       "    <tr>\n",
       "      <th>3</th>\n",
       "      <td>1587081197</td>\n",
       "      <td>0</td>\n",
       "      <td>Only if you’re not going to explain what you t...</td>\n",
       "    </tr>\n",
       "    <tr>\n",
       "      <th>4</th>\n",
       "      <td>1587081171</td>\n",
       "      <td>0</td>\n",
       "      <td>The pollution levels have gone down because we...</td>\n",
       "    </tr>\n",
       "  </tbody>\n",
       "</table>\n",
       "</div>"
      ],
      "text/plain": [
       "   created_utc  subreddit                                               body\n",
       "0   1587081288          0  Trump was part of Epstein's ring too, he's the...\n",
       "1   1587081284          0  If china was going to cripple us with a virus ...\n",
       "2   1587081205          0                                     Damn...exactly\n",
       "3   1587081197          0  Only if you’re not going to explain what you t...\n",
       "4   1587081171          0  The pollution levels have gone down because we..."
      ]
     },
     "execution_count": 331,
     "metadata": {},
     "output_type": "execute_result"
    }
   ],
   "source": [
    "df_comments.head()"
   ]
  },
  {
   "cell_type": "code",
   "execution_count": 332,
   "metadata": {},
   "outputs": [
    {
     "data": {
      "text/plain": [
       "[removed]                                                                                                                                                                                                                                                                                                                                                                                                                                                                                                                                                                                         8099\n",
       "[deleted]                                                                                                                                                                                                                                                                                                                                                                                                                                                                                                                                                                                          492\n",
       "Welcome to r/science! Our team of 1,500+ moderators will remove comments if they are jokes, anecdotes, memes, off-topic or medical advice ([rules](https://www.reddit.com/r/science/wiki/rules#wiki_comment_rules)). We encourage respectful discussion about the science of the post.                                                                                                                                                                                                                                                                                                             147\n",
       "/r/conspiracytheories does not allow user pages, unless it's a subreddit moderator or approved bots.  This prevents drama spillage here by removing user pages.  The quickest way to resolve this is to delete your comment and repost it withouth preceeding /u/ or u/ in username.  If this is a mistake, please [contact the moderators](/message/compose?to=%2Fr%2Fconspiracytheories).\\n\\n*I am a bot, and this action was performed automatically. Please [contact the moderators of this subreddit](/message/compose/?to=/r/conspiracytheories) if you have any questions or concerns.*      49\n",
       "Your submission has been automatically removed because it violates our [headline rules](https://www.reddit.com/r/science/wiki/clickbait). Please consider reposting with a more appropriate title.\\n\\n*I am a bot, and this action was performed automatically. Please [contact the moderators of this subreddit](/message/compose/?to=/r/science) if you have any questions or concerns.*                                                                                                                                                                                                          44\n",
       "                                                                                                                                                                                                                                                                                                                                                                                                                                                                                                                                                                                                  ... \n",
       "An aspirin a day keeps the cancer at bay 🤷‍♀️                                                                                                                                                                                                                                                                                                                                                                                                                                                                                                                                                        1\n",
       "my date is day then month                                                                                                                                                                                                                                                                                                                                                                                                                                                                                                                                                                            1\n",
       "That’s why I said!                                                                                                                                                                                                                                                                                                                                                                                                                                                                                                                                                                                   1\n",
       "Difference between them and you is...they aren’t trying to make baseless claims in order to scare People                                                                                                                                                                                                                                                                                                                                                                                                                                                                                             1\n",
       "Removing only the clitoral hood would be directly analogous.\\n\\nIn fact, the penis and the vagina/vulva develop from the same tissues in the fetus. The tissues that form the foreskin form the clitoral hood, and the tissues that form the clitoris form the head (glans) of the penis.                                                                                                                                                                                                                                                                                                            1\n",
       "Name: body, Length: 40320, dtype: int64"
      ]
     },
     "execution_count": 332,
     "metadata": {},
     "output_type": "execute_result"
    }
   ],
   "source": [
    "df_comments['body'].value_counts()\n",
    "\n",
    "# Comments that have been removed and deleted will be dropped.\n",
    "# There are some bot posts that may require later attention, \n",
    "# but ~200 among ~33,000 is probably acceptable."
   ]
  },
  {
   "cell_type": "code",
   "execution_count": 333,
   "metadata": {},
   "outputs": [],
   "source": [
    "# Drop '[removed]' comments:\n",
    "\n",
    "df_comments = df_comments.drop(df_comments[df_comments.body == '[removed]'].index)"
   ]
  },
  {
   "cell_type": "code",
   "execution_count": 334,
   "metadata": {},
   "outputs": [],
   "source": [
    "# Drop '[deleted]' comments:\n",
    "\n",
    "df_comments = df_comments.drop(df_comments[df_comments.body == '[deleted]'].index)"
   ]
  },
  {
   "cell_type": "code",
   "execution_count": 335,
   "metadata": {},
   "outputs": [
    {
     "data": {
      "text/plain": [
       "(33672, 3)"
      ]
     },
     "execution_count": 335,
     "metadata": {},
     "output_type": "execute_result"
    }
   ],
   "source": [
    "# Remaining comments:\n",
    "\n",
    "df_comments.shape"
   ]
  },
  {
   "cell_type": "markdown",
   "metadata": {},
   "source": [
    "## Drop Duplicates:"
   ]
  },
  {
   "cell_type": "code",
   "execution_count": 336,
   "metadata": {},
   "outputs": [
    {
     "data": {
      "text/plain": [
       "<bound method DataFrame.drop_duplicates of        created_utc  subreddit  \\\n",
       "0       1587081288          0   \n",
       "1       1587081284          0   \n",
       "2       1587081205          0   \n",
       "3       1587081197          0   \n",
       "4       1587081171          0   \n",
       "...            ...        ...   \n",
       "24993   1586655714          1   \n",
       "24994   1586655692          1   \n",
       "24996   1586655495          1   \n",
       "24997   1586655476          1   \n",
       "24999   1586655417          1   \n",
       "\n",
       "                                                    body  \n",
       "0      Trump was part of Epstein's ring too, he's the...  \n",
       "1      If china was going to cripple us with a virus ...  \n",
       "2                                         Damn...exactly  \n",
       "3      Only if you’re not going to explain what you t...  \n",
       "4      The pollution levels have gone down because we...  \n",
       "...                                                  ...  \n",
       "24993  Okay, I know how anti-intellectual this is gon...  \n",
       "24994  I think it is awesome, and I make sure to cook...  \n",
       "24996  Bad science journalism strikes again. [Here's ...  \n",
       "24997  When my now husband and I were getting serious...  \n",
       "24999  Does anyone know how to get a better look at t...  \n",
       "\n",
       "[33672 rows x 3 columns]>"
      ]
     },
     "execution_count": 336,
     "metadata": {},
     "output_type": "execute_result"
    }
   ],
   "source": [
    "# Drop duplicates from comments:\n",
    "\n",
    "df_comments.drop_duplicates"
   ]
  },
  {
   "cell_type": "code",
   "execution_count": 337,
   "metadata": {},
   "outputs": [
    {
     "data": {
      "text/plain": [
       "<bound method DataFrame.drop_duplicates of        created_utc  subreddit  \\\n",
       "0       1587078122          0   \n",
       "1       1587076875          0   \n",
       "2       1587075153          0   \n",
       "3       1587074999          0   \n",
       "4       1587074240          0   \n",
       "...            ...        ...   \n",
       "11995   1576775249          1   \n",
       "11996   1576774546          1   \n",
       "11997   1576774413          1   \n",
       "11998   1576773960          1   \n",
       "11999   1576773156          1   \n",
       "\n",
       "                                                   title  \n",
       "0                                        The coronavirus  \n",
       "1                   COVID-19 Power, Control, and Profit!  \n",
       "2                    Dr. Andrew Kaufman disputes COVID19  \n",
       "3      Do someone remember an suppost radio transmiss...  \n",
       "4      Question: Bill Gates Malaria Vaccine Mutates A...  \n",
       "...                                                  ...  \n",
       "11995  Does Affirmative Action Worsen Bureaucratic Pe...  \n",
       "11996  Amazing, is this how our eyes look like under ...  \n",
       "11997                                      This is Deep.  \n",
       "11998  Cigarette butts are the most common form of li...  \n",
       "11999  A Low-tech School Vacation Keeping Kids Busy A...  \n",
       "\n",
       "[24000 rows x 3 columns]>"
      ]
     },
     "execution_count": 337,
     "metadata": {},
     "output_type": "execute_result"
    }
   ],
   "source": [
    "# Drop duplicates from Submissions:\n",
    "\n",
    "df_subs.drop_duplicates"
   ]
  },
  {
   "cell_type": "markdown",
   "metadata": {},
   "source": [
    "### Validate before Export:"
   ]
  },
  {
   "cell_type": "code",
   "execution_count": 338,
   "metadata": {},
   "outputs": [
    {
     "data": {
      "text/html": [
       "<div>\n",
       "<style scoped>\n",
       "    .dataframe tbody tr th:only-of-type {\n",
       "        vertical-align: middle;\n",
       "    }\n",
       "\n",
       "    .dataframe tbody tr th {\n",
       "        vertical-align: top;\n",
       "    }\n",
       "\n",
       "    .dataframe thead th {\n",
       "        text-align: right;\n",
       "    }\n",
       "</style>\n",
       "<table border=\"1\" class=\"dataframe\">\n",
       "  <thead>\n",
       "    <tr style=\"text-align: right;\">\n",
       "      <th></th>\n",
       "      <th>created_utc</th>\n",
       "      <th>subreddit</th>\n",
       "      <th>title</th>\n",
       "    </tr>\n",
       "  </thead>\n",
       "  <tbody>\n",
       "    <tr>\n",
       "      <th>0</th>\n",
       "      <td>1587078122</td>\n",
       "      <td>0</td>\n",
       "      <td>The coronavirus</td>\n",
       "    </tr>\n",
       "    <tr>\n",
       "      <th>1</th>\n",
       "      <td>1587076875</td>\n",
       "      <td>0</td>\n",
       "      <td>COVID-19 Power, Control, and Profit!</td>\n",
       "    </tr>\n",
       "    <tr>\n",
       "      <th>2</th>\n",
       "      <td>1587075153</td>\n",
       "      <td>0</td>\n",
       "      <td>Dr. Andrew Kaufman disputes COVID19</td>\n",
       "    </tr>\n",
       "    <tr>\n",
       "      <th>3</th>\n",
       "      <td>1587074999</td>\n",
       "      <td>0</td>\n",
       "      <td>Do someone remember an suppost radio transmiss...</td>\n",
       "    </tr>\n",
       "    <tr>\n",
       "      <th>4</th>\n",
       "      <td>1587074240</td>\n",
       "      <td>0</td>\n",
       "      <td>Question: Bill Gates Malaria Vaccine Mutates A...</td>\n",
       "    </tr>\n",
       "  </tbody>\n",
       "</table>\n",
       "</div>"
      ],
      "text/plain": [
       "   created_utc  subreddit                                              title\n",
       "0   1587078122          0                                    The coronavirus\n",
       "1   1587076875          0               COVID-19 Power, Control, and Profit!\n",
       "2   1587075153          0                Dr. Andrew Kaufman disputes COVID19\n",
       "3   1587074999          0  Do someone remember an suppost radio transmiss...\n",
       "4   1587074240          0  Question: Bill Gates Malaria Vaccine Mutates A..."
      ]
     },
     "execution_count": 338,
     "metadata": {},
     "output_type": "execute_result"
    }
   ],
   "source": [
    "df_subs.head()"
   ]
  },
  {
   "cell_type": "code",
   "execution_count": 339,
   "metadata": {},
   "outputs": [
    {
     "data": {
      "text/html": [
       "<div>\n",
       "<style scoped>\n",
       "    .dataframe tbody tr th:only-of-type {\n",
       "        vertical-align: middle;\n",
       "    }\n",
       "\n",
       "    .dataframe tbody tr th {\n",
       "        vertical-align: top;\n",
       "    }\n",
       "\n",
       "    .dataframe thead th {\n",
       "        text-align: right;\n",
       "    }\n",
       "</style>\n",
       "<table border=\"1\" class=\"dataframe\">\n",
       "  <thead>\n",
       "    <tr style=\"text-align: right;\">\n",
       "      <th></th>\n",
       "      <th>created_utc</th>\n",
       "      <th>subreddit</th>\n",
       "      <th>body</th>\n",
       "    </tr>\n",
       "  </thead>\n",
       "  <tbody>\n",
       "    <tr>\n",
       "      <th>0</th>\n",
       "      <td>1587081288</td>\n",
       "      <td>0</td>\n",
       "      <td>Trump was part of Epstein's ring too, he's the...</td>\n",
       "    </tr>\n",
       "    <tr>\n",
       "      <th>1</th>\n",
       "      <td>1587081284</td>\n",
       "      <td>0</td>\n",
       "      <td>If china was going to cripple us with a virus ...</td>\n",
       "    </tr>\n",
       "    <tr>\n",
       "      <th>2</th>\n",
       "      <td>1587081205</td>\n",
       "      <td>0</td>\n",
       "      <td>Damn...exactly</td>\n",
       "    </tr>\n",
       "    <tr>\n",
       "      <th>3</th>\n",
       "      <td>1587081197</td>\n",
       "      <td>0</td>\n",
       "      <td>Only if you’re not going to explain what you t...</td>\n",
       "    </tr>\n",
       "    <tr>\n",
       "      <th>4</th>\n",
       "      <td>1587081171</td>\n",
       "      <td>0</td>\n",
       "      <td>The pollution levels have gone down because we...</td>\n",
       "    </tr>\n",
       "  </tbody>\n",
       "</table>\n",
       "</div>"
      ],
      "text/plain": [
       "   created_utc  subreddit                                               body\n",
       "0   1587081288          0  Trump was part of Epstein's ring too, he's the...\n",
       "1   1587081284          0  If china was going to cripple us with a virus ...\n",
       "2   1587081205          0                                     Damn...exactly\n",
       "3   1587081197          0  Only if you’re not going to explain what you t...\n",
       "4   1587081171          0  The pollution levels have gone down because we..."
      ]
     },
     "execution_count": 339,
     "metadata": {},
     "output_type": "execute_result"
    }
   ],
   "source": [
    "df_comments.head()"
   ]
  },
  {
   "cell_type": "code",
   "execution_count": 309,
   "metadata": {},
   "outputs": [
    {
     "name": "stdout",
     "output_type": "stream",
     "text": [
      "<class 'pandas.core.frame.DataFrame'>\n",
      "Int64Index: 24000 entries, 0 to 11999\n",
      "Data columns (total 3 columns):\n",
      "created_utc    24000 non-null int64\n",
      "subreddit      24000 non-null int64\n",
      "title          24000 non-null object\n",
      "dtypes: int64(2), object(1)\n",
      "memory usage: 750.0+ KB\n"
     ]
    }
   ],
   "source": [
    "df_subs.info()"
   ]
  },
  {
   "cell_type": "code",
   "execution_count": 310,
   "metadata": {},
   "outputs": [
    {
     "name": "stdout",
     "output_type": "stream",
     "text": [
      "<class 'pandas.core.frame.DataFrame'>\n",
      "Int64Index: 33672 entries, 0 to 24999\n",
      "Data columns (total 3 columns):\n",
      "created_utc    33672 non-null int64\n",
      "subreddit      33672 non-null int64\n",
      "body           33672 non-null object\n",
      "dtypes: int64(2), object(1)\n",
      "memory usage: 1.0+ MB\n"
     ]
    }
   ],
   "source": [
    "df_comments.info()"
   ]
  },
  {
   "cell_type": "code",
   "execution_count": 317,
   "metadata": {},
   "outputs": [
    {
     "data": {
      "text/plain": [
       "1    12000\n",
       "0    12000\n",
       "Name: subreddit, dtype: int64"
      ]
     },
     "execution_count": 317,
     "metadata": {},
     "output_type": "execute_result"
    }
   ],
   "source": [
    "df_subs['subreddit'].value_counts()"
   ]
  },
  {
   "cell_type": "code",
   "execution_count": 316,
   "metadata": {},
   "outputs": [
    {
     "data": {
      "text/plain": [
       "1    16836\n",
       "0    16836\n",
       "Name: subreddit, dtype: int64"
      ]
     },
     "execution_count": 316,
     "metadata": {},
     "output_type": "execute_result"
    }
   ],
   "source": [
    "df_comments['subreddit'].value_counts()"
   ]
  },
  {
   "cell_type": "markdown",
   "metadata": {},
   "source": [
    "### Export merged and cleaned data to CSV:"
   ]
  },
  {
   "cell_type": "code",
   "execution_count": 313,
   "metadata": {},
   "outputs": [],
   "source": [
    "# Export Submissions Data:\n",
    "\n",
    "df_subs.to_csv('../data/merged_submissions.csv', index=False)"
   ]
  },
  {
   "cell_type": "code",
   "execution_count": 314,
   "metadata": {},
   "outputs": [],
   "source": [
    "# Export Comments Data:\n",
    "\n",
    "df_comments.to_csv('../data/merged_comments.csv', index=False)"
   ]
  }
 ],
 "metadata": {
  "kernelspec": {
   "display_name": "Python 3",
   "language": "python",
   "name": "python3"
  },
  "language_info": {
   "codemirror_mode": {
    "name": "ipython",
    "version": 3
   },
   "file_extension": ".py",
   "mimetype": "text/x-python",
   "name": "python",
   "nbconvert_exporter": "python",
   "pygments_lexer": "ipython3",
   "version": "3.7.6"
  }
 },
 "nbformat": 4,
 "nbformat_minor": 4
}
