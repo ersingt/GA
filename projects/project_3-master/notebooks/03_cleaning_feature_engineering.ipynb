{
 "cells": [
  {
   "cell_type": "markdown",
   "metadata": {},
   "source": [
    "## Cleaning and Feature Engingeering:"
   ]
  },
  {
   "cell_type": "code",
   "execution_count": 1,
   "metadata": {},
   "outputs": [],
   "source": [
    "# Import Libraries:\n",
    "\n",
    "import pandas as pd"
   ]
  },
  {
   "cell_type": "code",
   "execution_count": 2,
   "metadata": {},
   "outputs": [],
   "source": [
    "# Read in data:\n",
    "\n",
    "conspire = pd.read_csv('../data/conspire_pull.csv')\n",
    "science = pd.read_csv('../data/science_pull.csv')"
   ]
  },
  {
   "cell_type": "code",
   "execution_count": 3,
   "metadata": {},
   "outputs": [],
   "source": [
    "# Merge into single dataframe :\n",
    "\n",
    "df = conspire.append(science)"
   ]
  },
  {
   "cell_type": "code",
   "execution_count": 4,
   "metadata": {},
   "outputs": [
    {
     "data": {
      "text/plain": [
       "(24000, 5)"
      ]
     },
     "execution_count": 4,
     "metadata": {},
     "output_type": "execute_result"
    }
   ],
   "source": [
    "df.shape"
   ]
  },
  {
   "cell_type": "code",
   "execution_count": 5,
   "metadata": {},
   "outputs": [
    {
     "data": {
      "text/html": [
       "<div>\n",
       "<style scoped>\n",
       "    .dataframe tbody tr th:only-of-type {\n",
       "        vertical-align: middle;\n",
       "    }\n",
       "\n",
       "    .dataframe tbody tr th {\n",
       "        vertical-align: top;\n",
       "    }\n",
       "\n",
       "    .dataframe thead th {\n",
       "        text-align: right;\n",
       "    }\n",
       "</style>\n",
       "<table border=\"1\" class=\"dataframe\">\n",
       "  <thead>\n",
       "    <tr style=\"text-align: right;\">\n",
       "      <th></th>\n",
       "      <th>Unnamed: 0</th>\n",
       "      <th>created_utc</th>\n",
       "      <th>subreddit</th>\n",
       "      <th>selftext</th>\n",
       "      <th>title</th>\n",
       "    </tr>\n",
       "  </thead>\n",
       "  <tbody>\n",
       "    <tr>\n",
       "      <th>0</th>\n",
       "      <td>0</td>\n",
       "      <td>1587078122</td>\n",
       "      <td>conspiracytheories</td>\n",
       "      <td>Who else has noticed how the baby is being hit...</td>\n",
       "      <td>The coronavirus</td>\n",
       "    </tr>\n",
       "    <tr>\n",
       "      <th>1</th>\n",
       "      <td>1</td>\n",
       "      <td>1587076875</td>\n",
       "      <td>conspiracytheories</td>\n",
       "      <td>We are all pawns in this political game. Relea...</td>\n",
       "      <td>COVID-19 Power, Control, and Profit!</td>\n",
       "    </tr>\n",
       "    <tr>\n",
       "      <th>2</th>\n",
       "      <td>2</td>\n",
       "      <td>1587075153</td>\n",
       "      <td>conspiracytheories</td>\n",
       "      <td>NaN</td>\n",
       "      <td>Dr. Andrew Kaufman disputes COVID19</td>\n",
       "    </tr>\n",
       "    <tr>\n",
       "      <th>3</th>\n",
       "      <td>3</td>\n",
       "      <td>1587074999</td>\n",
       "      <td>conspiracytheories</td>\n",
       "      <td>[removed]</td>\n",
       "      <td>Do someone remember an suppost radio transmiss...</td>\n",
       "    </tr>\n",
       "    <tr>\n",
       "      <th>4</th>\n",
       "      <td>4</td>\n",
       "      <td>1587074240</td>\n",
       "      <td>conspiracytheories</td>\n",
       "      <td>Hey frendos, \\n\\nSomeone close to me has asser...</td>\n",
       "      <td>Question: Bill Gates Malaria Vaccine Mutates A...</td>\n",
       "    </tr>\n",
       "  </tbody>\n",
       "</table>\n",
       "</div>"
      ],
      "text/plain": [
       "   Unnamed: 0  created_utc           subreddit  \\\n",
       "0           0   1587078122  conspiracytheories   \n",
       "1           1   1587076875  conspiracytheories   \n",
       "2           2   1587075153  conspiracytheories   \n",
       "3           3   1587074999  conspiracytheories   \n",
       "4           4   1587074240  conspiracytheories   \n",
       "\n",
       "                                            selftext  \\\n",
       "0  Who else has noticed how the baby is being hit...   \n",
       "1  We are all pawns in this political game. Relea...   \n",
       "2                                                NaN   \n",
       "3                                          [removed]   \n",
       "4  Hey frendos, \\n\\nSomeone close to me has asser...   \n",
       "\n",
       "                                               title  \n",
       "0                                    The coronavirus  \n",
       "1               COVID-19 Power, Control, and Profit!  \n",
       "2                Dr. Andrew Kaufman disputes COVID19  \n",
       "3  Do someone remember an suppost radio transmiss...  \n",
       "4  Question: Bill Gates Malaria Vaccine Mutates A...  "
      ]
     },
     "execution_count": 5,
     "metadata": {},
     "output_type": "execute_result"
    }
   ],
   "source": [
    "df.head()"
   ]
  },
  {
   "cell_type": "code",
   "execution_count": 6,
   "metadata": {},
   "outputs": [],
   "source": [
    "# Drop Unnamed: 0 column:\n",
    "\n",
    "df = df.drop(columns='Unnamed: 0')"
   ]
  },
  {
   "cell_type": "markdown",
   "metadata": {},
   "source": [
    "### Generate Indicator Variable for Subreddit Source:"
   ]
  },
  {
   "cell_type": "code",
   "execution_count": 7,
   "metadata": {},
   "outputs": [],
   "source": [
    "# Map Conspiracy Theory Subreddit to 0, Science to 1:\n",
    "\n",
    "df['subreddit'] = df['subreddit'].map({'conspiracytheories': 0,'science': 1})"
   ]
  },
  {
   "cell_type": "markdown",
   "metadata": {},
   "source": [
    "### Export merged and engineered data to CSV:"
   ]
  },
  {
   "cell_type": "code",
   "execution_count": 8,
   "metadata": {},
   "outputs": [],
   "source": [
    "# Export:\n",
    "\n",
    "df.to_csv('../data/merged.csv')"
   ]
  }
 ],
 "metadata": {
  "kernelspec": {
   "display_name": "Python 3",
   "language": "python",
   "name": "python3"
  },
  "language_info": {
   "codemirror_mode": {
    "name": "ipython",
    "version": 3
   },
   "file_extension": ".py",
   "mimetype": "text/x-python",
   "name": "python",
   "nbconvert_exporter": "python",
   "pygments_lexer": "ipython3",
   "version": "3.7.6"
  }
 },
 "nbformat": 4,
 "nbformat_minor": 4
}
