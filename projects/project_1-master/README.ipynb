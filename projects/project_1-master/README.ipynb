{
 "cells": [
  {
   "cell_type": "markdown",
   "metadata": {},
   "source": [
    "## SAT Participation Analysis\n",
    "\n",
    "### Problem Statement\n",
    "Many states in the US have high participation in either the ACT or the SAT. Where should the College Board focus its resources with regards to increasing SAT participation?\n",
    "\n",
    "### Executive Summary\n",
    "This analysis used state-level SAT and ACT data from 2017 and 2018 to assess areas in which the College Board should focus funding efforts for increased SAT participation. Using standard Exploratory Data Analysis techniques, the data suggest several states which could be of high value to the College Board's market strategy. Specifically, five states, including Florida, showed greater than 50% participation on both the SAT and ACT, suggesting an uncharacteristically even distribution among students, and an open market. Given Florida's population and current lack of testing mandates for either test, we recommend it as the most efficient state in which to focus resources.  \n",
    "\n",
    "### Data Dictionary\n",
    "|Feature|Type|Dataset|Description|\n",
    "|---|---|---|---| \n",
    "|sat2017_state|object|SAT|Name of US State|\n",
    "|sat2017_partic|float64|SAT|Percent of Students Participating| \n",
    "|sat2017_erw|int64|SAT|Average Evidence-based Reading and Writing Score| \n",
    "|sat2017_math|int64|SAT|Average Math Score| \n",
    "|sat2017_total|int64|SAT|Average Total Score| \n",
    "|act2017_sate|object|ACT|Name of US State|\n",
    "|act2017_partic|float64|ACT|Percent of Students Participating|\n",
    "|act2017_english|float64|ACT|Average English Score|\n",
    "|act2017_math|float64|ACT|Average Math Score|\n",
    "|act2017_reading|float64|ACT|Average Reading Score|\n",
    "|act2017_sci|float64|ACT|Average Science Score|\n",
    "|act2017_comp|float64|ACT|Average Composite Score|\n",
    "|sat2018_state|object|SAT|Name of US State|\n",
    "|sat2018_partic|float64|SAT|Percent of Students Participating| \n",
    "|sat2018_erw|int64|SAT|Average Evidence-based Reading and Writing Score| \n",
    "|sat2018_math|int64|SAT|Average Math Score| \n",
    "|sat2018_total|int64|SAT|Average Total Score| \n",
    "|act2018_sate|object|ACT|Name of US State|\n",
    "|act2018_partic|float64|ACT|Percent of Students Participating|\n",
    "|act2018_english|float64|ACT|Average English Score|\n",
    "|act2018_math|float64|ACT|Average Math Score|\n",
    "|act2018_reading|float64|ACT|Average Reading Score|\n",
    "|act2018_sci|float64|ACT|Average Science Score|\n",
    "|act2018_comp|float64|ACT|Average Composite Score|\n",
    "\n",
    "### Conclusions and Recommendation\n",
    "There is little middle ground in the ACT vs SAT participation market, but a few states fall within the bimodal predisposition of states. Florida is of particular note for the below reasons, and based on evidence from this analysis:\n",
    "\n",
    "Florida:\n",
    "- Florida is one of only five states with greater than 50% participation on both tests, making it a split market \n",
    "- Florida has 2.7 million students\n",
    "- Florida has no requirement for either the SAT or ACT.\n",
    "\n",
    "Recommendation:\n",
    "Based on the available data, Florida is a market opportunity:\n",
    "- Students could use the boost in performance.\n",
    "- It is an open market--there is currently no mandate for either test.\n",
    "- It is a split market: Florida is one of only five  states with > 50% participation on both tests either year\n",
    "- It is a large market: 2.7 Million students--one of the largest student markets\n"
   ]
  },
  {
   "cell_type": "code",
   "execution_count": null,
   "metadata": {},
   "outputs": [],
   "source": []
  }
 ],
 "metadata": {
  "kernelspec": {
   "display_name": "Python 3",
   "language": "python",
   "name": "python3"
  },
  "language_info": {
   "codemirror_mode": {
    "name": "ipython",
    "version": 3
   },
   "file_extension": ".py",
   "mimetype": "text/x-python",
   "name": "python",
   "nbconvert_exporter": "python",
   "pygments_lexer": "ipython3",
   "version": "3.7.6"
  }
 },
 "nbformat": 4,
 "nbformat_minor": 4
}
