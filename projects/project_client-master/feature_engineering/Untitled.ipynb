{
 "cells": [
  {
   "cell_type": "markdown",
   "metadata": {},
   "source": [
    "# Feature Engineeeing"
   ]
  },
  {
   "cell_type": "code",
   "execution_count": 1,
   "metadata": {},
   "outputs": [
    {
     "name": "stdout",
     "output_type": "stream",
     "text": [
      "Requirement already satisfied: geotext in /Users/ericschultz/opt/anaconda3/envs/dsi/lib/python3.7/site-packages (0.4.0)\n",
      "Requirement already satisfied: geopy in /Users/ericschultz/opt/anaconda3/envs/dsi/lib/python3.7/site-packages (1.22.0)\n",
      "Requirement already satisfied: geographiclib<2,>=1.49 in /Users/ericschultz/opt/anaconda3/envs/dsi/lib/python3.7/site-packages (from geopy) (1.50)\n"
     ]
    }
   ],
   "source": [
    "# Import Libraries:\n",
    "\n",
    "import pandas as pd\n",
    "\n",
    "# ! pip install geotext\n",
    "# ! pip install geopy\n",
    "\n",
    "from urllib import request\n",
    "from geotext import GeoText\n",
    "\n",
    "from geopy.geocoders import Nominatim\n",
    "from geopy.exc import GeocoderTimedOut"
   ]
  },
  {
   "cell_type": "code",
   "execution_count": 4,
   "metadata": {},
   "outputs": [],
   "source": [
    "# Read CSVs:\n",
    "\n",
    "bc_before = pd.read_csv('../data/ne bomb cyclone data w:o location/ne_bomb_cyclone_before_tweets.csv')\n",
    "bc_during = pd.read_csv('../data/ne bomb cyclone data w:o location/ne_bomb_cyclone_during_tweets.csv')\n",
    "bc_after  = pd.read_csv('../data/ne bomb cyclone data w:o location/ne_bomb_cyclone_after_tweets.csv')\n",
    "\n",
    "jan_before = pd.read_csv('../data/january/january-early_after_tweets.csv')\n",
    "jan_during = pd.read_csv('../data/january/january-mid_during_tweets.csv')\n",
    "jan_after = pd.read_csv('../data/january/january-end_before_tweets.csv')\n",
    "\n",
    "jul_before = pd.read_csv('../data/january/january-early_after_tweets.csv')\n",
    "jul_during = pd.read_csv('../data/january/january-mid_during_tweets.csv')\n",
    "jul_after = pd.read_csv('../data/january/january-end_before_tweets.csv')\n"
   ]
  },
  {
   "cell_type": "code",
   "execution_count": null,
   "metadata": {},
   "outputs": [],
   "source": [
    "# Concat CSVs:\n",
    "\n",
    "dfs = [before, during, after]"
   ]
  },
  {
   "cell_type": "code",
   "execution_count": null,
   "metadata": {},
   "outputs": [],
   "source": [
    "# Concatenate all data into one DataFrame:\n",
    "\n",
    "df = pd.concat(dfs, ignore_index=True)"
   ]
  },
  {
   "cell_type": "code",
   "execution_count": null,
   "metadata": {},
   "outputs": [],
   "source": [
    "df.head()"
   ]
  },
  {
   "cell_type": "code",
   "execution_count": null,
   "metadata": {},
   "outputs": [],
   "source": [
    "places = GeoText(df[['Text']])\n",
    "cities = list(places.cities)\n",
    "cities"
   ]
  }
 ],
 "metadata": {
  "kernelspec": {
   "display_name": "Python 3",
   "language": "python",
   "name": "python3"
  },
  "language_info": {
   "codemirror_mode": {
    "name": "ipython",
    "version": 3
   },
   "file_extension": ".py",
   "mimetype": "text/x-python",
   "name": "python",
   "nbconvert_exporter": "python",
   "pygments_lexer": "ipython3",
   "version": "3.7.6"
  }
 },
 "nbformat": 4,
 "nbformat_minor": 4
}
