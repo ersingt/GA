{
 "cells": [
  {
   "cell_type": "markdown",
   "metadata": {},
   "source": [
    "# \"Fun with Loot Boxes\" Lab\n",
    "\n",
    "> Author: Caroline Schmitt, Matt Brems\n",
    "\n",
    "### Scenario:\n",
    "\n",
    "You're an analyst for [Zynga](https://en.wikipedia.org/wiki/Zynga), a gaming studio working on an event for an MMO (massively multiplayer online) game. This event is going to include **loot boxes**.\n",
    "\n",
    "<img src=\"https://vignette.wikia.nocookie.net/2007scape/images/0/06/Culinaromancer%27s_chest.png/revision/latest?cb=20180403231423\" alt=\"drawing\" width=\"150\"/> \n",
    "\n",
    "A loot box is basically a treasure chest in a game. This loot box can be opened to reveal a variety of items: some items are very rare and valuable, other items are common and less valuable. (You may consult [the esteemed Wikipedia](https://en.wikipedia.org/wiki/Loot_box) for a more extensive definition.)\n",
    "\n",
    "In our specific game, suppose that loot boxes can be obtained in one of two ways: \n",
    "- After every three hours of playing the game, a user will earn one loot box.\n",
    "- If the user wishes to purchase a loot box, they may pay $1 (in real money!) for a loot box.\n",
    "\n",
    "These loot boxes are very good for our business!\n",
    "- If a player earns a loot box, it means they are spending lots of time on the game. This often leads to advertisement revenue, they may tell their friends to join the game, etc.\n",
    "- If the player purchases a loot box, it means we've earned $1 from our customer.\n",
    "\n",
    "Suppose each loot box is opened to reveal either:\n",
    "- magical elixir (super rare, very valuable), or\n",
    "- nothing.\n",
    "\n",
    "Whether each loot box contains the elixir or nothing is **random**. Our boss wants some guidance on what sort of randomness to use on these loot boxes! \n",
    "- If the magical elixir is too rare, then users may not be motivated to try to get them, because they believe they'll never find the magical elixir.\n",
    "- If the magical elixir is too common, then users may not be motivated to try to get them, because the game has so much of the magical elixir that it isn't worthwhile to try to get it.\n",
    "\n",
    "However, our boss isn't a math-y type person! When explaining things to our boss, we need to explain the impact of our choices on the game as concretely as possible.\n",
    "\n",
    "### Version 1\n",
    "In our first version of the game, we'll say that loot boxes contain magical elixir 15% of the time and nothing 85% of the time.\n",
    "\n",
    "#### 1. Our boss asks, \"If a user buys 100 loot boxes, how many elixirs will they get?\" How would you respond?"
   ]
  },
  {
   "cell_type": "markdown",
   "metadata": {},
   "source": [
    "A user would probably get around 15 elixers."
   ]
  },
  {
   "cell_type": "markdown",
   "metadata": {},
   "source": [
    "#### 2. Our boss asks, \"How many loot boxes does someone have to purchase in order to definitely get elixir?\" How would you respond?"
   ]
  },
  {
   "cell_type": "markdown",
   "metadata": {},
   "source": [
    "The probability increases with each purchase, but it will never be certain. "
   ]
  },
  {
   "cell_type": "markdown",
   "metadata": {},
   "source": [
    "#### 3. Our boss asks, \"If a user earns 100 loot boxes, what is the chance that a user gets more than 20 elixirs?\" This is a bit more complicated, so let's break it down before answering."
   ]
  },
  {
   "cell_type": "markdown",
   "metadata": {},
   "source": [
    "#### 3a. Let's suppose my random variable $X$ counts up how many elixirs I observe out of my 100 loot boxes. Why is $X$ a discrete random variable?"
   ]
  },
  {
   "cell_type": "markdown",
   "metadata": {},
   "source": [
    "The outcome is countable."
   ]
  },
  {
   "cell_type": "markdown",
   "metadata": {},
   "source": [
    "#### 3b. Recall our discrete distributions: discrete uniform, Bernoulli, binomial, Poisson. Let's suppose my random variable $X$ counts up how many elixirs I observe out of my 100 loot boxes. What distribution is best suited for $X$? Why?\n",
    "- Hint: It may help to consider getting the magical elixir a \"success\" and getting nothing a \"failure.\" "
   ]
  },
  {
   "cell_type": "markdown",
   "metadata": {},
   "source": [
    "A Binomoal distribtion, becase we have a fixed number of  trials, each trial is independent, we have a constant probability of success (15%), and we have a binary outcome.\n"
   ]
  },
  {
   "cell_type": "markdown",
   "metadata": {},
   "source": [
    "#### 3c. Our boss asks, \"If a user earns 100 loot boxes, what is the chance that a user gets more than 20 elixirs?\" Use the probability mass function to answer the boss' question."
   ]
  },
  {
   "cell_type": "code",
   "execution_count": 3,
   "metadata": {},
   "outputs": [],
   "source": [
    "#import libs\n",
    "import numpy as np\n",
    "import matplotlib.pyplot as plt\n",
    "import scipy.stats as stats\n",
    "\n",
    "#just a function for probability of an elixer\n",
    "def elixer_prob(n):\n",
    "    got_elixer = 0\n",
    "    for i in range(n):\n",
    "            elixer = np.random.randint(1,101)\n",
    "            if elixer <= 15:\n",
    "                got_elixer += 1\n",
    "    return got_elixer/n"
   ]
  },
  {
   "cell_type": "code",
   "execution_count": 4,
   "metadata": {},
   "outputs": [
    {
     "data": {
      "text/plain": [
       "0.14942"
      ]
     },
     "execution_count": 4,
     "metadata": {},
     "output_type": "execute_result"
    }
   ],
   "source": [
    "elixer_prob(100000)"
   ]
  },
  {
   "cell_type": "code",
   "execution_count": 5,
   "metadata": {},
   "outputs": [
    {
     "data": {
      "text/plain": [
       "0.040224490661414626"
      ]
     },
     "execution_count": 5,
     "metadata": {},
     "output_type": "execute_result"
    }
   ],
   "source": [
    "# PMF for boss' question\n",
    "possible_elixers = list(range(0,101))\n",
    "\n",
    "p_elixer = .15\n",
    "n_trials = 100\n",
    "elixer_dist = stats.binom(n_trials, p_elixer)\n",
    "\n",
    "elixer_dist.pmf(20) # need to subtract from 1 here?"
   ]
  },
  {
   "cell_type": "code",
   "execution_count": 6,
   "metadata": {},
   "outputs": [],
   "source": [
    "# this gets us the pmf for 20, \n",
    "# but don't we need to add all pmf values >20?"
   ]
  },
  {
   "cell_type": "code",
   "execution_count": 7,
   "metadata": {},
   "outputs": [
    {
     "data": {
      "text/plain": [
       "<BarContainer object of 101 artists>"
      ]
     },
     "execution_count": 7,
     "metadata": {},
     "output_type": "execute_result"
    },
    {
     "data": {
      "image/png": "[encoded data removed]",
      "text/plain": [
       "<Figure size 432x288 with 1 Axes>"
      ]
     },
     "metadata": {
      "needs_background": "light"
     },
     "output_type": "display_data"
    }
   ],
   "source": [
    "# pmf graph\n",
    "plt.bar(possible_elixers,\n",
    "        elixer_dist.pmf(possible_elixers))"
   ]
  },
  {
   "cell_type": "code",
   "execution_count": 8,
   "metadata": {},
   "outputs": [],
   "source": [
    "# about 4%"
   ]
  },
  {
   "cell_type": "markdown",
   "metadata": {},
   "source": [
    "#### 3d. Our boss asks, \"If a user earns 100 loot boxes, what is the chance that a user gets more than 20 elixirs?\" Use the cumulative distribution function to answer the boss' question."
   ]
  },
  {
   "cell_type": "code",
   "execution_count": 9,
   "metadata": {},
   "outputs": [
    {
     "data": {
      "text/plain": [
       "0.06631976581888166"
      ]
     },
     "execution_count": 9,
     "metadata": {},
     "output_type": "execute_result"
    }
   ],
   "source": [
    "p_elixer = .15\n",
    "n_trials = 100\n",
    "elixer_dist = stats.binom(n_trials, p_elixer)\n",
    "\n",
    "1-elixer_dist.cdf(20) "
   ]
  },
  {
   "cell_type": "code",
   "execution_count": 10,
   "metadata": {},
   "outputs": [],
   "source": [
    "\n",
    "# About 6.6%"
   ]
  },
  {
   "cell_type": "code",
   "execution_count": 11,
   "metadata": {},
   "outputs": [
    {
     "data": {
      "text/plain": [
       "[<matplotlib.lines.Line2D at 0x1a1e57b050>]"
      ]
     },
     "execution_count": 11,
     "metadata": {},
     "output_type": "execute_result"
    },
    {
     "data": {
      "image/png": "[encoded data removed]",
      "text/plain": [
       "<Figure size 432x288 with 1 Axes>"
      ]
     },
     "metadata": {
      "needs_background": "light"
     },
     "output_type": "display_data"
    }
   ],
   "source": [
    "# cdf graph\n",
    "plt.step(possible_elixers,\n",
    "        elixer_dist.cdf(possible_elixers))"
   ]
  },
  {
   "cell_type": "markdown",
   "metadata": {},
   "source": [
    "#### 3e. Our boss asks, \"If a user earns 100 loot boxes, what is the chance that a user gets more than 20 elixirs?\" Answer your boss' question. *Remember that your boss is not a math-y person!*"
   ]
  },
  {
   "cell_type": "markdown",
   "metadata": {},
   "source": [
    "If a person earns 100 boxes, the chance of getting more elixers is about 6.6%"
   ]
  },
  {
   "cell_type": "markdown",
   "metadata": {},
   "source": [
    "#### 4. Your boss wants to know how many people purchased how many loot boxes last month. \n",
    "> For example, last month, 70% of users did not purchase any loot boxes. 10% of people purchased one loot box. 5% of people purchased two loot boxes... and so on.\n",
    "\n",
    "#### 4a. Recall our discrete distributions: discrete uniform, Bernoulli, binomial, Poisson. Let's suppose my random variable $Y$ counts up how many loot boxes each person purchased through the game last month. What distribution is best suited for $Y$? Why?"
   ]
  },
  {
   "cell_type": "markdown",
   "metadata": {},
   "source": [
    "Poisson, because the number of successes is is a non-negative integer, the events occur independently, the rate at which events occur is constant, two events cannot occur at exactly the same instant, and the probability of an event occurring in an interval is proportional to the length of the interval."
   ]
  },
  {
   "cell_type": "markdown",
   "metadata": {},
   "source": [
    "#### 4b. Suppose that, on average, your customers purchased 2.7 loot boxes last month. In order for your revenue to be at least $500,000, at least how many users would you need on your platform? (Round your answer up to the nearest thousand.) "
   ]
  },
  {
   "cell_type": "code",
   "execution_count": 12,
   "metadata": {},
   "outputs": [
    {
     "data": {
      "text/plain": [
       "185185.18518518517"
      ]
     },
     "execution_count": 12,
     "metadata": {},
     "output_type": "execute_result"
    }
   ],
   "source": [
    "# Show your work; leave your answer in a comment.\n",
    "# 1 box = $1\n",
    "# Ignoring revenue from time-in-game\n",
    "\n",
    "500_000/2.7\n",
    "# ... I feel like this approach is too simple."
   ]
  },
  {
   "cell_type": "code",
   "execution_count": 13,
   "metadata": {},
   "outputs": [],
   "source": [
    "# ~185,000 Users"
   ]
  },
  {
   "cell_type": "markdown",
   "metadata": {},
   "source": [
    "#### 4c. Assume that your platform has the numer of users you mentioned in your last answer. Suppose that your platform calls anyone who purchases 5 or more loot boxes in a month a \"high value user.\" How much money do you expect to have earned from \"high value users?\" How about \"low value users?\""
   ]
  },
  {
   "cell_type": "code",
   "execution_count": 14,
   "metadata": {},
   "outputs": [
    {
     "data": {
      "text/plain": [
       "356689.0417202975"
      ]
     },
     "execution_count": 14,
     "metadata": {},
     "output_type": "execute_result"
    }
   ],
   "source": [
    "# expected revenue of low value users (less than 5)\n",
    "n_users = 185000\n",
    "user_dist = stats.poisson(2.7)\n",
    "low_value=(user_dist.pmf(0)*n_users*0+\n",
    " user_dist.pmf(1)*n_users*1+\n",
    " user_dist.pmf(2)*n_users*2+\n",
    " user_dist.pmf(3)*n_users*3+\n",
    " user_dist.pmf(4)*n_users*4)\n",
    "low_value\n",
    "\n",
    "# this is summing the amount of users who would buy each respective number of boxes, \n",
    "# based on the poisson dist, multiplyed by the respective cost of each box"
   ]
  },
  {
   "cell_type": "code",
   "execution_count": 15,
   "metadata": {},
   "outputs": [
    {
     "name": "stdout",
     "output_type": "stream",
     "text": [
      "0.0\n",
      "33569.15\n",
      "90636.71\n",
      "122359.56\n",
      "110123.61\n"
     ]
    }
   ],
   "source": [
    "# here's another, probably definitely more efficient way:\n",
    "# #sometimescodingmakesmefeeldumb\n",
    "\n",
    "for i in range(0, 5):\n",
    "    user_dist = stats.poisson(2.7)\n",
    "    low_value = user_dist.pmf(i) * n_users * i\n",
    "    print(round(low_value, 2))"
   ]
  },
  {
   "cell_type": "code",
   "execution_count": 147,
   "metadata": {},
   "outputs": [
    {
     "data": {
      "text/plain": [
       "142810.95827970258"
      ]
     },
     "execution_count": 147,
     "metadata": {},
     "output_type": "execute_result"
    }
   ],
   "source": [
    "# expected revenue of high value users\n",
    "n_users = 185000\n",
    "ev=2.7\n",
    "n_users*ev-low_value"
   ]
  },
  {
   "cell_type": "markdown",
   "metadata": {},
   "source": [
    "#### 4d. Suppose that you want to summarize how many people purchased how many loot boxes last month for your boss. Since your boss isn't math-y, what are 2-4 summary numbers you might use to summarize this for your boss? (Your answers will vary here - use your judgment!)"
   ]
  },
  {
   "cell_type": "markdown",
   "metadata": {},
   "source": [
    "**NOTE**: When your Jupyter notebook is open, double-click on this Markdown cell! You can delete this text and put your answer to the previous problem in here."
   ]
  },
  {
   "cell_type": "markdown",
   "metadata": {},
   "source": [
    "#### 5. Your boss asks \"How many loot boxes does it take before someone gets their first elixir?\" Using `np.random.choice`, simulate how many loot boxes it takes somone to get their first elixir. \n",
    "- Start an empty list.\n",
    "- Use control flow to have someone open loot boxes repeatedly.\n",
    "- Once they open a loot box containing an elixir, record the number of loot boxes it took in the empty list.\n",
    "- Repeat this process 100,000 times. \n",
    "\n",
    "This simulates how long it takes for someone to open a loot box containing elixir. Share the 5th, 25th, 50th, 75th, and 95th percentiles.\n",
    "\n",
    "> You may find [this documentation](https://docs.scipy.org/doc/numpy/reference/generated/numpy.random.choice.html)  and [this documentation](https://docs.scipy.org/doc/numpy/reference/generated/numpy.percentile.html) helpful."
   ]
  },
  {
   "cell_type": "code",
   "execution_count": 16,
   "metadata": {},
   "outputs": [],
   "source": [
    "def first_elixer(n):\n",
    "    recorder=[]\n",
    "    \n",
    "    for i in range(n):\n",
    "        x='not_elixer'\n",
    "        counter=0\n",
    "        \n",
    "        while x=='not_elixer':\n",
    "            x=np.random.choice(['elixer', 'not_elixer'], p=[.15, .85])\n",
    "            counter+=1\n",
    "        recorder.append(counter)\n",
    "        \n",
    "    return(recorder)\n"
   ]
  },
  {
   "cell_type": "code",
   "execution_count": 17,
   "metadata": {},
   "outputs": [
    {
     "data": {
      "text/plain": [
       "array([ 1.,  2.,  5.,  9., 19.])"
      ]
     },
     "execution_count": 17,
     "metadata": {},
     "output_type": "execute_result"
    }
   ],
   "source": [
    "np.percentile(first_elixer(100000), [5,25,50,75,95])"
   ]
  },
  {
   "cell_type": "code",
   "execution_count": null,
   "metadata": {},
   "outputs": [],
   "source": [
    "# could use calrification on how to articulate findings \n",
    "# and some visulaizations would be nice? we'll get there."
   ]
  },
  {
   "cell_type": "markdown",
   "metadata": {},
   "source": [
    "**NOTE**: When your Jupyter notebook is open, double-click on this Markdown cell! You can delete this text and put your answer to the previous problem in here."
   ]
  },
  {
   "cell_type": "markdown",
   "metadata": {},
   "source": [
    "### Version 2\n",
    "\n",
    "After a substantial update to the game, suppose every loot box can be opened to reveal *one of four different* items:\n",
    "- magical elixir (occurs 1% of the time, most valuable)\n",
    "- golden pendant (occurs 9% of the time, valuable)\n",
    "- steel armor (occurs 30% of the time, semi-valuable)\n",
    "- bronze coin (occurs 60% of the time, least valuable)"
   ]
  },
  {
   "cell_type": "markdown",
   "metadata": {},
   "source": [
    "#### 6. Suppose you want repeat problem 5 above, but do that for the version 2 loot boxes so you can track how many loot boxes are needed to get each item? (e.g. You'd like to be able to say that on average it takes 10 trials to get a golden pendant, 3 trials to get steel armor, and so on.) What Python datatype is the best way to store this data? Why?"
   ]
  },
  {
   "cell_type": "code",
   "execution_count": 18,
   "metadata": {},
   "outputs": [
    {
     "ename": "IndentationError",
     "evalue": "unexpected indent (<ipython-input-18-8d5662efbc19>, line 6)",
     "output_type": "error",
     "traceback": [
      "\u001b[0;36m  File \u001b[0;32m\"<ipython-input-18-8d5662efbc19>\"\u001b[0;36m, line \u001b[0;32m6\u001b[0m\n\u001b[0;31m    while x=='not_elixer':\u001b[0m\n\u001b[0m    ^\u001b[0m\n\u001b[0;31mIndentationError\u001b[0m\u001b[0;31m:\u001b[0m unexpected indent\n"
     ]
    }
   ],
   "source": [
    "# OK, I think this needs to be a `while` loop.\n",
    "# I feel like a dict might a good data type to store these data:\n",
    "# {item: counter}, where the keys are the four items defined below, and the value is the list of number of tries before success\n",
    "# So, I want to generate a dictionary of each item with the corresponding list of tries.\n",
    "# Then, calculaute the percentiles for each item in the dictionary, as was done in Q5.\n",
    "# ... I think.\n",
    "\n",
    "def first_item(n):\n",
    "    recorder={item : success}\n",
    "    for i in range(n):\n",
    "        counter=0\n",
    "        x='not_elixer'\n",
    "            while x=='not_elixer':\n",
    "            x=np.random.choice(['magical elixer', \n",
    "                                'golden pendant', \n",
    "                                'steel armor', \n",
    "                                'bronze coin'], \n",
    "                               p=[.01, .09, .3, .6])\n",
    "            if x =='magical elixer':\n",
    "                append to dict.value\n",
    "            if x =='golden pendant':\n",
    "                append to dict.value\n",
    "            if x =='steel armor':\n",
    "                append to dict.value\n",
    "            if x =='bronze coin':\n",
    "                append to dict.value\n",
    "            \n",
    "            \n",
    "                \n",
    "                \n",
    "            counter+=1\n",
    "        recorder.append(counter)\n",
    "    return(recorder)"
   ]
  },
  {
   "cell_type": "code",
   "execution_count": 203,
   "metadata": {},
   "outputs": [],
   "source": [
    "def loot_type(n):\n",
    "    rmagical_elixer = []\n",
    "    rgolden_pendant = []\n",
    "    rsteel_armor = []\n",
    "    rbronze_coin = []   \n",
    "    for i in range(n):\n",
    "        magical_elixer = 0\n",
    "        golden_pendant = 0\n",
    "        steel_armor = 0\n",
    "        bronze_coin = 0\n",
    "        x=np.random.choice(['magical elixer', \n",
    "                        'golden pendant', \n",
    "                        'steel armor', \n",
    "                        'bronze coin'], \n",
    "                       p=[.01, .09, .3, .6])\n",
    "        if x =='magical elixer':\n",
    "                magical_elixer+=1\n",
    "                rmagical_elixer.append(magical_elixer)\n",
    "        elif x =='golden pendant':\n",
    "                golden_pendant+=1\n",
    "                rgolden_pendant.append(golden_pendant)\n",
    "        elif x =='steel armor':\n",
    "                steel_armor+=1\n",
    "                rsteel_armor.append(steel_armor)\n",
    "        elif x =='bronze coin':\n",
    "                bronze_coin +=1\n",
    "                rbronze_coin.append(bronze_coin)\n",
    "\n",
    "    return(rmagical_elixer)\n",
    "    return(rgolden_pendant)\n",
    "    return(rsteel_armor)\n",
    "    return(rbronze_coin)"
   ]
  },
  {
   "cell_type": "code",
   "execution_count": 195,
   "metadata": {},
   "outputs": [],
   "source": [
    "def loot_type(n):\n",
    "    recorder = {key:value}\n",
    "    for i in range(n):\n",
    "        counter = 0\n",
    "        loot_box = [\"magical_elixir\",\n",
    "            \"golden_pendant\",\n",
    "            \"Steel_armor\",\n",
    "            \"bronze_coin\"]\n",
    "        for loot in np.random.choice(loot_box, p=[.01, .09, .3, .6]):\n",
    "            if loot == 'magical_elixir':\n",
    "                new_loot_boxes['magical_elixir'] += 1\n",
    "            if loot == 'golden_pendant':\n",
    "                new_loot_boxes['golden_pendantr'] += 1\n",
    "            if loot == 'steel_armor':\n",
    "                new_loot_boxes['steel_armor'] += 1\n",
    "            if loot == 'bronze_coin':\n",
    "                new_loot_boxes['bronze_coin'] += 1"
   ]
  },
  {
   "cell_type": "code",
   "execution_count": 174,
   "metadata": {},
   "outputs": [],
   "source": [
    "def loot_type(n):\n",
    "    new_loot_boxes = {}\n",
    "    for i in range(n):\n",
    "        counter = 0\n",
    "        loot_box = [\"magical_elixir\",\n",
    "            \"golden_pendant\",\n",
    "            \"steel_armor\",\n",
    "            \"bronze_coin\"]\n",
    "        for loot in np.random.choice(loot_box, p=[.01, .09, .3, .6]):\n",
    "            if loot == 'magical_elixir':\n",
    "                new_loot_boxes[\"magical_elixir\"] += 1\n",
    "            if loot == 'golden_pendant':\n",
    "                new_loot_boxes[\"golden_pendant\"] += 1\n",
    "            if loot == 'steel_armor':\n",
    "                new_loot_boxes[\"steel_armor\"] += 1\n",
    "            if loot == 'bronze_coin':\n",
    "                new_loot_boxes[\"bronze_coin\"] += 1\n",
    "        new_loot_boxes.update(loot)\n",
    "    return"
   ]
  },
  {
   "cell_type": "code",
   "execution_count": 19,
   "metadata": {},
   "outputs": [],
   "source": [
    "def loot_type(n):\n",
    "    magical_elixir_list = []\n",
    "    golden_pendant_list = []\n",
    "    steel_armor_list = []\n",
    "    bronze_coin_list = []\n",
    "    loot_types = ['magical_elixir', 'golden_pendant', 'steel_armor', 'bronze_coin']\n",
    "    for loot in np.random.choice(['magical_elixir',\n",
    "                                  'golden_pendant',\n",
    "                                  'steel_armor',\n",
    "                                  'bronze_coin'], \n",
    "                                   p=[.01, .09, .3, .6]):\n",
    "            while loot == loot_types:\n",
    "                if loot == 'magical_elixir':\n",
    "                     magical_elixir_list.value().update()\n",
    "                elif loot == 'golden_pendant':\n",
    "                    golden_pendant_list.value().update()\n",
    "                elif loot == 'steel_armor':\n",
    "                    steel_armor_list.value().update()\n",
    "                elif loot == 'bronze_coin':\n",
    "                    bronze_coin_list.value().update()\n",
    "            break\n",
    "    return magical_elixir_list, golden_pendant_list, steel_armor_list, bronze_coin_list"
   ]
  },
  {
   "cell_type": "code",
   "execution_count": 20,
   "metadata": {},
   "outputs": [
    {
     "data": {
      "text/plain": [
       "([], [], [], [])"
      ]
     },
     "execution_count": 20,
     "metadata": {},
     "output_type": "execute_result"
    }
   ],
   "source": [
    "loot_type(100)"
   ]
  },
  {
   "cell_type": "markdown",
   "metadata": {},
   "source": [
    "#### 7. Suppose you and your boss want to measure whether \"Version 2\" is better than \"Version 1.\" What metrics do you think are important to measure? (Your answers will vary here - use your judgment!)"
   ]
  },
  {
   "cell_type": "markdown",
   "metadata": {},
   "source": []
  }
 ],
 "metadata": {
  "kernelspec": {
   "display_name": "Python 3",
   "language": "python",
   "name": "python3"
  },
  "language_info": {
   "codemirror_mode": {
    "name": "ipython",
    "version": 3
   },
   "file_extension": ".py",
   "mimetype": "text/x-python",
   "name": "python",
   "nbconvert_exporter": "python",
   "pygments_lexer": "ipython3",
   "version": "3.7.6"
  }
 },
 "nbformat": 4,
 "nbformat_minor": 4
}
